{
  "cells": [
    {
      "cell_type": "markdown",
      "metadata": {
        "id": "b5WU4yjjpWL5"
      },
      "source": [
        "# **FactoryIQ: ML-Driven Supplier Defect Impact Predictor**"
      ]
    },
    {
      "cell_type": "markdown",
      "metadata": {},
      "source": [
        "<div style=\"text-align:center;\">\n",
        "  <img src=\"https://cdnl.iconscout.com/lottie/premium/thumb/auto-factory-workers-supervising-assembling-motor-vehicles-13456218-10901100.gif\" width=\"68%\">\n",
        "</div>\n"
      ]
    },
    {
      "cell_type": "markdown",
      "metadata": {
        "id": "ycFqtaiMklEk"
      },
      "source": [
        "# Project Objective\n",
        "To develop a machine learning solution that predicts the total downtime (in minutes) arising from supplier-related quality defects at manufacturing plants. The project aims to provide actionable insights for minimizing operational losses, guiding resource allocation, and informing supplier quality management across a multi-plant manufacturing network."
      ]
    },
    {
      "cell_type": "markdown",
      "metadata": {
        "id": "77QToX97ptS0"
      },
      "source": [
        "## Business Problem\n",
        "Supplier defects lead to unplanned production downtime in manufacturing plants, incurring substantial costs and disrupting delivery schedules. The company operates multiple plants in different locations, each producing various categories of products and sourcing materials from a diverse supplier base. Despite ongoing efforts, downtime caused by quality defects remains unpredictable and unevenly distributed across plants and product categories. Business leaders need to:\n",
        "\n",
        "- Pinpoint which plant locations and product categories experience the highest downtime due to supplier defects\n",
        "- Proactively plan interventions and allocate quality assurance resources to locations and products at greatest risk\n",
        "- Enhance supplier vetting and development programs based on data-driven downtime risk assessments"
      ]
    },
    {
      "cell_type": "markdown",
      "metadata": {
        "id": "iy5fR7ytrpq1"
      },
      "source": [
        "\n",
        "\n",
        "---\n",
        "\n"
      ]
    },
    {
      "cell_type": "markdown",
      "metadata": {
        "id": "gZvnZTDcrpnQ"
      },
      "source": [
        "### **Importing libraries**"
      ]
    },
    {
      "cell_type": "code",
      "execution_count": 7,
      "metadata": {
        "id": "_BUN0X5gkdLq"
      },
      "outputs": [],
      "source": [
        "import pandas as pd\n",
        "import numpy as np\n",
        "import matplotlib.pyplot as plt\n",
        "import seaborn as sns\n",
        "import scipy.stats as stats\n",
        "from xgboost import XGBRegressor\n",
        "import statsmodels.api as sm\n",
        "\n",
        "from sklearn.tree import DecisionTreeRegressor\n",
        "from sklearn.ensemble import RandomForestRegressor, AdaBoostRegressor, GradientBoostingRegressor\n",
        "from sklearn.metrics import mean_absolute_error, mean_squared_error, r2_score, silhouette_score\n",
        "from sklearn.model_selection import cross_val_score, train_test_split\n",
        "from sklearn.cluster import KMeans\n",
        "from sklearn.preprocessing import OneHotEncoder, StandardScaler\n",
        "\n",
        "# Set plotting styles for better visuals\n",
        "sns.set_style('whitegrid')\n",
        "plt.rcParams['figure.figsize'] = (8, 4)"
      ]
    },
    {
      "cell_type": "code",
      "execution_count": 8,
      "metadata": {
        "id": "r0RTcvBXkh_0"
      },
      "outputs": [],
      "source": [
        "from warnings import filterwarnings\n",
        "filterwarnings('ignore')"
      ]
    },
    {
      "cell_type": "code",
      "execution_count": 11,
      "metadata": {
        "colab": {
          "base_uri": "https://localhost:8080/",
          "height": 73
        },
        "id": "Zk-WUZW9kh8X",
        "outputId": "6de349d5-8da8-4d29-e45c-6a1dfc98dfed"
      },
      "outputs": [],
      "source": [
        "## Use this code block when executing this ipynb file in google colab.\n",
        "# from google.colab import files\n",
        "# uploaded = files.upload()\n",
        "\n",
        "# import io\n",
        "# df = pd.read_excel(io.BytesIO(uploaded['Economy-Supplier_Quality_Analysis_Dataset.xlsx']))"
      ]
    },
    {
      "cell_type": "code",
      "execution_count": 13,
      "metadata": {},
      "outputs": [],
      "source": [
        "df = pd.read_excel('Economy-Supplier_Quality_Analysis_Dataset.xlsx')"
      ]
    },
    {
      "cell_type": "code",
      "execution_count": 14,
      "metadata": {
        "id": "VrYELgNmpeF7"
      },
      "outputs": [],
      "source": [
        "# making a dataframe copy\n",
        "batches = df.copy()"
      ]
    },
    {
      "cell_type": "code",
      "execution_count": 15,
      "metadata": {
        "colab": {
          "base_uri": "https://localhost:8080/",
          "height": 206
        },
        "id": "-8FeI30DpeCb",
        "outputId": "4a0c79f4-668d-495e-83f0-53f926ef1f3e"
      },
      "outputs": [
        {
          "data": {
            "text/html": [
              "<div>\n",
              "<style scoped>\n",
              "    .dataframe tbody tr th:only-of-type {\n",
              "        vertical-align: middle;\n",
              "    }\n",
              "\n",
              "    .dataframe tbody tr th {\n",
              "        vertical-align: top;\n",
              "    }\n",
              "\n",
              "    .dataframe thead th {\n",
              "        text-align: right;\n",
              "    }\n",
              "</style>\n",
              "<table border=\"1\" class=\"dataframe\">\n",
              "  <thead>\n",
              "    <tr style=\"text-align: right;\">\n",
              "      <th></th>\n",
              "      <th>Date</th>\n",
              "      <th>Vendor</th>\n",
              "      <th>Plant Location</th>\n",
              "      <th>State</th>\n",
              "      <th>Category</th>\n",
              "      <th>Material Type</th>\n",
              "      <th>Defect Type</th>\n",
              "      <th>Defect</th>\n",
              "      <th>Total Defect Qty</th>\n",
              "      <th>Total Downtime Minutes</th>\n",
              "    </tr>\n",
              "  </thead>\n",
              "  <tbody>\n",
              "    <tr>\n",
              "      <th>0</th>\n",
              "      <td>2013-04-13</td>\n",
              "      <td>Gabvine</td>\n",
              "      <td>Reading</td>\n",
              "      <td>MN</td>\n",
              "      <td>Logistics</td>\n",
              "      <td>Film</td>\n",
              "      <td>Impact</td>\n",
              "      <td>Damaged Secondary Packaging</td>\n",
              "      <td>326975.0</td>\n",
              "      <td>3252.0</td>\n",
              "    </tr>\n",
              "    <tr>\n",
              "      <th>1</th>\n",
              "      <td>2014-03-12</td>\n",
              "      <td>Linkbridge</td>\n",
              "      <td>Prescott</td>\n",
              "      <td>NY</td>\n",
              "      <td>Packaging</td>\n",
              "      <td>Film</td>\n",
              "      <td>No Impact</td>\n",
              "      <td>Foreign Material</td>\n",
              "      <td>NaN</td>\n",
              "      <td>2337.0</td>\n",
              "    </tr>\n",
              "    <tr>\n",
              "      <th>2</th>\n",
              "      <td>2013-09-28</td>\n",
              "      <td>Realpoint</td>\n",
              "      <td>Florence</td>\n",
              "      <td>IL</td>\n",
              "      <td>Mechanicals</td>\n",
              "      <td>Raw Materials</td>\n",
              "      <td>No Impact</td>\n",
              "      <td>Foreign objects found</td>\n",
              "      <td>82253.0</td>\n",
              "      <td>828.0</td>\n",
              "    </tr>\n",
              "    <tr>\n",
              "      <th>3</th>\n",
              "      <td>2013-04-17</td>\n",
              "      <td>Latz</td>\n",
              "      <td>Westside</td>\n",
              "      <td>NC</td>\n",
              "      <td>Logistics</td>\n",
              "      <td>Corrugate</td>\n",
              "      <td>Impact</td>\n",
              "      <td>Gap Variation</td>\n",
              "      <td>189966.0</td>\n",
              "      <td>1935.0</td>\n",
              "    </tr>\n",
              "    <tr>\n",
              "      <th>4</th>\n",
              "      <td>2013-03-13</td>\n",
              "      <td>Skiptube</td>\n",
              "      <td>Bruce Crossing</td>\n",
              "      <td>NJ</td>\n",
              "      <td>Goods &amp; Services</td>\n",
              "      <td>Controllers</td>\n",
              "      <td>Rejected</td>\n",
              "      <td>Gap Variation</td>\n",
              "      <td>103577.0</td>\n",
              "      <td>1111.0</td>\n",
              "    </tr>\n",
              "  </tbody>\n",
              "</table>\n",
              "</div>"
            ],
            "text/plain": [
              "        Date      Vendor  Plant Location State          Category  \\\n",
              "0 2013-04-13     Gabvine         Reading    MN         Logistics   \n",
              "1 2014-03-12  Linkbridge        Prescott    NY         Packaging   \n",
              "2 2013-09-28   Realpoint        Florence    IL       Mechanicals   \n",
              "3 2013-04-17        Latz        Westside    NC         Logistics   \n",
              "4 2013-03-13    Skiptube  Bruce Crossing    NJ  Goods & Services   \n",
              "\n",
              "   Material Type Defect Type                       Defect  Total Defect Qty  \\\n",
              "0           Film      Impact  Damaged Secondary Packaging          326975.0   \n",
              "1           Film   No Impact             Foreign Material               NaN   \n",
              "2  Raw Materials   No Impact        Foreign objects found           82253.0   \n",
              "3      Corrugate      Impact                Gap Variation          189966.0   \n",
              "4    Controllers    Rejected                Gap Variation          103577.0   \n",
              "\n",
              "   Total Downtime Minutes  \n",
              "0                  3252.0  \n",
              "1                  2337.0  \n",
              "2                   828.0  \n",
              "3                  1935.0  \n",
              "4                  1111.0  "
            ]
          },
          "execution_count": 15,
          "metadata": {},
          "output_type": "execute_result"
        }
      ],
      "source": [
        "# display first 5 rows\n",
        "batches.head()"
      ]
    },
    {
      "cell_type": "code",
      "execution_count": 16,
      "metadata": {
        "colab": {
          "base_uri": "https://localhost:8080/",
          "height": 206
        },
        "id": "UvANP64zpd_h",
        "outputId": "ae6fc027-c2af-4de4-b22b-6ff39ab7b091"
      },
      "outputs": [
        {
          "data": {
            "text/html": [
              "<div>\n",
              "<style scoped>\n",
              "    .dataframe tbody tr th:only-of-type {\n",
              "        vertical-align: middle;\n",
              "    }\n",
              "\n",
              "    .dataframe tbody tr th {\n",
              "        vertical-align: top;\n",
              "    }\n",
              "\n",
              "    .dataframe thead th {\n",
              "        text-align: right;\n",
              "    }\n",
              "</style>\n",
              "<table border=\"1\" class=\"dataframe\">\n",
              "  <thead>\n",
              "    <tr style=\"text-align: right;\">\n",
              "      <th></th>\n",
              "      <th>Date</th>\n",
              "      <th>Vendor</th>\n",
              "      <th>Plant Location</th>\n",
              "      <th>State</th>\n",
              "      <th>Category</th>\n",
              "      <th>Material Type</th>\n",
              "      <th>Defect Type</th>\n",
              "      <th>Defect</th>\n",
              "      <th>Total Defect Qty</th>\n",
              "      <th>Total Downtime Minutes</th>\n",
              "    </tr>\n",
              "  </thead>\n",
              "  <tbody>\n",
              "    <tr>\n",
              "      <th>9995</th>\n",
              "      <td>2014-01-24</td>\n",
              "      <td>Bubblebox</td>\n",
              "      <td>Frazer</td>\n",
              "      <td>MT</td>\n",
              "      <td>Mechanicals</td>\n",
              "      <td>Corrugate</td>\n",
              "      <td>No Impact</td>\n",
              "      <td>Cracked</td>\n",
              "      <td>999759.0</td>\n",
              "      <td>5000.0</td>\n",
              "    </tr>\n",
              "    <tr>\n",
              "      <th>9996</th>\n",
              "      <td>2014-09-09</td>\n",
              "      <td>Brainbox</td>\n",
              "      <td>Riverside</td>\n",
              "      <td>MN</td>\n",
              "      <td>Logistics</td>\n",
              "      <td>Corrugate</td>\n",
              "      <td>Rejected</td>\n",
              "      <td>Incorrect Labeling</td>\n",
              "      <td>486620.0</td>\n",
              "      <td>4919.0</td>\n",
              "    </tr>\n",
              "    <tr>\n",
              "      <th>9997</th>\n",
              "      <td>2014-04-28</td>\n",
              "      <td>Demivee</td>\n",
              "      <td>New Britain</td>\n",
              "      <td>OH</td>\n",
              "      <td>Logistics</td>\n",
              "      <td>Raw Materials</td>\n",
              "      <td>Rejected</td>\n",
              "      <td>Warped</td>\n",
              "      <td>444030.0</td>\n",
              "      <td>4510.0</td>\n",
              "    </tr>\n",
              "    <tr>\n",
              "      <th>9998</th>\n",
              "      <td>2013-05-27</td>\n",
              "      <td>Eamia</td>\n",
              "      <td>Frazer</td>\n",
              "      <td>OR</td>\n",
              "      <td>Mechanicals</td>\n",
              "      <td>Film</td>\n",
              "      <td>Rejected</td>\n",
              "      <td>Wrong Fasteners</td>\n",
              "      <td>726718.0</td>\n",
              "      <td>5000.0</td>\n",
              "    </tr>\n",
              "    <tr>\n",
              "      <th>9999</th>\n",
              "      <td>2013-10-06</td>\n",
              "      <td>Feedfire</td>\n",
              "      <td>June Lake</td>\n",
              "      <td>NY</td>\n",
              "      <td>Mechanicals</td>\n",
              "      <td>Corrugate</td>\n",
              "      <td>Impact</td>\n",
              "      <td>String Defects</td>\n",
              "      <td>959926.0</td>\n",
              "      <td>5000.0</td>\n",
              "    </tr>\n",
              "  </tbody>\n",
              "</table>\n",
              "</div>"
            ],
            "text/plain": [
              "           Date     Vendor Plant Location State     Category  Material Type  \\\n",
              "9995 2014-01-24  Bubblebox         Frazer    MT  Mechanicals      Corrugate   \n",
              "9996 2014-09-09   Brainbox      Riverside    MN    Logistics      Corrugate   \n",
              "9997 2014-04-28    Demivee    New Britain    OH    Logistics  Raw Materials   \n",
              "9998 2013-05-27      Eamia         Frazer    OR  Mechanicals           Film   \n",
              "9999 2013-10-06   Feedfire      June Lake    NY  Mechanicals      Corrugate   \n",
              "\n",
              "     Defect Type              Defect  Total Defect Qty  Total Downtime Minutes  \n",
              "9995   No Impact             Cracked          999759.0                  5000.0  \n",
              "9996    Rejected  Incorrect Labeling          486620.0                  4919.0  \n",
              "9997    Rejected              Warped          444030.0                  4510.0  \n",
              "9998    Rejected     Wrong Fasteners          726718.0                  5000.0  \n",
              "9999      Impact      String Defects          959926.0                  5000.0  "
            ]
          },
          "execution_count": 16,
          "metadata": {},
          "output_type": "execute_result"
        }
      ],
      "source": [
        "# last 5 rows\n",
        "batches.tail()"
      ]
    },
    {
      "cell_type": "code",
      "execution_count": 17,
      "metadata": {
        "colab": {
          "base_uri": "https://localhost:8080/"
        },
        "id": "peQXcYF1pd85",
        "outputId": "0d40c541-5485-4a8f-d878-025297330f59"
      },
      "outputs": [
        {
          "name": "stdout",
          "output_type": "stream",
          "text": [
            "<class 'pandas.core.frame.DataFrame'>\n",
            "RangeIndex: 10000 entries, 0 to 9999\n",
            "Data columns (total 10 columns):\n",
            " #   Column                  Non-Null Count  Dtype         \n",
            "---  ------                  --------------  -----         \n",
            " 0   Date                    10000 non-null  datetime64[ns]\n",
            " 1   Vendor                  10000 non-null  object        \n",
            " 2   Plant Location          10000 non-null  object        \n",
            " 3   State                   10000 non-null  object        \n",
            " 4   Category                10000 non-null  object        \n",
            " 5   Material Type           10000 non-null  object        \n",
            " 6   Defect Type             10000 non-null  object        \n",
            " 7   Defect                  10000 non-null  object        \n",
            " 8   Total Defect Qty        9589 non-null   float64       \n",
            " 9   Total Downtime Minutes  9604 non-null   float64       \n",
            "dtypes: datetime64[ns](1), float64(2), object(7)\n",
            "memory usage: 781.4+ KB\n"
          ]
        }
      ],
      "source": [
        "# checking info\n",
        "batches.info()"
      ]
    },
    {
      "cell_type": "code",
      "execution_count": 18,
      "metadata": {
        "colab": {
          "base_uri": "https://localhost:8080/",
          "height": 397
        },
        "id": "WkvOIojSpd6A",
        "outputId": "3e4aed23-6bbf-41e3-9abd-56ad602be94b"
      },
      "outputs": [
        {
          "data": {
            "text/plain": [
              "Date                        0\n",
              "Vendor                      0\n",
              "Plant Location              0\n",
              "State                       0\n",
              "Category                    0\n",
              "Material Type               0\n",
              "Defect Type                 0\n",
              "Defect                      0\n",
              "Total Defect Qty          411\n",
              "Total Downtime Minutes    396\n",
              "dtype: int64"
            ]
          },
          "execution_count": 18,
          "metadata": {},
          "output_type": "execute_result"
        }
      ],
      "source": [
        "# checking null values\n",
        "batches.isnull().sum()"
      ]
    },
    {
      "cell_type": "code",
      "execution_count": 19,
      "metadata": {
        "colab": {
          "base_uri": "https://localhost:8080/"
        },
        "id": "8h7Q3UzLpd3N",
        "outputId": "f75b961c-57a7-415a-9f3e-4367307c960e"
      },
      "outputs": [
        {
          "name": "stdout",
          "output_type": "stream",
          "text": [
            "Total rows are 10000 and Total columns are 10\n"
          ]
        }
      ],
      "source": [
        "# shape of the df\n",
        "print(f\"Total rows are {batches.shape[0]} and Total columns are {batches.shape[1]}\")"
      ]
    },
    {
      "cell_type": "code",
      "execution_count": 20,
      "metadata": {
        "colab": {
          "base_uri": "https://localhost:8080/",
          "height": 300
        },
        "id": "iHNOGgympd0Y",
        "outputId": "7dfea6ba-e62e-4f5a-83a6-8286a34761db"
      },
      "outputs": [
        {
          "data": {
            "text/html": [
              "<div>\n",
              "<style scoped>\n",
              "    .dataframe tbody tr th:only-of-type {\n",
              "        vertical-align: middle;\n",
              "    }\n",
              "\n",
              "    .dataframe tbody tr th {\n",
              "        vertical-align: top;\n",
              "    }\n",
              "\n",
              "    .dataframe thead th {\n",
              "        text-align: right;\n",
              "    }\n",
              "</style>\n",
              "<table border=\"1\" class=\"dataframe\">\n",
              "  <thead>\n",
              "    <tr style=\"text-align: right;\">\n",
              "      <th></th>\n",
              "      <th>Date</th>\n",
              "      <th>Total Defect Qty</th>\n",
              "      <th>Total Downtime Minutes</th>\n",
              "    </tr>\n",
              "  </thead>\n",
              "  <tbody>\n",
              "    <tr>\n",
              "      <th>count</th>\n",
              "      <td>10000</td>\n",
              "      <td>9589.000000</td>\n",
              "      <td>9604.000000</td>\n",
              "    </tr>\n",
              "    <tr>\n",
              "      <th>mean</th>\n",
              "      <td>2014-01-01 01:59:39.840000</td>\n",
              "      <td>458852.493378</td>\n",
              "      <td>3358.459496</td>\n",
              "    </tr>\n",
              "    <tr>\n",
              "      <th>min</th>\n",
              "      <td>2013-01-01 00:00:00</td>\n",
              "      <td>5427.000000</td>\n",
              "      <td>86.000000</td>\n",
              "    </tr>\n",
              "    <tr>\n",
              "      <th>25%</th>\n",
              "      <td>2013-07-01 00:00:00</td>\n",
              "      <td>181533.000000</td>\n",
              "      <td>1843.000000</td>\n",
              "    </tr>\n",
              "    <tr>\n",
              "      <th>50%</th>\n",
              "      <td>2014-01-02 00:00:00</td>\n",
              "      <td>360887.000000</td>\n",
              "      <td>3627.000000</td>\n",
              "    </tr>\n",
              "    <tr>\n",
              "      <th>75%</th>\n",
              "      <td>2014-07-04 00:00:00</td>\n",
              "      <td>729132.000000</td>\n",
              "      <td>5000.000000</td>\n",
              "    </tr>\n",
              "    <tr>\n",
              "      <th>max</th>\n",
              "      <td>2014-12-30 00:00:00</td>\n",
              "      <td>999759.000000</td>\n",
              "      <td>5000.000000</td>\n",
              "    </tr>\n",
              "    <tr>\n",
              "      <th>std</th>\n",
              "      <td>NaN</td>\n",
              "      <td>326047.803718</td>\n",
              "      <td>1612.121097</td>\n",
              "    </tr>\n",
              "  </tbody>\n",
              "</table>\n",
              "</div>"
            ],
            "text/plain": [
              "                             Date  Total Defect Qty  Total Downtime Minutes\n",
              "count                       10000       9589.000000             9604.000000\n",
              "mean   2014-01-01 01:59:39.840000     458852.493378             3358.459496\n",
              "min           2013-01-01 00:00:00       5427.000000               86.000000\n",
              "25%           2013-07-01 00:00:00     181533.000000             1843.000000\n",
              "50%           2014-01-02 00:00:00     360887.000000             3627.000000\n",
              "75%           2014-07-04 00:00:00     729132.000000             5000.000000\n",
              "max           2014-12-30 00:00:00     999759.000000             5000.000000\n",
              "std                           NaN     326047.803718             1612.121097"
            ]
          },
          "execution_count": 20,
          "metadata": {},
          "output_type": "execute_result"
        }
      ],
      "source": [
        "# Descriptive stats\n",
        "batches.describe()"
      ]
    },
    {
      "cell_type": "markdown",
      "metadata": {
        "id": "MzVcFYmpvAo6"
      },
      "source": [
        "#### Inferences from the Descriptive Statistics\n",
        "Total Defect Qty:\n",
        "- Ranges widely (5,427 to 999,759) and is highly variable.\n",
        "- Right-skewed: most values are lower, but some very high, pulling up the mean.\n",
        "\n",
        "Total Downtime Minutes:\n",
        "- Also widely spread (86 to 5,000).\n",
        "- Many records are capped at 5,000 minutes, possibly due to a business or synthetic data limit.\n",
        "\n",
        "Data Quality:\n",
        "- Some missing values exist, which should be imputed (median is recommended).\n",
        "\n",
        "Implication:\n",
        "- The data shows real-world-like variability and operational diversity, but frequent capping at 5,000 may affect extreme value modeling.\n",
        "\n",
        "\\\n",
        "\n",
        "**Conclusion:**\n",
        "Review the 5,000-minute cap, use median imputation for missing values, and be aware that predictions may be influenced by the high frequency of large downtime events.\n"
      ]
    },
    {
      "cell_type": "code",
      "execution_count": 21,
      "metadata": {
        "colab": {
          "base_uri": "https://localhost:8080/",
          "height": 175
        },
        "id": "NTdIWR7jpdxd",
        "outputId": "46882b69-2d87-41e9-e9a4-a404c8e83333"
      },
      "outputs": [
        {
          "data": {
            "text/html": [
              "<div>\n",
              "<style scoped>\n",
              "    .dataframe tbody tr th:only-of-type {\n",
              "        vertical-align: middle;\n",
              "    }\n",
              "\n",
              "    .dataframe tbody tr th {\n",
              "        vertical-align: top;\n",
              "    }\n",
              "\n",
              "    .dataframe thead th {\n",
              "        text-align: right;\n",
              "    }\n",
              "</style>\n",
              "<table border=\"1\" class=\"dataframe\">\n",
              "  <thead>\n",
              "    <tr style=\"text-align: right;\">\n",
              "      <th></th>\n",
              "      <th>Vendor</th>\n",
              "      <th>Plant Location</th>\n",
              "      <th>State</th>\n",
              "      <th>Category</th>\n",
              "      <th>Material Type</th>\n",
              "      <th>Defect Type</th>\n",
              "      <th>Defect</th>\n",
              "    </tr>\n",
              "  </thead>\n",
              "  <tbody>\n",
              "    <tr>\n",
              "      <th>count</th>\n",
              "      <td>10000</td>\n",
              "      <td>10000</td>\n",
              "      <td>10000</td>\n",
              "      <td>10000</td>\n",
              "      <td>10000</td>\n",
              "      <td>10000</td>\n",
              "      <td>10000</td>\n",
              "    </tr>\n",
              "    <tr>\n",
              "      <th>unique</th>\n",
              "      <td>318</td>\n",
              "      <td>30</td>\n",
              "      <td>21</td>\n",
              "      <td>6</td>\n",
              "      <td>22</td>\n",
              "      <td>3</td>\n",
              "      <td>263</td>\n",
              "    </tr>\n",
              "    <tr>\n",
              "      <th>top</th>\n",
              "      <td>Feedfire</td>\n",
              "      <td>Riverside</td>\n",
              "      <td>MI</td>\n",
              "      <td>Mechanicals</td>\n",
              "      <td>Raw Materials</td>\n",
              "      <td>No Impact</td>\n",
              "      <td>Not Certified</td>\n",
              "    </tr>\n",
              "    <tr>\n",
              "      <th>freq</th>\n",
              "      <td>58</td>\n",
              "      <td>399</td>\n",
              "      <td>1787</td>\n",
              "      <td>3061</td>\n",
              "      <td>2925</td>\n",
              "      <td>3978</td>\n",
              "      <td>624</td>\n",
              "    </tr>\n",
              "  </tbody>\n",
              "</table>\n",
              "</div>"
            ],
            "text/plain": [
              "          Vendor Plant Location  State     Category  Material Type  \\\n",
              "count      10000          10000  10000        10000          10000   \n",
              "unique       318             30     21            6             22   \n",
              "top     Feedfire      Riverside     MI  Mechanicals  Raw Materials   \n",
              "freq          58            399   1787         3061           2925   \n",
              "\n",
              "       Defect Type         Defect  \n",
              "count        10000          10000  \n",
              "unique           3            263  \n",
              "top      No Impact  Not Certified  \n",
              "freq          3978            624  "
            ]
          },
          "execution_count": 21,
          "metadata": {},
          "output_type": "execute_result"
        }
      ],
      "source": [
        "# Descriptive stats of category features\n",
        "batches.describe(include='object')"
      ]
    },
    {
      "cell_type": "markdown",
      "metadata": {
        "id": "WeibJBgmwBRx"
      },
      "source": [
        "#### Inferences\n",
        "\n",
        "- All columns have 10,000 entries, confirming data completeness for these fields.\n",
        "- The dataset is diverse—especially for Vendor and Defect, with many unique values.\n",
        "- Some columns are highly imbalanced, e.g., \"Mechanicals\" and \"Raw Materials\" dominate their categories.\n",
        "\n",
        "This summary informs which features are high-cardinality (requiring careful encoding)"
      ]
    },
    {
      "cell_type": "code",
      "execution_count": 22,
      "metadata": {
        "colab": {
          "base_uri": "https://localhost:8080/",
          "height": 410
        },
        "id": "LPOHklbLpdu0",
        "outputId": "77fc9c30-09c0-4d39-c342-18e5097ffdff"
      },
      "outputs": [
        {
          "data": {
            "image/png": "[encoded data removed]",
            "text/plain": [
              "<Figure size 800x400 with 1 Axes>"
            ]
          },
          "metadata": {},
          "output_type": "display_data"
        }
      ],
      "source": [
        "sns.histplot(batches['Total Downtime Minutes'], bins=30, kde=True)\n",
        "plt.title('Distribution of Total Downtime Minutes')\n",
        "plt.xlabel('Downtime Minutes')\n",
        "plt.ylabel('Frequency')\n",
        "plt.show()"
      ]
    },
    {
      "cell_type": "markdown",
      "metadata": {
        "id": "GvjhysFyyzqq"
      },
      "source": [
        "- Most downtime events are short, but there is a pronounced spike at the maximum (5,000 minutes), suggesting a cap or limit in the data.\n",
        "- The distribution is right-skewed with many minor incidents and a concentration of extreme values at the high end, reflecting real-world operational unpredictability and possible reporting or business limits."
      ]
    },
    {
      "cell_type": "code",
      "execution_count": 23,
      "metadata": {
        "colab": {
          "base_uri": "https://localhost:8080/",
          "height": 407
        },
        "id": "XIUu1WNapdr8",
        "outputId": "475c8c80-3343-462d-a372-dcbec6e89902"
      },
      "outputs": [
        {
          "data": {
            "image/png": "[encoded data removed]",
            "text/plain": [
              "<Figure size 800x400 with 1 Axes>"
            ]
          },
          "metadata": {},
          "output_type": "display_data"
        }
      ],
      "source": [
        "sns.countplot(data=batches, x='Defect Type', order=batches['Defect Type'].value_counts().index)\n",
        "plt.title('Defect Type Distribution')\n",
        "plt.xlabel('Defect Type')\n",
        "plt.ylabel('Count')\n",
        "plt.tight_layout()\n",
        "plt.show()"
      ]
    },
    {
      "cell_type": "markdown",
      "metadata": {
        "id": "0wA3rodAzwAD"
      },
      "source": [
        "- Most defects are \"No Impact\": These are common but don’t affect product performance.\n",
        "- Serious defects (\"Impact\" and \"Rejected\") are less frequent but should receive special focus to avoid business risks.\n",
        "- Action: Strengthen controls for severe defects while maintaining monitoring for all defect types. Optimize resource allocation based on defect severity."
      ]
    },
    {
      "cell_type": "code",
      "execution_count": 24,
      "metadata": {
        "colab": {
          "base_uri": "https://localhost:8080/",
          "height": 500
        },
        "id": "5KKd03Cjpdg9",
        "outputId": "e8c9b099-3efe-49b3-a4b3-3e345cc54071"
      },
      "outputs": [
        {
          "data": {
            "image/png": "[encoded data removed]",
            "text/plain": [
              "<Figure size 1600x400 with 1 Axes>"
            ]
          },
          "metadata": {},
          "output_type": "display_data"
        }
      ],
      "source": [
        "plt.figure(figsize=(16, 4))\n",
        "sns.countplot(data=batches, x='Plant Location', order=batches['Plant Location'].value_counts().index)\n",
        "plt.title('Defect Counts per Plant')\n",
        "plt.xlabel('Plant Location')\n",
        "plt.ylabel('Count')\n",
        "plt.xticks(rotation=90)\n",
        "plt.show()"
      ]
    },
    {
      "cell_type": "markdown",
      "metadata": {
        "id": "_L_0t-sA18zC"
      },
      "source": [
        "- Defects are high across all plants: Quality issues are widespread, not limited to a few locations.\n",
        "- Top plants (like Riverside, Charles City, Twin Rocks) have the most defects: These should be prioritized for immediate improvement.\n",
        "- Business action: Focus on system-wide process improvements and target the highest-count plants first for root cause analysis and quick wins."
      ]
    },
    {
      "cell_type": "code",
      "execution_count": 25,
      "metadata": {
        "colab": {
          "base_uri": "https://localhost:8080/",
          "height": 407
        },
        "id": "BqG5F6CnpdeY",
        "outputId": "bb422431-12c6-445d-cedf-411b68b30632"
      },
      "outputs": [
        {
          "data": {
            "image/png": "[encoded data removed]",
            "text/plain": [
              "<Figure size 800x400 with 1 Axes>"
            ]
          },
          "metadata": {},
          "output_type": "display_data"
        }
      ],
      "source": [
        "sns.barplot(data=batches, x='Defect Type', y='Total Downtime Minutes', ci=None)\n",
        "plt.title('Total Downtime Minutes by Defect Type')\n",
        "plt.xlabel('Defect Type')\n",
        "plt.ylabel('Total Downtime Minutes')\n",
        "plt.tight_layout()\n",
        "plt.show()"
      ]
    },
    {
      "cell_type": "markdown",
      "metadata": {
        "id": "V-QeQIcU3Wn8"
      },
      "source": [
        "- All defect types (\"No Impact\", \"Rejected\", \"Impact\") contribute nearly equally to total downtime minutes.\n",
        "- No single defect type dominates downtime, indicating that all types require attention for downtime reduction.\n",
        "- Business action: Downtime improvement initiatives should address all defect areas rather than focusing on just one defect type. Broad, cross-category process optimization will yield the best results."
      ]
    },
    {
      "cell_type": "code",
      "execution_count": 26,
      "metadata": {
        "colab": {
          "base_uri": "https://localhost:8080/",
          "height": 407
        },
        "id": "6hs04Pjspdbc",
        "outputId": "d8864467-9834-4724-9ad6-2928f1e71874"
      },
      "outputs": [
        {
          "data": {
            "image/png": "[encoded data removed]",
            "text/plain": [
              "<Figure size 800x400 with 1 Axes>"
            ]
          },
          "metadata": {},
          "output_type": "display_data"
        }
      ],
      "source": [
        "sns.histplot(batches['Total Defect Qty'], bins=30, kde=True)\n",
        "plt.title('Distribution of Total Defect Quantity')\n",
        "plt.xlabel('Total Defect Qty')\n",
        "plt.tight_layout()\n",
        "plt.show()"
      ]
    },
    {
      "cell_type": "markdown",
      "metadata": {
        "id": "OTIVSlmj3rKa"
      },
      "source": [
        "- The distribution is heavily right-skewed, showing most defect quantities are moderate, with many cases clustered at low values.\n",
        "- There is a pronounced spike at the maximum defect quantity (around 1,000,000), indicating a potential data cap or reporting limit in the system."
      ]
    },
    {
      "cell_type": "code",
      "execution_count": 27,
      "metadata": {
        "colab": {
          "base_uri": "https://localhost:8080/",
          "height": 507
        },
        "id": "Q8701TGHpdVy",
        "outputId": "7ee4757c-1f66-484f-adc2-69eb1b03c49b"
      },
      "outputs": [
        {
          "data": {
            "image/png": "[encoded data removed]",
            "text/plain": [
              "<Figure size 1400x500 with 1 Axes>"
            ]
          },
          "metadata": {},
          "output_type": "display_data"
        }
      ],
      "source": [
        "plt.figure(figsize=(14, 5))\n",
        "sns.countplot(data=batches, x='Category', order=batches['Category'].value_counts().index)\n",
        "plt.title('Defect Counts by Category')\n",
        "plt.xlabel('Category')\n",
        "plt.ylabel('Count')\n",
        "plt.tight_layout()\n",
        "plt.show()"
      ]
    },
    {
      "cell_type": "markdown",
      "metadata": {
        "id": "Wm5aEXCk4kxT"
      },
      "source": [
        "- Mechanical and Logistics categories have the highest defect counts, indicating these are the main sources of quality issues.\n",
        "- Packaging, Materials & Components contribute moderate defects, while Goods & Services and Electrical have the fewest.\n",
        "- Business action: Focus improvement efforts first on Mechanical and Logistics processes to drive the greatest reduction in overall defects. Maintain ongoing monitoring of other categories to address any emerging issues."
      ]
    },
    {
      "cell_type": "markdown",
      "metadata": {
        "id": "hRq2nY_25PPD"
      },
      "source": [
        "#### **Recommendations:**\n",
        "- Defects and downtime are common across all batches, plants, and defect types no specific outlier to target.\n",
        "- Focus first on high-defect plants (like Riverside, Charles City, Twin Rocks) and categories (Mechanical, Logistics) for fastest improvement.\n",
        "- \"Impact\" and \"Rejected\" types, though less frequent, can cause bigger issues tighten controls here.\n",
        "- Since every defect type contributes to downtime, use company-wide process and maintenance initiatives, not narrow fixes.\n",
        "- Track all quality patterns regularly and be ready to adapt if new trends emerge.\n",
        "- Identify any top-performing plants or teams and replicate their successful practices across locations.\n",
        "\n",
        "This approach maximizes quality gains, reduces risk, and drives efficiency across the entire business."
      ]
    },
    {
      "cell_type": "markdown",
      "metadata": {
        "id": "Zey4-ejY5-qr"
      },
      "source": [
        "\n",
        "\n",
        "---\n",
        "\n"
      ]
    },
    {
      "cell_type": "markdown",
      "metadata": {
        "id": "hIXLtRiu6AA5"
      },
      "source": [
        "### **Data Cleaning**"
      ]
    },
    {
      "cell_type": "code",
      "execution_count": 28,
      "metadata": {
        "id": "uf0XKIAgpdTU"
      },
      "outputs": [],
      "source": [
        "batchesCln = batches.copy()"
      ]
    },
    {
      "cell_type": "code",
      "execution_count": 29,
      "metadata": {
        "colab": {
          "base_uri": "https://localhost:8080/"
        },
        "id": "ALrevniPMbjP",
        "outputId": "01c8c2f7-3045-4a66-b9e1-66b6a98f31f4"
      },
      "outputs": [
        {
          "name": "stdout",
          "output_type": "stream",
          "text": [
            "360887.0\n",
            "3627.0\n"
          ]
        }
      ],
      "source": [
        "print(batchesCln['Total Defect Qty'].median())\n",
        "print(batchesCln['Total Downtime Minutes'].median())"
      ]
    },
    {
      "cell_type": "code",
      "execution_count": 30,
      "metadata": {
        "id": "zBbhIRx7MYOQ"
      },
      "outputs": [],
      "source": [
        "batchesCln['Total Defect Qty'] = batchesCln['Total Defect Qty'].fillna(batchesCln['Total Defect Qty'].median())\n",
        "batchesCln['Total Downtime Minutes'] = batchesCln['Total Downtime Minutes'].fillna(batchesCln['Total Downtime Minutes'].median())"
      ]
    },
    {
      "cell_type": "code",
      "execution_count": 31,
      "metadata": {
        "colab": {
          "base_uri": "https://localhost:8080/",
          "height": 397
        },
        "id": "2rzb7doNSUGx",
        "outputId": "f83e5e25-0548-4529-dde2-cedf46e3f80b"
      },
      "outputs": [
        {
          "data": {
            "text/plain": [
              "Date                      0\n",
              "Vendor                    0\n",
              "Plant Location            0\n",
              "State                     0\n",
              "Category                  0\n",
              "Material Type             0\n",
              "Defect Type               0\n",
              "Defect                    0\n",
              "Total Defect Qty          0\n",
              "Total Downtime Minutes    0\n",
              "dtype: int64"
            ]
          },
          "execution_count": 31,
          "metadata": {},
          "output_type": "execute_result"
        }
      ],
      "source": [
        "batchesCln.isnull().sum()"
      ]
    },
    {
      "cell_type": "code",
      "execution_count": 32,
      "metadata": {
        "colab": {
          "base_uri": "https://localhost:8080/",
          "height": 1000
        },
        "id": "T3zxOfjP4rwJ",
        "outputId": "8803f607-4ff6-4c76-c473-3683aefff61f"
      },
      "outputs": [
        {
          "data": {
            "text/plain": [
              "Plant Location\n",
              "Barling           320\n",
              "Bloomingdale      341\n",
              "Bruce Crossing    336\n",
              "Charles City      398\n",
              "Charlevoix        312\n",
              "Chatham           311\n",
              "Chesaning         380\n",
              "Clarksville       307\n",
              "Clay              335\n",
              "Climax            382\n",
              "Cottonwood        376\n",
              "De Ruyter         354\n",
              "Florence          335\n",
              "Frazer            337\n",
              "Garwood           339\n",
              "Henning           336\n",
              "Hingham           345\n",
              "Jordan Valley     341\n",
              "June Lake         324\n",
              "Middletown        255\n",
              "New Britain       314\n",
              "Prescott          336\n",
              "Reading           280\n",
              "Ripton            308\n",
              "Riverside         399\n",
              "Savannah          306\n",
              "Twin Rocks        366\n",
              "Waldoboro         312\n",
              "Weaverville       312\n",
              "Westside          303\n",
              "Name: count, dtype: int64"
            ]
          },
          "execution_count": 32,
          "metadata": {},
          "output_type": "execute_result"
        }
      ],
      "source": [
        "batchesCln['Plant Location'].value_counts().sort_index()"
      ]
    },
    {
      "cell_type": "code",
      "execution_count": 33,
      "metadata": {
        "colab": {
          "base_uri": "https://localhost:8080/",
          "height": 303
        },
        "id": "i6L5SWfl4rna",
        "outputId": "72083bc8-e24e-4257-e2fb-896f0e19a620"
      },
      "outputs": [
        {
          "data": {
            "text/plain": [
              "Category\n",
              "Mechanicals               3061\n",
              "Logistics                 2712\n",
              "Packaging                 1689\n",
              "Materials & Components    1391\n",
              "Goods & Services           797\n",
              "Electrical                 350\n",
              "Name: count, dtype: int64"
            ]
          },
          "execution_count": 33,
          "metadata": {},
          "output_type": "execute_result"
        }
      ],
      "source": [
        "batchesCln['Category'].value_counts()"
      ]
    },
    {
      "cell_type": "code",
      "execution_count": 34,
      "metadata": {
        "colab": {
          "base_uri": "https://localhost:8080/",
          "height": 805
        },
        "id": "PFE9LY9x4rkh",
        "outputId": "b1fa8167-871f-4a27-cd17-625d0ba9824e"
      },
      "outputs": [
        {
          "data": {
            "text/plain": [
              "Material Type\n",
              "Raw Materials        2925\n",
              "Corrugate            2437\n",
              "Film                  830\n",
              "Labels                706\n",
              "Carton                661\n",
              "Controllers           556\n",
              "Batteries             434\n",
              "Glass                 315\n",
              "Electrolytes          286\n",
              "Molds                 259\n",
              "Composites            226\n",
              "Hardware              121\n",
              "Motors                 75\n",
              "Packaging              63\n",
              "Drives                 61\n",
              "Pump                   16\n",
              "Mechanicals             8\n",
              "Tape                    8\n",
              "Crates                  6\n",
              "Valves                  4\n",
              "Wires                   2\n",
              "Printed Materials       1\n",
              "Name: count, dtype: int64"
            ]
          },
          "execution_count": 34,
          "metadata": {},
          "output_type": "execute_result"
        }
      ],
      "source": [
        "batchesCln['Material Type'].value_counts()"
      ]
    },
    {
      "cell_type": "code",
      "execution_count": 35,
      "metadata": {
        "colab": {
          "base_uri": "https://localhost:8080/",
          "height": 489
        },
        "id": "at3sMa9z4rhp",
        "outputId": "62c538cd-c393-4ad3-9046-f1f59c4eda12"
      },
      "outputs": [
        {
          "data": {
            "text/plain": [
              "Defect\n",
              "Not Certified          624\n",
              "Bad Seams              606\n",
              "Misc                   514\n",
              "Foreign Material       401\n",
              "Warped                 279\n",
              "                      ... \n",
              "Incomplete Tops          1\n",
              "Assembly Issues          1\n",
              "Packaging Integrity      1\n",
              "No Varnish               1\n",
              "Poor Fit                 1\n",
              "Name: count, Length: 263, dtype: int64"
            ]
          },
          "execution_count": 35,
          "metadata": {},
          "output_type": "execute_result"
        }
      ],
      "source": [
        "batchesCln['Defect'].value_counts()"
      ]
    },
    {
      "cell_type": "code",
      "execution_count": 36,
      "metadata": {
        "id": "XZi7EzZX4rex"
      },
      "outputs": [],
      "source": [
        "listDefect = batchesCln['Defect'].unique()"
      ]
    },
    {
      "cell_type": "code",
      "execution_count": 37,
      "metadata": {
        "colab": {
          "base_uri": "https://localhost:8080/"
        },
        "id": "FKea4MxcDa5C",
        "outputId": "db32b234-7556-4a2b-fc87-28d06b1b2640"
      },
      "outputs": [
        {
          "data": {
            "text/plain": [
              "array(['Assembly Issues', 'Bad Bearings', 'Bad Bond',\n",
              "       'Bad Carton Packaging', 'Bad Cut', 'Bad Distribution',\n",
              "       'Bad Fasteners', 'Bad Fill', 'Bad Film', 'Bad Finish', 'Bad Fit',\n",
              "       'Bad Flaps', 'Bad Insert', 'Bad Labels', 'Bad Parameters',\n",
              "       'Bad Print', 'Bad Seal', 'Bad Seams', 'Bad Shots', 'Bad Tiles',\n",
              "       'Bad Tops', 'Bad Valves', 'Bad Welding', 'Blisters', 'Bowed',\n",
              "       'Bowed/Warped', 'Broken Glass', 'Broken Valve Seal', 'Bubbling',\n",
              "       'Burnt', 'Carton Delamination', 'Cartons Not Opening', 'Coating',\n",
              "       'Codes Wrong', 'Color Deviation', 'Color Variation',\n",
              "       'Component Failure', 'Components Stuck', 'Container Out of Spec',\n",
              "       'Contamination', 'Corrugate Falling Apart', 'Crack', 'Cracked',\n",
              "       'Creases / Wrinkles', 'Crooked', 'Crushed Sidewalls', 'Cut Box',\n",
              "       'Cut Wires', 'Cuts', 'Damaged', 'Damaged Parts', 'Damaged Rolls',\n",
              "       'Damaged Secondary Packaging', 'Damaged in Transit', 'Deep Slots',\n",
              "       'Defective Packaging', 'Defective Rims', 'Deformed Parts',\n",
              "       'Delamination', 'Dents', 'Dimensions - Bad Finishing',\n",
              "       'Dimensions Wrong', 'Dirty', 'Dirty Containers', 'Dirty Material',\n",
              "       'Does Not Run', 'Double Labeling', 'Ejector Pin Wrong',\n",
              "       'Errors in Packaging', 'Excessive Glue', 'Excessive Grease',\n",
              "       'Excessive Lubricant', 'Expired', 'Failed Tension Test',\n",
              "       'False scores', 'Film Not Intact', 'Film Not Sealing',\n",
              "       'Flaps - Incorrect Gap', 'Folding - Wrong Crease',\n",
              "       'Foreign Material', 'Foreign Objects', 'Foreign objects found',\n",
              "       'Gages Broken', 'Gap Variation', 'Gaps', 'Heat Damage', 'Holes',\n",
              "       'Holes in Material', 'Inclomplete', 'Incomplete Molding',\n",
              "       'Incomplete Tops', 'Incorrect Color', 'Incorrect Dimensions',\n",
              "       'Incorrect Labeling', 'Incorrect Material',\n",
              "       'Incorrect Vertical Size', 'Infestation', 'Ink Smears',\n",
              "       'Inside Scoring', 'Insufficient Parts', 'Integrity Failure',\n",
              "       'Irregular Shape', 'Lay Flat Dimension', 'Leaking Packaging',\n",
              "       'Leaking Seals', 'Liner Misalignment', 'Loose Core', 'Loose Fit',\n",
              "       'Material Contamination',\n",
              "       'Material Handling/ Shipping Requirements Error',\n",
              "       'Material Separation', 'Matts', 'Misaligned Slots', 'Misc',\n",
              "       'Misformed Parts', 'Mishandled', 'Missing Codes',\n",
              "       'Missing Components', 'Missing Labels', 'Missing Liner',\n",
              "       'Missing Packaging', 'Mixed Parts', 'Mixed Product', 'Moisture',\n",
              "       'Moisture Damage', 'Narrow Tops', 'No Adhesive', 'No Bar Code',\n",
              "       'No Close', 'No Crank', 'No Disk', 'No Docs', 'No Fill',\n",
              "       'No Insert', 'No Label', 'No Liner', 'No Lock', 'No Print',\n",
              "       'No Screws', 'No Sealing', 'No Shipment Info', 'No Slip Sheets',\n",
              "       'No Tight Seal', 'No Torque', 'No Varnish', 'Not Balanced',\n",
              "       'Not Certified', 'Not Cleaned', 'Odor', 'Off-set', 'Open Caps',\n",
              "       'Opened containers', 'Other', 'Out of Spec',\n",
              "       'Out of Specification', 'Out of Support', 'Over/Under Fill',\n",
              "       'Overlapping Seam', 'Packaging Damaged', 'Packaging Integrity',\n",
              "       'Packaging Issues', 'Packaging Wrong', 'Parting Tops',\n",
              "       'Poor  Adhesion', 'Poor Fit', 'Poor Pairing', 'Poor Seam',\n",
              "       'Print Impression', 'Print Off Center', 'Print Problems',\n",
              "       'Print defects', 'Printing Defect', 'Printing Defects',\n",
              "       'Raw Material', 'Roll Pattern', 'Roll Tension', 'Rough Tops',\n",
              "       'Scrap attached', 'Scratch', 'Scratched Glass', 'Scratches',\n",
              "       'Scuffed Packaging', 'Sealed Together Externally',\n",
              "       'Sealed Together Internally', 'Seams', 'Shallow Slots',\n",
              "       'Short Valves', 'Short Walls', 'Sides Bad', 'Skewed',\n",
              "       'Skewed Cartons', 'Slitting Erorrs', 'Smeared Print', 'Soft Parts',\n",
              "       'Soft Sides', 'Soft Tops', 'Spacing Between Labels', 'Splice',\n",
              "       'Splinter', 'Split Seams', 'Split hinges', 'Sporadic Adhesive',\n",
              "       'Spring damanged', 'Spruced', 'Stones and Sand', 'Streaks',\n",
              "       'String Defects', 'Tampered', 'Tape Wrong', 'Tension Issues',\n",
              "       'Thin Packaging', 'Too Heavy', 'Too Much Chemicals', 'Too Stiff',\n",
              "       'Too Thin', 'Top Too Small', 'Tops Bent', 'Tops Short',\n",
              "       'Torn Packaging', 'Tubs Stuck', 'Unsealed Cartons', 'Warped',\n",
              "       'Warped  Sheets', 'Warping', 'Water Damage', 'Weak Bands',\n",
              "       'Weak Walls', 'Weak Wrap', 'Wrinkles / Scratches/ Scuffing',\n",
              "       'Wrong  Size', 'Wrong Bands', 'Wrong Bond', 'Wrong Case Labels',\n",
              "       'Wrong Check', 'Wrong Codes', 'Wrong Coloring',\n",
              "       'Wrong Consistency', 'Wrong Core', 'Wrong Cut', 'Wrong Drive',\n",
              "       'Wrong Fasteners', 'Wrong Finish', 'Wrong Flaps',\n",
              "       'Wrong Horizontal Scores', 'Wrong Hue', 'Wrong Ink', 'Wrong Item',\n",
              "       'Wrong Label', 'Wrong Labeling', 'Wrong Makeup', 'Wrong Parts',\n",
              "       'Wrong Print', 'Wrong Qty', 'Wrong Registration',\n",
              "       'Wrong Shade of Color', 'Wrong Shape', 'Wrong Size',\n",
              "       'Wrong Spec Date', 'Wrong Specifications', 'Wrong Surface',\n",
              "       'Wrong Tails', 'Wrong Tops', 'Wrong material'], dtype=object)"
            ]
          },
          "execution_count": 37,
          "metadata": {},
          "output_type": "execute_result"
        }
      ],
      "source": [
        "#sort this list\n",
        "listDefect.sort()\n",
        "listDefect"
      ]
    },
    {
      "cell_type": "code",
      "execution_count": 38,
      "metadata": {
        "id": "oMqZz853Da2R"
      },
      "outputs": [],
      "source": [
        "def clean_defect_types(defect_series):\n",
        "    cleaned = defect_series.str.replace(r\"[^a-zA-Z0-9/ -]\", \"\", regex=True)\n",
        "    cleaned = cleaned.str.replace(r\"\\s*/\\s*\", \"/\", regex=True)\n",
        "    cleaned = cleaned.str.replace(r\"\\s*-\\s*\", \"-\", regex=True)\n",
        "    cleaned = cleaned.str.strip().str.replace(r\"\\s+\", \" \", regex=True)\n",
        "    cleaned = cleaned.str.replace(r'\\s+', ' ', regex=True).str.strip()\n",
        "    return cleaned"
      ]
    },
    {
      "cell_type": "code",
      "execution_count": 39,
      "metadata": {
        "id": "K9S4vPW3Dazp"
      },
      "outputs": [],
      "source": [
        "batchesCln['Defect'] = clean_defect_types(batchesCln['Defect'])"
      ]
    },
    {
      "cell_type": "code",
      "execution_count": 40,
      "metadata": {
        "id": "Z7y-lYZw4rqa"
      },
      "outputs": [],
      "source": [
        "batchesCln['Plant Location'] = batchesCln['Plant Location'].str.strip()\n",
        "batchesCln['Category'] = batchesCln['Category'].str.strip()\n",
        "batchesCln['Material Type'] = batchesCln['Material Type'].str.strip()\n",
        "batchesCln['Defect'] = batchesCln['Defect'].str.strip()"
      ]
    },
    {
      "cell_type": "code",
      "execution_count": 41,
      "metadata": {
        "colab": {
          "base_uri": "https://localhost:8080/"
        },
        "id": "S6zpTUn44rZB",
        "outputId": "920483ec-83df-4075-b0f2-09895bc1baa4"
      },
      "outputs": [
        {
          "name": "stdout",
          "output_type": "stream",
          "text": [
            "<class 'pandas.core.frame.DataFrame'>\n",
            "RangeIndex: 10000 entries, 0 to 9999\n",
            "Data columns (total 10 columns):\n",
            " #   Column                  Non-Null Count  Dtype         \n",
            "---  ------                  --------------  -----         \n",
            " 0   Date                    10000 non-null  datetime64[ns]\n",
            " 1   Vendor                  10000 non-null  object        \n",
            " 2   Plant Location          10000 non-null  object        \n",
            " 3   State                   10000 non-null  object        \n",
            " 4   Category                10000 non-null  object        \n",
            " 5   Material Type           10000 non-null  object        \n",
            " 6   Defect Type             10000 non-null  object        \n",
            " 7   Defect                  10000 non-null  object        \n",
            " 8   Total Defect Qty        10000 non-null  float64       \n",
            " 9   Total Downtime Minutes  10000 non-null  float64       \n",
            "dtypes: datetime64[ns](1), float64(2), object(7)\n",
            "memory usage: 781.4+ KB\n"
          ]
        }
      ],
      "source": [
        "batchesCln.info()"
      ]
    },
    {
      "cell_type": "markdown",
      "metadata": {
        "id": "dcmP84r-e1-7"
      },
      "source": [
        "\n",
        "\n",
        "---\n",
        "\n"
      ]
    },
    {
      "cell_type": "code",
      "execution_count": 42,
      "metadata": {
        "id": "Yq-R1T95e5Cl"
      },
      "outputs": [],
      "source": [
        "batchesCluster = batchesCln.copy()"
      ]
    },
    {
      "cell_type": "code",
      "execution_count": 44,
      "metadata": {
        "id": "7rQ9TAVv4rQp"
      },
      "outputs": [],
      "source": [
        "from sentence_transformers import SentenceTransformer\n",
        "from sklearn.cluster import KMeans"
      ]
    },
    {
      "cell_type": "code",
      "execution_count": 45,
      "metadata": {
        "colab": {
          "base_uri": "https://localhost:8080/"
        },
        "id": "wv2z_NaL4rNx",
        "outputId": "1f4c1993-5a61-4a9b-8448-3951414a1ef7"
      },
      "outputs": [
        {
          "name": "stdout",
          "output_type": "stream",
          "text": [
            "Found 262 unique defect descriptions to process.\n"
          ]
        }
      ],
      "source": [
        "# Step 1: Prepare the unique defect text data\n",
        "unique_defects = batchesCluster['Defect'].unique().tolist()\n",
        "print(f\"Found {len(unique_defects)} unique defect descriptions to process.\")"
      ]
    },
    {
      "cell_type": "code",
      "execution_count": 46,
      "metadata": {
        "colab": {
          "base_uri": "https://localhost:8080/",
          "height": 436,
          "referenced_widgets": [
            "96216d0e62c24c5f8b0b604065bcc0ff",
            "ff3d1a07c251467a8d722cd3e6088260",
            "bce3d87e7fd14fcc86238cd2c3e54743",
            "aff85e27cdb54163ac109b4ce5ab4287",
            "3793bce99b114667b0cb2a99f91225f2",
            "91719d3a47904b40a388632252d86d2f",
            "f62a9b0a430d4c7e82c44687138ca36a",
            "a7e3a192e7794ce08976a908df5a56d9",
            "94d210a2772b4402938723917df778da",
            "fdc0455e1f97446b9d7ba5bd6dd21522",
            "a061ebbe7bbc4169b1f6a236f984fd52",
            "5de67c90bf2e48e7bcb592a0a93ab312",
            "0fc14d4f826c48bb9235b65b53641dc0",
            "de33dff977c940cc9ffe2c5389d09115",
            "179f5ea38cbc440fa09dbc8fa240a691",
            "337cfff8158b4d858a476d4ea7c49e9e",
            "02be0916c7ba46c59cc375c57b2be773",
            "cb595dd249574b7ab02e25d0740698c2",
            "11186511c12c4c9eb0159bb19276713d",
            "429a9e7b95cf4ddeafaf853c8c459dba",
            "d874f5521e1f4338a7c17a4f88b5947a",
            "68930d71525e4b46a4db69cd92b55734",
            "a6f6a93b64f5469699986ff686fcf81e",
            "03ecdd655a284d8bab8b3d893d559b66",
            "f679245a66b84e52a7f4999e501de8b5",
            "165cd3e27cb944ea9b50f3065df15ab1",
            "895b05e172bf41df8067e0808c30325a",
            "66ac99d518b244319e40b5581a10dd1d",
            "800a87d5b42d425d843d3c0b6766e865",
            "9a88669b0b5f4a37b30f26b79db087d4",
            "5b97d2a121d444398ed33eafd39949a8",
            "b34517aba0db404d90a6d6a470a9989b",
            "6e34a2c5a9764f3e9b9025e7f11ad9c4",
            "38e83540ff5c44d4af795fc87739ec84",
            "22821c50b7d74d73b95f69d679ca4fa7",
            "c3e2dbf8956f4f0f84706119f105797a",
            "8625bd0d2661490fbf2404b471070b31",
            "11c54fe5d74c4a2d8ea8f8ed5489f6d7",
            "96b0ab10c9ce4c5ab6bf6b0fe20b8e1b",
            "16a0ceb7183540128dd5595cf62bea5e",
            "18999af10ebd47a5bd9494ca45ba7d8a",
            "9ed75ff3500a4d39b0a2899f47f036d1",
            "6bdeb12ff5414ce0b3794d5494251a50",
            "d78a260f4619455d8f4cd8af2d8145a3",
            "e288641c6dfa4a89b77f3a11dfb956bc",
            "6faea7c6c3d947fdb08c392fe89a4a99",
            "d2d7d049589249ef91236d6fa84ff901",
            "ce92ebd0e6904922a400329b04a81e75",
            "146a57d5a77141c79ab242d775f21dbf",
            "f10550f97810446d8f3ebe77b385f629",
            "23ddf1057fdb4484ab744447b8ca2689",
            "dfa0a67eaac945eca51517d6d7e261f8",
            "4fc56c524a924fd1a7fd488ce73232a4",
            "d549782c051d466ea4a10c48ab2f2a5d",
            "2e8435fdb5ad4754a80b43b204c9ed57",
            "57d9882acaa24310b14148dfc7e6ef7c",
            "49afef373156483eac907fa1ea94d531",
            "330f80282082451280e96549a69b77dd",
            "c79fcf8e7e384bf9a1f5adcb97d6ebf1",
            "9de29dc4f5fa4ae189de880a03021a82",
            "51833a66751e447c8d7e7da79409d3a5",
            "d8a674e8014c42479e0bced7a96db136",
            "6f648f4825ea4115b6ba66fb22319889",
            "10a0ea4d5f284045981fb77ce89de607",
            "a276948e21ab4a759cc3499df7ce7fed",
            "0a22e44bb92d46fbb4c346fcf9580d18",
            "704c1eb5fdf847108c9e335a45ee2ceb",
            "a3e7c7514abf43f19e0c85afbf26173d",
            "a9f9471f7bc148cf9edc36a82cef6031",
            "19d78b96c1be4ca385b99f37aba562a7",
            "d3df29bee142484ea14bc9f5575eaac5",
            "83969c04dc6a4c2a8fc6de134179af9c",
            "44ea2b862a264404804cb5cd03606ebd",
            "0d47d44d6ce0444e86cc318f53290486",
            "ac01a3c59c7c4389b1d6fabd12b63f90",
            "f8837183493542c3895b023c6117713d",
            "c4eb8bcba7064ebd9d7e728380165bd2",
            "a93bbc213a134e30a18709ed9ce60e39",
            "aca0e32fcbbc4707ba7117fdb4f00742",
            "c04a18ead7a54f9aa1e6a3b2447354ec",
            "313102ff03564c15ade60509ce230c15",
            "c4de2f6c6ed94823b6e1b1f1021d9d7b",
            "aeef76bcfcd84007b8498465a0175005",
            "c51a8ec93a104e5da68c104450750008",
            "fcd9ee484b924b2d85c5634e6c4b49ee",
            "0ff20f36b0064e8a89f3a4df2e9d871c",
            "ff6b4f73f67c4b4d99e9fff8c150342c",
            "c9d076d4ba7342689952959ac9023dcb",
            "763d4f67e99b45879962100fe7b4985b",
            "51450709feab416e965c75b2ae294f22",
            "6684d6de7a544e0aa140ba79add77da3",
            "2b7db8dc42034ed38414c9a879c7a26c",
            "277c8f30fc864b2296c7ed70ef0eb026",
            "b8b904c8daac461da61aa867ad849fa0",
            "a2cf8395cf9444d4b8edfb7097947936",
            "42237c4a71934a73aa14b3a790658928",
            "b0ac3b11652a496299731d9b4449cbac",
            "a93f11fe401a431cbcade8f2bfba8539",
            "da9a699463874d61b4d58b8e281f1516",
            "ee6543cf57764d8baf79f02e59824f21",
            "bfe72c6d45f140929a95fd3aae1ab087",
            "3890d76e2060489eb41e8c436ffae884",
            "99f50efd0a1c46da8959b9b81320feb7",
            "ef79504f44434b22856dc15e732bed29",
            "63fe9d9994b24957b5feea8485c64364",
            "7b29173758ac4ceab15d68ea9c19fcdc",
            "cf1efc73bdda4d39a26dc37e7f406260",
            "b660e1ea3006404cba70f3dd0e5ecca3",
            "d4c8af54290a4a38935c4df10dcdd034",
            "01e067af5a374c17ba682be2bc31fc49",
            "d5478ada502d4e31b39d6862fdddc00d",
            "a8dde22f91f2463592fce333de5deb5f",
            "739113ff00eb4d519147065e83bc0a16",
            "82c27f4ad5364ad08a3ed3909f55fba2",
            "cb3a97c1a6a746569105a2c0f6339860",
            "d17f677c79c341f3a3efa1b45a39852b",
            "9cacea26b3d64b26bf89f6d11037a26b",
            "442888e0afb84e5e8583b7cf472bf262",
            "2821311b516a40d78f9fbb2daa184bbf",
            "41fe549443ab4734b9d5fc57ac69fca1",
            "416f4ecf97354af3a9fc3926a348a196",
            "2ce00f7fcb084a84902f63ca2c082eec",
            "e2a5c8d854ee4449b632047231378596",
            "abf954377e1c471baef693f2137b71aa",
            "ace03c8e23c646cebb60653e579f2624",
            "dc50119a7e3d485292903f259f79499f",
            "63ddfa39384e4fb4b16dff3a2d0696a7",
            "76534e87c69c4759b8c89cc87171658d",
            "73cf66ad7f8a4e7c8909cf5fd7ed0efb",
            "c38f455c505e4733b16aa89d3f21a2cb",
            "2b675c34b9b043c4889845b00dd8da7a",
            "874691d40f524c0f9566f98b4b35e159"
          ]
        },
        "id": "E6cCmm7dfKj6",
        "outputId": "36810a79-449e-4a7b-876e-c7d45e30c2f7"
      },
      "outputs": [
        {
          "name": "stdout",
          "output_type": "stream",
          "text": [
            "Loading sentence transformer model and generating embeddings...\n"
          ]
        },
        {
          "name": "stderr",
          "output_type": "stream",
          "text": [
            "Xet Storage is enabled for this repo, but the 'hf_xet' package is not installed. Falling back to regular HTTP download. For better performance, install the package with: `pip install huggingface_hub[hf_xet]` or `pip install hf_xet`\n",
            "Batches: 100%|██████████| 9/9 [00:00<00:00, 18.47it/s]"
          ]
        },
        {
          "name": "stdout",
          "output_type": "stream",
          "text": [
            "Embeddings created. Shape: (262, 384)\n"
          ]
        },
        {
          "name": "stderr",
          "output_type": "stream",
          "text": [
            "\n"
          ]
        }
      ],
      "source": [
        "# Step 2: Generate Text Embeddings\n",
        "# We use a pre-trained model. 'all-MiniLM-L6-v2' is a great, lightweight choice\n",
        "\n",
        "print(\"Loading sentence transformer model and generating embeddings...\")\n",
        "model = SentenceTransformer('all-MiniLM-L6-v2')\n",
        "defect_embeddings = model.encode(unique_defects, show_progress_bar=True)\n",
        "print(\"Embeddings created. Shape:\", defect_embeddings.shape)"
      ]
    },
    {
      "cell_type": "code",
      "execution_count": 111,
      "metadata": {
        "colab": {
          "base_uri": "https://localhost:8080/",
          "height": 607
        },
        "id": "V4VIdYTm4rK5",
        "outputId": "1b6669eb-a4fd-495a-a1cf-4f5cffbbc428"
      },
      "outputs": [
        {
          "data": {
            "image/png": "[encoded data removed]",
            "text/plain": [
              "<Figure size 1400x600 with 2 Axes>"
            ]
          },
          "metadata": {},
          "output_type": "display_data"
        }
      ],
      "source": [
        "# Assume defect_embeddings is your matrix of embeddings (e.g., output from SentenceTransformer)\n",
        "k_range = range(2, 25)  # Testing from 2 to 25 clusters\n",
        "\n",
        "inertia = []\n",
        "silhouette_scores = []\n",
        "\n",
        "for k in k_range:\n",
        "    kmeans = KMeans(n_clusters=k, random_state=42, n_init=10)\n",
        "    cluster_labels = kmeans.fit_predict(defect_embeddings)\n",
        "    inertia.append(kmeans.inertia_)\n",
        "    score = silhouette_score(defect_embeddings, cluster_labels)\n",
        "    silhouette_scores.append(score)\n",
        "\n",
        "# Plotting the results\n",
        "plt.figure(figsize=(14, 6))\n",
        "\n",
        "# Elbow plot (Inertia)\n",
        "plt.subplot(1, 2, 1)\n",
        "plt.plot(list(k_range), inertia, marker='o', linestyle='--')\n",
        "plt.title('Elbow Method: Inertia vs. Number of Clusters')\n",
        "plt.xlabel('Number of Clusters')\n",
        "plt.ylabel('Inertia')\n",
        "plt.xticks(list(k_range))\n",
        "plt.grid(True)\n",
        "\n",
        "# Silhouette Score plot\n",
        "plt.subplot(1, 2, 2)\n",
        "plt.plot(list(k_range), silhouette_scores, marker='o', linestyle='--', color='orange')\n",
        "plt.title('Silhouette Score vs. Number of Clusters')\n",
        "plt.xlabel('Number of Clusters')\n",
        "plt.ylabel('Silhouette Score')\n",
        "plt.xticks(list(k_range))\n",
        "plt.grid(True)\n",
        "\n",
        "plt.tight_layout()\n",
        "plt.show()"
      ]
    },
    {
      "cell_type": "code",
      "execution_count": 48,
      "metadata": {
        "colab": {
          "base_uri": "https://localhost:8080/"
        },
        "id": "IcMxnYLM4rH5",
        "outputId": "7e630dd3-2d1c-4a8d-a980-42dccd3bb047"
      },
      "outputs": [
        {
          "data": {
            "text/plain": [
              "[201.9922637939453,\n",
              " 196.15533447265625,\n",
              " 191.05764770507812,\n",
              " 187.14035034179688,\n",
              " 183.0239715576172,\n",
              " 179.39820861816406,\n",
              " 175.9416046142578,\n",
              " 174.138427734375,\n",
              " 171.12928771972656,\n",
              " 168.12107849121094,\n",
              " 166.47357177734375,\n",
              " 164.00140380859375,\n",
              " 161.33261108398438,\n",
              " 159.2660675048828,\n",
              " 156.40060424804688,\n",
              " 154.5236358642578,\n",
              " 153.37728881835938,\n",
              " 150.8720703125,\n",
              " 151.1566925048828,\n",
              " 148.9912872314453,\n",
              " 146.1060791015625,\n",
              " 143.72193908691406,\n",
              " 143.12782287597656]"
            ]
          },
          "execution_count": 48,
          "metadata": {},
          "output_type": "execute_result"
        }
      ],
      "source": [
        "inertia"
      ]
    },
    {
      "cell_type": "code",
      "execution_count": 49,
      "metadata": {
        "colab": {
          "base_uri": "https://localhost:8080/"
        },
        "id": "f8kgB4XR4rF6",
        "outputId": "142f24ac-1b0f-4ea4-f255-30b3960918b9"
      },
      "outputs": [
        {
          "data": {
            "text/plain": [
              "[0.038197703659534454,\n",
              " 0.03735635057091713,\n",
              " 0.03871394693851471,\n",
              " 0.03739010542631149,\n",
              " 0.04600529372692108,\n",
              " 0.047084592282772064,\n",
              " 0.0550081804394722,\n",
              " 0.050980500876903534,\n",
              " 0.05900302156805992,\n",
              " 0.06023666635155678,\n",
              " 0.06172696501016617,\n",
              " 0.0577954463660717,\n",
              " 0.06661227345466614,\n",
              " 0.0662926733493805,\n",
              " 0.07200019061565399,\n",
              " 0.07170494645833969,\n",
              " 0.07481078803539276,\n",
              " 0.07854032516479492,\n",
              " 0.07183513045310974,\n",
              " 0.07904445379972458,\n",
              " 0.08219612389802933,\n",
              " 0.08619631081819534,\n",
              " 0.08328498899936676]"
            ]
          },
          "execution_count": 49,
          "metadata": {},
          "output_type": "execute_result"
        }
      ],
      "source": [
        "silhouette_scores"
      ]
    },
    {
      "cell_type": "markdown",
      "metadata": {
        "id": "gzwb_9PzmkyG"
      },
      "source": [
        "- The inertia curve “elbow” is most apparent around 8-10 clusters. After this, the inertia declines slowly and nearly linearly, suggesting no major gain in cohesion from increasing K further.\n",
        "\n",
        "- Silhouette scores peak progressively with more clusters, but most increases after K=13–15 are marginal, and higher K risks over-fragmentation, making clusters less actionable and possibly too small."
      ]
    },
    {
      "cell_type": "code",
      "execution_count": 50,
      "metadata": {
        "colab": {
          "base_uri": "https://localhost:8080/"
        },
        "id": "F3mNqRhc4rDR",
        "outputId": "6ffb1f61-638d-4edd-d3c8-4229a09568ae"
      },
      "outputs": [
        {
          "name": "stderr",
          "output_type": "stream",
          "text": [
            "\n",
            "[notice] A new release of pip is available: 24.0 -> 25.2\n",
            "[notice] To update, run: python.exe -m pip install --upgrade pip\n"
          ]
        }
      ],
      "source": [
        "!pip install -q KeyBERT"
      ]
    },
    {
      "cell_type": "code",
      "execution_count": 51,
      "metadata": {
        "colab": {
          "base_uri": "https://localhost:8080/",
          "height": 97
        },
        "id": "Fl1lxHBSmug-",
        "outputId": "61d6e4d9-5eb7-4a23-db22-5d08cb716698"
      },
      "outputs": [
        {
          "name": "stdout",
          "output_type": "stream",
          "text": [
            "Running K-Means with the chosen optimal K = 8\n"
          ]
        },
        {
          "data": {
            "text/html": [
              "<style>#sk-container-id-1 {\n",
              "  /* Definition of color scheme common for light and dark mode */\n",
              "  --sklearn-color-text: #000;\n",
              "  --sklearn-color-text-muted: #666;\n",
              "  --sklearn-color-line: gray;\n",
              "  /* Definition of color scheme for unfitted estimators */\n",
              "  --sklearn-color-unfitted-level-0: #fff5e6;\n",
              "  --sklearn-color-unfitted-level-1: #f6e4d2;\n",
              "  --sklearn-color-unfitted-level-2: #ffe0b3;\n",
              "  --sklearn-color-unfitted-level-3: chocolate;\n",
              "  /* Definition of color scheme for fitted estimators */\n",
              "  --sklearn-color-fitted-level-0: #f0f8ff;\n",
              "  --sklearn-color-fitted-level-1: #d4ebff;\n",
              "  --sklearn-color-fitted-level-2: #b3dbfd;\n",
              "  --sklearn-color-fitted-level-3: cornflowerblue;\n",
              "\n",
              "  /* Specific color for light theme */\n",
              "  --sklearn-color-text-on-default-background: var(--sg-text-color, var(--theme-code-foreground, var(--jp-content-font-color1, black)));\n",
              "  --sklearn-color-background: var(--sg-background-color, var(--theme-background, var(--jp-layout-color0, white)));\n",
              "  --sklearn-color-border-box: var(--sg-text-color, var(--theme-code-foreground, var(--jp-content-font-color1, black)));\n",
              "  --sklearn-color-icon: #696969;\n",
              "\n",
              "  @media (prefers-color-scheme: dark) {\n",
              "    /* Redefinition of color scheme for dark theme */\n",
              "    --sklearn-color-text-on-default-background: var(--sg-text-color, var(--theme-code-foreground, var(--jp-content-font-color1, white)));\n",
              "    --sklearn-color-background: var(--sg-background-color, var(--theme-background, var(--jp-layout-color0, #111)));\n",
              "    --sklearn-color-border-box: var(--sg-text-color, var(--theme-code-foreground, var(--jp-content-font-color1, white)));\n",
              "    --sklearn-color-icon: #878787;\n",
              "  }\n",
              "}\n",
              "\n",
              "#sk-container-id-1 {\n",
              "  color: var(--sklearn-color-text);\n",
              "}\n",
              "\n",
              "#sk-container-id-1 pre {\n",
              "  padding: 0;\n",
              "}\n",
              "\n",
              "#sk-container-id-1 input.sk-hidden--visually {\n",
              "  border: 0;\n",
              "  clip: rect(1px 1px 1px 1px);\n",
              "  clip: rect(1px, 1px, 1px, 1px);\n",
              "  height: 1px;\n",
              "  margin: -1px;\n",
              "  overflow: hidden;\n",
              "  padding: 0;\n",
              "  position: absolute;\n",
              "  width: 1px;\n",
              "}\n",
              "\n",
              "#sk-container-id-1 div.sk-dashed-wrapped {\n",
              "  border: 1px dashed var(--sklearn-color-line);\n",
              "  margin: 0 0.4em 0.5em 0.4em;\n",
              "  box-sizing: border-box;\n",
              "  padding-bottom: 0.4em;\n",
              "  background-color: var(--sklearn-color-background);\n",
              "}\n",
              "\n",
              "#sk-container-id-1 div.sk-container {\n",
              "  /* jupyter's `normalize.less` sets `[hidden] { display: none; }`\n",
              "     but bootstrap.min.css set `[hidden] { display: none !important; }`\n",
              "     so we also need the `!important` here to be able to override the\n",
              "     default hidden behavior on the sphinx rendered scikit-learn.org.\n",
              "     See: https://github.com/scikit-learn/scikit-learn/issues/21755 */\n",
              "  display: inline-block !important;\n",
              "  position: relative;\n",
              "}\n",
              "\n",
              "#sk-container-id-1 div.sk-text-repr-fallback {\n",
              "  display: none;\n",
              "}\n",
              "\n",
              "div.sk-parallel-item,\n",
              "div.sk-serial,\n",
              "div.sk-item {\n",
              "  /* draw centered vertical line to link estimators */\n",
              "  background-image: linear-gradient(var(--sklearn-color-text-on-default-background), var(--sklearn-color-text-on-default-background));\n",
              "  background-size: 2px 100%;\n",
              "  background-repeat: no-repeat;\n",
              "  background-position: center center;\n",
              "}\n",
              "\n",
              "/* Parallel-specific style estimator block */\n",
              "\n",
              "#sk-container-id-1 div.sk-parallel-item::after {\n",
              "  content: \"\";\n",
              "  width: 100%;\n",
              "  border-bottom: 2px solid var(--sklearn-color-text-on-default-background);\n",
              "  flex-grow: 1;\n",
              "}\n",
              "\n",
              "#sk-container-id-1 div.sk-parallel {\n",
              "  display: flex;\n",
              "  align-items: stretch;\n",
              "  justify-content: center;\n",
              "  background-color: var(--sklearn-color-background);\n",
              "  position: relative;\n",
              "}\n",
              "\n",
              "#sk-container-id-1 div.sk-parallel-item {\n",
              "  display: flex;\n",
              "  flex-direction: column;\n",
              "}\n",
              "\n",
              "#sk-container-id-1 div.sk-parallel-item:first-child::after {\n",
              "  align-self: flex-end;\n",
              "  width: 50%;\n",
              "}\n",
              "\n",
              "#sk-container-id-1 div.sk-parallel-item:last-child::after {\n",
              "  align-self: flex-start;\n",
              "  width: 50%;\n",
              "}\n",
              "\n",
              "#sk-container-id-1 div.sk-parallel-item:only-child::after {\n",
              "  width: 0;\n",
              "}\n",
              "\n",
              "/* Serial-specific style estimator block */\n",
              "\n",
              "#sk-container-id-1 div.sk-serial {\n",
              "  display: flex;\n",
              "  flex-direction: column;\n",
              "  align-items: center;\n",
              "  background-color: var(--sklearn-color-background);\n",
              "  padding-right: 1em;\n",
              "  padding-left: 1em;\n",
              "}\n",
              "\n",
              "\n",
              "/* Toggleable style: style used for estimator/Pipeline/ColumnTransformer box that is\n",
              "clickable and can be expanded/collapsed.\n",
              "- Pipeline and ColumnTransformer use this feature and define the default style\n",
              "- Estimators will overwrite some part of the style using the `sk-estimator` class\n",
              "*/\n",
              "\n",
              "/* Pipeline and ColumnTransformer style (default) */\n",
              "\n",
              "#sk-container-id-1 div.sk-toggleable {\n",
              "  /* Default theme specific background. It is overwritten whether we have a\n",
              "  specific estimator or a Pipeline/ColumnTransformer */\n",
              "  background-color: var(--sklearn-color-background);\n",
              "}\n",
              "\n",
              "/* Toggleable label */\n",
              "#sk-container-id-1 label.sk-toggleable__label {\n",
              "  cursor: pointer;\n",
              "  display: flex;\n",
              "  width: 100%;\n",
              "  margin-bottom: 0;\n",
              "  padding: 0.5em;\n",
              "  box-sizing: border-box;\n",
              "  text-align: center;\n",
              "  align-items: start;\n",
              "  justify-content: space-between;\n",
              "  gap: 0.5em;\n",
              "}\n",
              "\n",
              "#sk-container-id-1 label.sk-toggleable__label .caption {\n",
              "  font-size: 0.6rem;\n",
              "  font-weight: lighter;\n",
              "  color: var(--sklearn-color-text-muted);\n",
              "}\n",
              "\n",
              "#sk-container-id-1 label.sk-toggleable__label-arrow:before {\n",
              "  /* Arrow on the left of the label */\n",
              "  content: \"▸\";\n",
              "  float: left;\n",
              "  margin-right: 0.25em;\n",
              "  color: var(--sklearn-color-icon);\n",
              "}\n",
              "\n",
              "#sk-container-id-1 label.sk-toggleable__label-arrow:hover:before {\n",
              "  color: var(--sklearn-color-text);\n",
              "}\n",
              "\n",
              "/* Toggleable content - dropdown */\n",
              "\n",
              "#sk-container-id-1 div.sk-toggleable__content {\n",
              "  display: none;\n",
              "  text-align: left;\n",
              "  /* unfitted */\n",
              "  background-color: var(--sklearn-color-unfitted-level-0);\n",
              "}\n",
              "\n",
              "#sk-container-id-1 div.sk-toggleable__content.fitted {\n",
              "  /* fitted */\n",
              "  background-color: var(--sklearn-color-fitted-level-0);\n",
              "}\n",
              "\n",
              "#sk-container-id-1 div.sk-toggleable__content pre {\n",
              "  margin: 0.2em;\n",
              "  border-radius: 0.25em;\n",
              "  color: var(--sklearn-color-text);\n",
              "  /* unfitted */\n",
              "  background-color: var(--sklearn-color-unfitted-level-0);\n",
              "}\n",
              "\n",
              "#sk-container-id-1 div.sk-toggleable__content.fitted pre {\n",
              "  /* unfitted */\n",
              "  background-color: var(--sklearn-color-fitted-level-0);\n",
              "}\n",
              "\n",
              "#sk-container-id-1 input.sk-toggleable__control:checked~div.sk-toggleable__content {\n",
              "  /* Expand drop-down */\n",
              "  display: block;\n",
              "  width: 100%;\n",
              "  overflow: visible;\n",
              "}\n",
              "\n",
              "#sk-container-id-1 input.sk-toggleable__control:checked~label.sk-toggleable__label-arrow:before {\n",
              "  content: \"▾\";\n",
              "}\n",
              "\n",
              "/* Pipeline/ColumnTransformer-specific style */\n",
              "\n",
              "#sk-container-id-1 div.sk-label input.sk-toggleable__control:checked~label.sk-toggleable__label {\n",
              "  color: var(--sklearn-color-text);\n",
              "  background-color: var(--sklearn-color-unfitted-level-2);\n",
              "}\n",
              "\n",
              "#sk-container-id-1 div.sk-label.fitted input.sk-toggleable__control:checked~label.sk-toggleable__label {\n",
              "  background-color: var(--sklearn-color-fitted-level-2);\n",
              "}\n",
              "\n",
              "/* Estimator-specific style */\n",
              "\n",
              "/* Colorize estimator box */\n",
              "#sk-container-id-1 div.sk-estimator input.sk-toggleable__control:checked~label.sk-toggleable__label {\n",
              "  /* unfitted */\n",
              "  background-color: var(--sklearn-color-unfitted-level-2);\n",
              "}\n",
              "\n",
              "#sk-container-id-1 div.sk-estimator.fitted input.sk-toggleable__control:checked~label.sk-toggleable__label {\n",
              "  /* fitted */\n",
              "  background-color: var(--sklearn-color-fitted-level-2);\n",
              "}\n",
              "\n",
              "#sk-container-id-1 div.sk-label label.sk-toggleable__label,\n",
              "#sk-container-id-1 div.sk-label label {\n",
              "  /* The background is the default theme color */\n",
              "  color: var(--sklearn-color-text-on-default-background);\n",
              "}\n",
              "\n",
              "/* On hover, darken the color of the background */\n",
              "#sk-container-id-1 div.sk-label:hover label.sk-toggleable__label {\n",
              "  color: var(--sklearn-color-text);\n",
              "  background-color: var(--sklearn-color-unfitted-level-2);\n",
              "}\n",
              "\n",
              "/* Label box, darken color on hover, fitted */\n",
              "#sk-container-id-1 div.sk-label.fitted:hover label.sk-toggleable__label.fitted {\n",
              "  color: var(--sklearn-color-text);\n",
              "  background-color: var(--sklearn-color-fitted-level-2);\n",
              "}\n",
              "\n",
              "/* Estimator label */\n",
              "\n",
              "#sk-container-id-1 div.sk-label label {\n",
              "  font-family: monospace;\n",
              "  font-weight: bold;\n",
              "  display: inline-block;\n",
              "  line-height: 1.2em;\n",
              "}\n",
              "\n",
              "#sk-container-id-1 div.sk-label-container {\n",
              "  text-align: center;\n",
              "}\n",
              "\n",
              "/* Estimator-specific */\n",
              "#sk-container-id-1 div.sk-estimator {\n",
              "  font-family: monospace;\n",
              "  border: 1px dotted var(--sklearn-color-border-box);\n",
              "  border-radius: 0.25em;\n",
              "  box-sizing: border-box;\n",
              "  margin-bottom: 0.5em;\n",
              "  /* unfitted */\n",
              "  background-color: var(--sklearn-color-unfitted-level-0);\n",
              "}\n",
              "\n",
              "#sk-container-id-1 div.sk-estimator.fitted {\n",
              "  /* fitted */\n",
              "  background-color: var(--sklearn-color-fitted-level-0);\n",
              "}\n",
              "\n",
              "/* on hover */\n",
              "#sk-container-id-1 div.sk-estimator:hover {\n",
              "  /* unfitted */\n",
              "  background-color: var(--sklearn-color-unfitted-level-2);\n",
              "}\n",
              "\n",
              "#sk-container-id-1 div.sk-estimator.fitted:hover {\n",
              "  /* fitted */\n",
              "  background-color: var(--sklearn-color-fitted-level-2);\n",
              "}\n",
              "\n",
              "/* Specification for estimator info (e.g. \"i\" and \"?\") */\n",
              "\n",
              "/* Common style for \"i\" and \"?\" */\n",
              "\n",
              ".sk-estimator-doc-link,\n",
              "a:link.sk-estimator-doc-link,\n",
              "a:visited.sk-estimator-doc-link {\n",
              "  float: right;\n",
              "  font-size: smaller;\n",
              "  line-height: 1em;\n",
              "  font-family: monospace;\n",
              "  background-color: var(--sklearn-color-background);\n",
              "  border-radius: 1em;\n",
              "  height: 1em;\n",
              "  width: 1em;\n",
              "  text-decoration: none !important;\n",
              "  margin-left: 0.5em;\n",
              "  text-align: center;\n",
              "  /* unfitted */\n",
              "  border: var(--sklearn-color-unfitted-level-1) 1pt solid;\n",
              "  color: var(--sklearn-color-unfitted-level-1);\n",
              "}\n",
              "\n",
              ".sk-estimator-doc-link.fitted,\n",
              "a:link.sk-estimator-doc-link.fitted,\n",
              "a:visited.sk-estimator-doc-link.fitted {\n",
              "  /* fitted */\n",
              "  border: var(--sklearn-color-fitted-level-1) 1pt solid;\n",
              "  color: var(--sklearn-color-fitted-level-1);\n",
              "}\n",
              "\n",
              "/* On hover */\n",
              "div.sk-estimator:hover .sk-estimator-doc-link:hover,\n",
              ".sk-estimator-doc-link:hover,\n",
              "div.sk-label-container:hover .sk-estimator-doc-link:hover,\n",
              ".sk-estimator-doc-link:hover {\n",
              "  /* unfitted */\n",
              "  background-color: var(--sklearn-color-unfitted-level-3);\n",
              "  color: var(--sklearn-color-background);\n",
              "  text-decoration: none;\n",
              "}\n",
              "\n",
              "div.sk-estimator.fitted:hover .sk-estimator-doc-link.fitted:hover,\n",
              ".sk-estimator-doc-link.fitted:hover,\n",
              "div.sk-label-container:hover .sk-estimator-doc-link.fitted:hover,\n",
              ".sk-estimator-doc-link.fitted:hover {\n",
              "  /* fitted */\n",
              "  background-color: var(--sklearn-color-fitted-level-3);\n",
              "  color: var(--sklearn-color-background);\n",
              "  text-decoration: none;\n",
              "}\n",
              "\n",
              "/* Span, style for the box shown on hovering the info icon */\n",
              ".sk-estimator-doc-link span {\n",
              "  display: none;\n",
              "  z-index: 9999;\n",
              "  position: relative;\n",
              "  font-weight: normal;\n",
              "  right: .2ex;\n",
              "  padding: .5ex;\n",
              "  margin: .5ex;\n",
              "  width: min-content;\n",
              "  min-width: 20ex;\n",
              "  max-width: 50ex;\n",
              "  color: var(--sklearn-color-text);\n",
              "  box-shadow: 2pt 2pt 4pt #999;\n",
              "  /* unfitted */\n",
              "  background: var(--sklearn-color-unfitted-level-0);\n",
              "  border: .5pt solid var(--sklearn-color-unfitted-level-3);\n",
              "}\n",
              "\n",
              ".sk-estimator-doc-link.fitted span {\n",
              "  /* fitted */\n",
              "  background: var(--sklearn-color-fitted-level-0);\n",
              "  border: var(--sklearn-color-fitted-level-3);\n",
              "}\n",
              "\n",
              ".sk-estimator-doc-link:hover span {\n",
              "  display: block;\n",
              "}\n",
              "\n",
              "/* \"?\"-specific style due to the `<a>` HTML tag */\n",
              "\n",
              "#sk-container-id-1 a.estimator_doc_link {\n",
              "  float: right;\n",
              "  font-size: 1rem;\n",
              "  line-height: 1em;\n",
              "  font-family: monospace;\n",
              "  background-color: var(--sklearn-color-background);\n",
              "  border-radius: 1rem;\n",
              "  height: 1rem;\n",
              "  width: 1rem;\n",
              "  text-decoration: none;\n",
              "  /* unfitted */\n",
              "  color: var(--sklearn-color-unfitted-level-1);\n",
              "  border: var(--sklearn-color-unfitted-level-1) 1pt solid;\n",
              "}\n",
              "\n",
              "#sk-container-id-1 a.estimator_doc_link.fitted {\n",
              "  /* fitted */\n",
              "  border: var(--sklearn-color-fitted-level-1) 1pt solid;\n",
              "  color: var(--sklearn-color-fitted-level-1);\n",
              "}\n",
              "\n",
              "/* On hover */\n",
              "#sk-container-id-1 a.estimator_doc_link:hover {\n",
              "  /* unfitted */\n",
              "  background-color: var(--sklearn-color-unfitted-level-3);\n",
              "  color: var(--sklearn-color-background);\n",
              "  text-decoration: none;\n",
              "}\n",
              "\n",
              "#sk-container-id-1 a.estimator_doc_link.fitted:hover {\n",
              "  /* fitted */\n",
              "  background-color: var(--sklearn-color-fitted-level-3);\n",
              "}\n",
              "\n",
              ".estimator-table summary {\n",
              "    padding: .5rem;\n",
              "    font-family: monospace;\n",
              "    cursor: pointer;\n",
              "}\n",
              "\n",
              ".estimator-table details[open] {\n",
              "    padding-left: 0.1rem;\n",
              "    padding-right: 0.1rem;\n",
              "    padding-bottom: 0.3rem;\n",
              "}\n",
              "\n",
              ".estimator-table .parameters-table {\n",
              "    margin-left: auto !important;\n",
              "    margin-right: auto !important;\n",
              "}\n",
              "\n",
              ".estimator-table .parameters-table tr:nth-child(odd) {\n",
              "    background-color: #fff;\n",
              "}\n",
              "\n",
              ".estimator-table .parameters-table tr:nth-child(even) {\n",
              "    background-color: #f6f6f6;\n",
              "}\n",
              "\n",
              ".estimator-table .parameters-table tr:hover {\n",
              "    background-color: #e0e0e0;\n",
              "}\n",
              "\n",
              ".estimator-table table td {\n",
              "    border: 1px solid rgba(106, 105, 104, 0.232);\n",
              "}\n",
              "\n",
              ".user-set td {\n",
              "    color:rgb(255, 94, 0);\n",
              "    text-align: left;\n",
              "}\n",
              "\n",
              ".user-set td.value pre {\n",
              "    color:rgb(255, 94, 0) !important;\n",
              "    background-color: transparent !important;\n",
              "}\n",
              "\n",
              ".default td {\n",
              "    color: black;\n",
              "    text-align: left;\n",
              "}\n",
              "\n",
              ".user-set td i,\n",
              ".default td i {\n",
              "    color: black;\n",
              "}\n",
              "\n",
              ".copy-paste-icon {\n",
              "    background-image: url(data:image/svg+xml;base64,PHN2ZyB4bWxucz0iaHR0cDovL3d3dy53My5vcmcvMjAwMC9zdmciIHZpZXdCb3g9IjAgMCA0NDggNTEyIj48IS0tIUZvbnQgQXdlc29tZSBGcmVlIDYuNy4yIGJ5IEBmb250YXdlc29tZSAtIGh0dHBzOi8vZm9udGF3ZXNvbWUuY29tIExpY2Vuc2UgLSBodHRwczovL2ZvbnRhd2Vzb21lLmNvbS9saWNlbnNlL2ZyZWUgQ29weXJpZ2h0IDIwMjUgRm9udGljb25zLCBJbmMuLS0+PHBhdGggZD0iTTIwOCAwTDMzMi4xIDBjMTIuNyAwIDI0LjkgNS4xIDMzLjkgMTQuMWw2Ny45IDY3LjljOSA5IDE0LjEgMjEuMiAxNC4xIDMzLjlMNDQ4IDMzNmMwIDI2LjUtMjEuNSA0OC00OCA0OGwtMTkyIDBjLTI2LjUgMC00OC0yMS41LTQ4LTQ4bDAtMjg4YzAtMjYuNSAyMS41LTQ4IDQ4LTQ4ek00OCAxMjhsODAgMCAwIDY0LTY0IDAgMCAyNTYgMTkyIDAgMC0zMiA2NCAwIDAgNDhjMCAyNi41LTIxLjUgNDgtNDggNDhMNDggNTEyYy0yNi41IDAtNDgtMjEuNS00OC00OEwwIDE3NmMwLTI2LjUgMjEuNS00OCA0OC00OHoiLz48L3N2Zz4=);\n",
              "    background-repeat: no-repeat;\n",
              "    background-size: 14px 14px;\n",
              "    background-position: 0;\n",
              "    display: inline-block;\n",
              "    width: 14px;\n",
              "    height: 14px;\n",
              "    cursor: pointer;\n",
              "}\n",
              "</style><body><div id=\"sk-container-id-1\" class=\"sk-top-container\"><div class=\"sk-text-repr-fallback\"><pre>KMeans(n_init=10, random_state=42)</pre><b>In a Jupyter environment, please rerun this cell to show the HTML representation or trust the notebook. <br />On GitHub, the HTML representation is unable to render, please try loading this page with nbviewer.org.</b></div><div class=\"sk-container\" hidden><div class=\"sk-item\"><div class=\"sk-estimator fitted sk-toggleable\"><input class=\"sk-toggleable__control sk-hidden--visually\" id=\"sk-estimator-id-1\" type=\"checkbox\" checked><label for=\"sk-estimator-id-1\" class=\"sk-toggleable__label fitted sk-toggleable__label-arrow\"><div><div>KMeans</div></div><div><a class=\"sk-estimator-doc-link fitted\" rel=\"noreferrer\" target=\"_blank\" href=\"https://scikit-learn.org/1.7/modules/generated/sklearn.cluster.KMeans.html\">?<span>Documentation for KMeans</span></a><span class=\"sk-estimator-doc-link fitted\">i<span>Fitted</span></span></div></label><div class=\"sk-toggleable__content fitted\" data-param-prefix=\"\">\n",
              "        <div class=\"estimator-table\">\n",
              "            <details>\n",
              "                <summary>Parameters</summary>\n",
              "                <table class=\"parameters-table\">\n",
              "                  <tbody>\n",
              "                    \n",
              "        <tr class=\"default\">\n",
              "            <td><i class=\"copy-paste-icon\"\n",
              "                 onclick=\"copyToClipboard('n_clusters',\n",
              "                          this.parentElement.nextElementSibling)\"\n",
              "            ></i></td>\n",
              "            <td class=\"param\">n_clusters&nbsp;</td>\n",
              "            <td class=\"value\">8</td>\n",
              "        </tr>\n",
              "    \n",
              "\n",
              "        <tr class=\"default\">\n",
              "            <td><i class=\"copy-paste-icon\"\n",
              "                 onclick=\"copyToClipboard('init',\n",
              "                          this.parentElement.nextElementSibling)\"\n",
              "            ></i></td>\n",
              "            <td class=\"param\">init&nbsp;</td>\n",
              "            <td class=\"value\">&#x27;k-means++&#x27;</td>\n",
              "        </tr>\n",
              "    \n",
              "\n",
              "        <tr class=\"user-set\">\n",
              "            <td><i class=\"copy-paste-icon\"\n",
              "                 onclick=\"copyToClipboard('n_init',\n",
              "                          this.parentElement.nextElementSibling)\"\n",
              "            ></i></td>\n",
              "            <td class=\"param\">n_init&nbsp;</td>\n",
              "            <td class=\"value\">10</td>\n",
              "        </tr>\n",
              "    \n",
              "\n",
              "        <tr class=\"default\">\n",
              "            <td><i class=\"copy-paste-icon\"\n",
              "                 onclick=\"copyToClipboard('max_iter',\n",
              "                          this.parentElement.nextElementSibling)\"\n",
              "            ></i></td>\n",
              "            <td class=\"param\">max_iter&nbsp;</td>\n",
              "            <td class=\"value\">300</td>\n",
              "        </tr>\n",
              "    \n",
              "\n",
              "        <tr class=\"default\">\n",
              "            <td><i class=\"copy-paste-icon\"\n",
              "                 onclick=\"copyToClipboard('tol',\n",
              "                          this.parentElement.nextElementSibling)\"\n",
              "            ></i></td>\n",
              "            <td class=\"param\">tol&nbsp;</td>\n",
              "            <td class=\"value\">0.0001</td>\n",
              "        </tr>\n",
              "    \n",
              "\n",
              "        <tr class=\"default\">\n",
              "            <td><i class=\"copy-paste-icon\"\n",
              "                 onclick=\"copyToClipboard('verbose',\n",
              "                          this.parentElement.nextElementSibling)\"\n",
              "            ></i></td>\n",
              "            <td class=\"param\">verbose&nbsp;</td>\n",
              "            <td class=\"value\">0</td>\n",
              "        </tr>\n",
              "    \n",
              "\n",
              "        <tr class=\"user-set\">\n",
              "            <td><i class=\"copy-paste-icon\"\n",
              "                 onclick=\"copyToClipboard('random_state',\n",
              "                          this.parentElement.nextElementSibling)\"\n",
              "            ></i></td>\n",
              "            <td class=\"param\">random_state&nbsp;</td>\n",
              "            <td class=\"value\">42</td>\n",
              "        </tr>\n",
              "    \n",
              "\n",
              "        <tr class=\"default\">\n",
              "            <td><i class=\"copy-paste-icon\"\n",
              "                 onclick=\"copyToClipboard('copy_x',\n",
              "                          this.parentElement.nextElementSibling)\"\n",
              "            ></i></td>\n",
              "            <td class=\"param\">copy_x&nbsp;</td>\n",
              "            <td class=\"value\">True</td>\n",
              "        </tr>\n",
              "    \n",
              "\n",
              "        <tr class=\"default\">\n",
              "            <td><i class=\"copy-paste-icon\"\n",
              "                 onclick=\"copyToClipboard('algorithm',\n",
              "                          this.parentElement.nextElementSibling)\"\n",
              "            ></i></td>\n",
              "            <td class=\"param\">algorithm&nbsp;</td>\n",
              "            <td class=\"value\">&#x27;lloyd&#x27;</td>\n",
              "        </tr>\n",
              "    \n",
              "                  </tbody>\n",
              "                </table>\n",
              "            </details>\n",
              "        </div>\n",
              "    </div></div></div></div></div><script>function copyToClipboard(text, element) {\n",
              "    // Get the parameter prefix from the closest toggleable content\n",
              "    const toggleableContent = element.closest('.sk-toggleable__content');\n",
              "    const paramPrefix = toggleableContent ? toggleableContent.dataset.paramPrefix : '';\n",
              "    const fullParamName = paramPrefix ? `${paramPrefix}${text}` : text;\n",
              "\n",
              "    const originalStyle = element.style;\n",
              "    const computedStyle = window.getComputedStyle(element);\n",
              "    const originalWidth = computedStyle.width;\n",
              "    const originalHTML = element.innerHTML.replace('Copied!', '');\n",
              "\n",
              "    navigator.clipboard.writeText(fullParamName)\n",
              "        .then(() => {\n",
              "            element.style.width = originalWidth;\n",
              "            element.style.color = 'green';\n",
              "            element.innerHTML = \"Copied!\";\n",
              "\n",
              "            setTimeout(() => {\n",
              "                element.innerHTML = originalHTML;\n",
              "                element.style = originalStyle;\n",
              "            }, 2000);\n",
              "        })\n",
              "        .catch(err => {\n",
              "            console.error('Failed to copy:', err);\n",
              "            element.style.color = 'red';\n",
              "            element.innerHTML = \"Failed!\";\n",
              "            setTimeout(() => {\n",
              "                element.innerHTML = originalHTML;\n",
              "                element.style = originalStyle;\n",
              "            }, 2000);\n",
              "        });\n",
              "    return false;\n",
              "}\n",
              "\n",
              "document.querySelectorAll('.fa-regular.fa-copy').forEach(function(element) {\n",
              "    const toggleableContent = element.closest('.sk-toggleable__content');\n",
              "    const paramPrefix = toggleableContent ? toggleableContent.dataset.paramPrefix : '';\n",
              "    const paramName = element.parentElement.nextElementSibling.textContent.trim();\n",
              "    const fullParamName = paramPrefix ? `${paramPrefix}${paramName}` : paramName;\n",
              "\n",
              "    element.setAttribute('title', fullParamName);\n",
              "});\n",
              "</script></body>"
            ],
            "text/plain": [
              "KMeans(n_init=10, random_state=42)"
            ]
          },
          "execution_count": 51,
          "metadata": {},
          "output_type": "execute_result"
        }
      ],
      "source": [
        "from keybert import KeyBERT\n",
        "\n",
        "# --- Step 1: Run K-Means with Your Chosen K ---\n",
        "OPTIMAL_K = 8\n",
        "print(f\"Running K-Means with the chosen optimal K = {OPTIMAL_K}\")\n",
        "\n",
        "kmeans = KMeans(n_clusters=OPTIMAL_K, random_state=42, n_init=10)\n",
        "kmeans.fit(defect_embeddings)"
      ]
    },
    {
      "cell_type": "code",
      "execution_count": 52,
      "metadata": {
        "colab": {
          "base_uri": "https://localhost:8080/"
        },
        "id": "obyE4nGqmuec",
        "outputId": "b1992e18-bbf1-4dff-cb91-c30a07875857"
      },
      "outputs": [
        {
          "name": "stdout",
          "output_type": "stream",
          "text": [
            "Clustering complete.\n",
            "\n",
            "Automatically Generating Cluster Names with KeyBERT.....\n",
            "Cluster 0: Suggested Name = 'print_defects'\n",
            "Cluster 1: Suggested Name = 'foreign_material'\n",
            "Cluster 2: Suggested Name = 'misc_support'\n",
            "Cluster 3: Suggested Name = 'defective_packaging'\n",
            "Cluster 4: Suggested Name = 'crease_warped'\n",
            "Cluster 5: Suggested Name = 'incorrect_color'\n",
            "Cluster 6: Suggested Name = 'labels_incorrect'\n",
            "Cluster 7: Suggested Name = 'defects_bad'\n"
          ]
        }
      ],
      "source": [
        "# Create a mapping from each unique defect description to its cluster ID (0-6)\n",
        "defect_to_cluster_map = dict(zip(unique_defects, kmeans.labels_))\n",
        "print(\"Clustering complete.\")\n",
        "\n",
        "\n",
        "#Step 2: Automatically Generate Cluster Names with KeyBERT\n",
        "print(\"\\nAutomatically Generating Cluster Names with KeyBERT.....\")\n",
        "\n",
        "# Initialize the KeyBERT model\n",
        "kw_model = KeyBERT(model='all-MiniLM-L6-v2')\n",
        "\n",
        "# This dictionary will store our final names, e.g., {0: 'seam_and_seal_issue', 1: 'print_quality_defect', ...}\n",
        "auto_cluster_names = {}\n",
        "\n",
        "for i in range(OPTIMAL_K):\n",
        "    # a. Get all defect descriptions for the current cluster\n",
        "    cluster_defects = [defect for defect, cluster_id in defect_to_cluster_map.items() if cluster_id == i]\n",
        "\n",
        "    # b. Join them into a single block of text to be summarized\n",
        "    document = \". \".join(cluster_defects)\n",
        "\n",
        "    # c. Extract the best descriptive phrase (1 to 3 words long)\n",
        "    keywords = kw_model.extract_keywords(document,\n",
        "                                         keyphrase_ngram_range=(1, 2),\n",
        "                                         stop_words='english',\n",
        "                                         top_n=1)\n",
        "\n",
        "    # d. Get the generated name and clean it up for use as a column name\n",
        "    if keywords:\n",
        "        # Replace spaces with underscores and make it lowercase\n",
        "        cluster_name = keywords[0][0].replace(' ', '_')\n",
        "    else:\n",
        "        cluster_name = f\"cluster_{i}_unnamed\" # Fallback name\n",
        "\n",
        "    auto_cluster_names[i] = cluster_name\n",
        "\n",
        "    print(f\"Cluster {i}: Suggested Name = '{cluster_name}'\")"
      ]
    },
    {
      "cell_type": "code",
      "execution_count": 53,
      "metadata": {
        "colab": {
          "base_uri": "https://localhost:8080/"
        },
        "id": "WZ_JAdMHmub0",
        "outputId": "73d4c674-9222-4e0e-e627-30eb386bf062"
      },
      "outputs": [
        {
          "name": "stdout",
          "output_type": "stream",
          "text": [
            "\n",
            "--- Applying the new names to the DataFrame ---\n"
          ]
        }
      ],
      "source": [
        "#Step 3: Create the Final DataFrame Column\n",
        "print(\"\\n--- Applying the new names to the DataFrame ---\")\n",
        "\n",
        "# a. First, create the column with the numerical cluster IDs\n",
        "batchesCluster['Defect_Clusters'] = batchesCluster['Defect'].map(defect_to_cluster_map)\n",
        "\n",
        "# b. Now, map these IDs to your newly generated names to create the final, human-readable column\n",
        "batchesCluster['Defect_Category'] = batchesCluster['Defect_Clusters'].map(auto_cluster_names)\n",
        "\n",
        "# c. Clean up by dropping the intermediate columns\n",
        "batchesCluster_F = batchesCluster.drop(columns=['Defect_Clusters'])"
      ]
    },
    {
      "cell_type": "code",
      "execution_count": 54,
      "metadata": {
        "colab": {
          "base_uri": "https://localhost:8080/",
          "height": 310
        },
        "id": "00YloHkWmuWT",
        "outputId": "cc0e3e6e-9dfb-40e9-9ead-c931929baf51"
      },
      "outputs": [
        {
          "data": {
            "text/html": [
              "<div>\n",
              "<style scoped>\n",
              "    .dataframe tbody tr th:only-of-type {\n",
              "        vertical-align: middle;\n",
              "    }\n",
              "\n",
              "    .dataframe tbody tr th {\n",
              "        vertical-align: top;\n",
              "    }\n",
              "\n",
              "    .dataframe thead th {\n",
              "        text-align: right;\n",
              "    }\n",
              "</style>\n",
              "<table border=\"1\" class=\"dataframe\">\n",
              "  <thead>\n",
              "    <tr style=\"text-align: right;\">\n",
              "      <th></th>\n",
              "      <th>Date</th>\n",
              "      <th>Vendor</th>\n",
              "      <th>Plant Location</th>\n",
              "      <th>State</th>\n",
              "      <th>Category</th>\n",
              "      <th>Material Type</th>\n",
              "      <th>Defect Type</th>\n",
              "      <th>Defect</th>\n",
              "      <th>Total Defect Qty</th>\n",
              "      <th>Total Downtime Minutes</th>\n",
              "      <th>Defect_Category</th>\n",
              "    </tr>\n",
              "  </thead>\n",
              "  <tbody>\n",
              "    <tr>\n",
              "      <th>0</th>\n",
              "      <td>2013-04-13</td>\n",
              "      <td>Gabvine</td>\n",
              "      <td>Reading</td>\n",
              "      <td>MN</td>\n",
              "      <td>Logistics</td>\n",
              "      <td>Film</td>\n",
              "      <td>Impact</td>\n",
              "      <td>Damaged Secondary Packaging</td>\n",
              "      <td>326975.0</td>\n",
              "      <td>3252.0</td>\n",
              "      <td>defective_packaging</td>\n",
              "    </tr>\n",
              "    <tr>\n",
              "      <th>1</th>\n",
              "      <td>2014-03-12</td>\n",
              "      <td>Linkbridge</td>\n",
              "      <td>Prescott</td>\n",
              "      <td>NY</td>\n",
              "      <td>Packaging</td>\n",
              "      <td>Film</td>\n",
              "      <td>No Impact</td>\n",
              "      <td>Foreign Material</td>\n",
              "      <td>360887.0</td>\n",
              "      <td>2337.0</td>\n",
              "      <td>foreign_material</td>\n",
              "    </tr>\n",
              "    <tr>\n",
              "      <th>2</th>\n",
              "      <td>2013-09-28</td>\n",
              "      <td>Realpoint</td>\n",
              "      <td>Florence</td>\n",
              "      <td>IL</td>\n",
              "      <td>Mechanicals</td>\n",
              "      <td>Raw Materials</td>\n",
              "      <td>No Impact</td>\n",
              "      <td>Foreign objects found</td>\n",
              "      <td>82253.0</td>\n",
              "      <td>828.0</td>\n",
              "      <td>foreign_material</td>\n",
              "    </tr>\n",
              "    <tr>\n",
              "      <th>3</th>\n",
              "      <td>2013-04-17</td>\n",
              "      <td>Latz</td>\n",
              "      <td>Westside</td>\n",
              "      <td>NC</td>\n",
              "      <td>Logistics</td>\n",
              "      <td>Corrugate</td>\n",
              "      <td>Impact</td>\n",
              "      <td>Gap Variation</td>\n",
              "      <td>189966.0</td>\n",
              "      <td>1935.0</td>\n",
              "      <td>foreign_material</td>\n",
              "    </tr>\n",
              "    <tr>\n",
              "      <th>4</th>\n",
              "      <td>2013-03-13</td>\n",
              "      <td>Skiptube</td>\n",
              "      <td>Bruce Crossing</td>\n",
              "      <td>NJ</td>\n",
              "      <td>Goods &amp; Services</td>\n",
              "      <td>Controllers</td>\n",
              "      <td>Rejected</td>\n",
              "      <td>Gap Variation</td>\n",
              "      <td>103577.0</td>\n",
              "      <td>1111.0</td>\n",
              "      <td>foreign_material</td>\n",
              "    </tr>\n",
              "  </tbody>\n",
              "</table>\n",
              "</div>"
            ],
            "text/plain": [
              "        Date      Vendor  Plant Location State          Category  \\\n",
              "0 2013-04-13     Gabvine         Reading    MN         Logistics   \n",
              "1 2014-03-12  Linkbridge        Prescott    NY         Packaging   \n",
              "2 2013-09-28   Realpoint        Florence    IL       Mechanicals   \n",
              "3 2013-04-17        Latz        Westside    NC         Logistics   \n",
              "4 2013-03-13    Skiptube  Bruce Crossing    NJ  Goods & Services   \n",
              "\n",
              "   Material Type Defect Type                       Defect  Total Defect Qty  \\\n",
              "0           Film      Impact  Damaged Secondary Packaging          326975.0   \n",
              "1           Film   No Impact             Foreign Material          360887.0   \n",
              "2  Raw Materials   No Impact        Foreign objects found           82253.0   \n",
              "3      Corrugate      Impact                Gap Variation          189966.0   \n",
              "4    Controllers    Rejected                Gap Variation          103577.0   \n",
              "\n",
              "   Total Downtime Minutes      Defect_Category  \n",
              "0                  3252.0  defective_packaging  \n",
              "1                  2337.0     foreign_material  \n",
              "2                   828.0     foreign_material  \n",
              "3                  1935.0     foreign_material  \n",
              "4                  1111.0     foreign_material  "
            ]
          },
          "execution_count": 54,
          "metadata": {},
          "output_type": "execute_result"
        }
      ],
      "source": [
        "batchesCluster_F.head()"
      ]
    },
    {
      "cell_type": "code",
      "execution_count": 55,
      "metadata": {
        "colab": {
          "base_uri": "https://localhost:8080/",
          "height": 366
        },
        "id": "16uWBNTYmuTb",
        "outputId": "64c89324-5865-4d6c-e620-79f5388bdd0a"
      },
      "outputs": [
        {
          "data": {
            "text/plain": [
              "Defect_Category\n",
              "foreign_material       2174\n",
              "misc_support           1958\n",
              "defects_bad            1728\n",
              "crease_warped          1405\n",
              "incorrect_color        1163\n",
              "defective_packaging     739\n",
              "print_defects           552\n",
              "labels_incorrect        281\n",
              "Name: count, dtype: int64"
            ]
          },
          "execution_count": 55,
          "metadata": {},
          "output_type": "execute_result"
        }
      ],
      "source": [
        "batchesCluster_F['Defect_Category'].value_counts()"
      ]
    },
    {
      "cell_type": "code",
      "execution_count": 56,
      "metadata": {
        "colab": {
          "base_uri": "https://localhost:8080/"
        },
        "id": "oyv4bTLRmuQj",
        "outputId": "bdfc0948-1571-4b18-bee4-52aef2902901"
      },
      "outputs": [
        {
          "data": {
            "text/plain": [
              "Index(['Date', 'Vendor', 'Plant Location', 'State', 'Category',\n",
              "       'Material Type', 'Defect Type', 'Defect', 'Total Defect Qty',\n",
              "       'Total Downtime Minutes', 'Defect_Category'],\n",
              "      dtype='object')"
            ]
          },
          "execution_count": 56,
          "metadata": {},
          "output_type": "execute_result"
        }
      ],
      "source": [
        "batchesCluster_F.columns"
      ]
    },
    {
      "cell_type": "code",
      "execution_count": 57,
      "metadata": {
        "colab": {
          "base_uri": "https://localhost:8080/",
          "height": 1000
        },
        "id": "XCfRjmMSmuLW",
        "outputId": "00009b6c-9aab-4959-d984-1cebd9cb5df5"
      },
      "outputs": [
        {
          "data": {
            "text/plain": [
              "Plant Location\n",
              "Riverside         399\n",
              "Charles City      398\n",
              "Climax            382\n",
              "Chesaning         380\n",
              "Cottonwood        376\n",
              "Twin Rocks        366\n",
              "De Ruyter         354\n",
              "Hingham           345\n",
              "Jordan Valley     341\n",
              "Bloomingdale      341\n",
              "Garwood           339\n",
              "Frazer            337\n",
              "Bruce Crossing    336\n",
              "Prescott          336\n",
              "Henning           336\n",
              "Clay              335\n",
              "Florence          335\n",
              "June Lake         324\n",
              "Barling           320\n",
              "New Britain       314\n",
              "Waldoboro         312\n",
              "Charlevoix        312\n",
              "Weaverville       312\n",
              "Chatham           311\n",
              "Ripton            308\n",
              "Clarksville       307\n",
              "Savannah          306\n",
              "Westside          303\n",
              "Reading           280\n",
              "Middletown        255\n",
              "Name: count, dtype: int64"
            ]
          },
          "execution_count": 57,
          "metadata": {},
          "output_type": "execute_result"
        }
      ],
      "source": [
        "batchesCluster_F['Plant Location'].value_counts()"
      ]
    },
    {
      "cell_type": "code",
      "execution_count": 58,
      "metadata": {
        "colab": {
          "base_uri": "https://localhost:8080/",
          "height": 774
        },
        "id": "BJYXOAt6muIf",
        "outputId": "120b5aab-e062-4fa2-98bc-074771d9929f"
      },
      "outputs": [
        {
          "data": {
            "text/plain": [
              "State\n",
              "MI    1787\n",
              "NY    1256\n",
              "PA     723\n",
              "VA     699\n",
              "MN     364\n",
              "MA     357\n",
              "OR     349\n",
              "IL     340\n",
              "AR     339\n",
              "CA     338\n",
              "NJ     330\n",
              "MT     325\n",
              "NC     324\n",
              "IA     322\n",
              "OH     316\n",
              "VT     316\n",
              "AZ     310\n",
              "TX     308\n",
              "ME     307\n",
              "KY     302\n",
              "CT     288\n",
              "Name: count, dtype: int64"
            ]
          },
          "execution_count": 58,
          "metadata": {},
          "output_type": "execute_result"
        }
      ],
      "source": [
        "batchesCluster_F['State'].value_counts()"
      ]
    },
    {
      "cell_type": "code",
      "execution_count": 59,
      "metadata": {
        "colab": {
          "base_uri": "https://localhost:8080/"
        },
        "id": "y9FP3maAmuGA",
        "outputId": "93edaa4e-5ca6-4962-bedd-042ab3eac917"
      },
      "outputs": [
        {
          "name": "stdout",
          "output_type": "stream",
          "text": [
            "   Plant Location State     Region\n",
            "0         Reading    MN    Midwest\n",
            "1        Prescott    NY  Northeast\n",
            "2        Florence    IL    Midwest\n",
            "3        Westside    NC      South\n",
            "4  Bruce Crossing    NJ  Northeast\n"
          ]
        }
      ],
      "source": [
        "# Mapping of states to major U.S. regions\n",
        "region_map = {\n",
        "    'CT': 'Northeast', 'ME': 'Northeast', 'MA': 'Northeast', 'NH': 'Northeast',\n",
        "    'RI': 'Northeast', 'VT': 'Northeast', 'NJ': 'Northeast', 'NY': 'Northeast',\n",
        "    'PA': 'Northeast',\n",
        "    'IL': 'Midwest', 'IN': 'Midwest', 'MI': 'Midwest', 'OH': 'Midwest', 'WI': 'Midwest',\n",
        "    'IA': 'Midwest', 'KS': 'Midwest', 'MN': 'Midwest', 'MO': 'Midwest', 'NE': 'Midwest',\n",
        "    'ND': 'Midwest', 'SD': 'Midwest',\n",
        "    'DE': 'South', 'FL': 'South', 'GA': 'South', 'MD': 'South', 'NC': 'South',\n",
        "    'SC': 'South', 'VA': 'South', 'WV': 'South', 'AL': 'South', 'KY': 'South',\n",
        "    'MS': 'South', 'TN': 'South', 'AR': 'South', 'LA': 'South', 'OK': 'South',\n",
        "    'TX': 'South',\n",
        "    'AZ': 'West', 'CO': 'West', 'ID': 'West', 'MT': 'West', 'NV': 'West', 'NM': 'West',\n",
        "    'UT': 'West', 'WY': 'West', 'CA': 'West', 'OR': 'West', 'WA': 'West'\n",
        "}\n",
        "\n",
        "# Add a new 'Region' column based on the state abbreviation\n",
        "batchesCluster_F['Region'] = batchesCluster_F['State'].map(region_map)\n",
        "\n",
        "# Preview the new columns\n",
        "print(batchesCluster_F[['Plant Location', 'State', 'Region']].head())"
      ]
    },
    {
      "cell_type": "code",
      "execution_count": 60,
      "metadata": {
        "colab": {
          "base_uri": "https://localhost:8080/",
          "height": 241
        },
        "id": "abN9o03Z-PaW",
        "outputId": "99d996b0-dee2-4c9c-d8fa-14503c365102"
      },
      "outputs": [
        {
          "data": {
            "text/plain": [
              "Region\n",
              "Northeast    3577\n",
              "Midwest      3129\n",
              "South        1972\n",
              "West         1322\n",
              "Name: count, dtype: int64"
            ]
          },
          "execution_count": 60,
          "metadata": {},
          "output_type": "execute_result"
        }
      ],
      "source": [
        "batchesCluster_F['Region'].value_counts()"
      ]
    },
    {
      "cell_type": "markdown",
      "metadata": {
        "id": "ARHpFisv1aL2"
      },
      "source": [
        "- Reduce Feature Cardinality: Combining plants by state or region lowers the number of unique values, which helps prevent overfitting and reduces model complexity.\n",
        "- Reveal Regional Trends: Grouping may capture operational or supplier differences by geographical clusters (for example, Midwest vs. West vs. Northeast).\n",
        "- Support Hierarchical Analysis: You can analyze or predict downtime patterns at multiple levels—plant, state, or region."
      ]
    },
    {
      "cell_type": "code",
      "execution_count": 61,
      "metadata": {
        "colab": {
          "base_uri": "https://localhost:8080/",
          "height": 805
        },
        "id": "Zr4xqVQlmt4r",
        "outputId": "44192bf3-671d-4769-f0d4-129ccd30dbb8"
      },
      "outputs": [
        {
          "data": {
            "text/plain": [
              "Material Type\n",
              "Raw Materials        2925\n",
              "Corrugate            2437\n",
              "Film                  830\n",
              "Labels                706\n",
              "Carton                661\n",
              "Controllers           556\n",
              "Batteries             434\n",
              "Glass                 315\n",
              "Electrolytes          286\n",
              "Molds                 259\n",
              "Composites            226\n",
              "Hardware              121\n",
              "Motors                 75\n",
              "Packaging              63\n",
              "Drives                 61\n",
              "Pump                   16\n",
              "Mechanicals             8\n",
              "Tape                    8\n",
              "Crates                  6\n",
              "Valves                  4\n",
              "Wires                   2\n",
              "Printed Materials       1\n",
              "Name: count, dtype: int64"
            ]
          },
          "execution_count": 61,
          "metadata": {},
          "output_type": "execute_result"
        }
      ],
      "source": [
        "batchesCluster_F['Material Type'].value_counts()"
      ]
    },
    {
      "cell_type": "markdown",
      "metadata": {
        "id": "lyq0inNCS7gL"
      },
      "source": [
        "**Clubbing Material Type:**\n",
        "- Model Stability: Rare material types may lead to less reliable predictions and can cause overfitting if left as separate dummy variables or categories.\n",
        "- Business Interpretability: Some materials (e.g., “Motors,” “Valves,” “Tape”) are too few to justify independent treatment and do not provide enough statistical power to identify meaningful trends.\n",
        "- Improves Model Generalization: Reduces noise from rare categories."
      ]
    },
    {
      "cell_type": "code",
      "execution_count": 62,
      "metadata": {
        "id": "oRZykrkYSxlz"
      },
      "outputs": [],
      "source": [
        "# Define a function to group material types into broader categories\n",
        "def group_material_feature(material):\n",
        "    electrical_components = ['Controllers', 'Batteries', 'Motors', 'Drives']\n",
        "    glass_composites = ['Glass', 'Composites', 'Electrolytes', 'Molds']\n",
        "    packaging_related = ['Packaging', 'Tape', 'Crates', 'Printed Materials', 'Wires']\n",
        "    other_rare = ['Mechanicals', 'Pump', 'Valves']\n",
        "\n",
        "    if material in electrical_components:\n",
        "        return 'Electrical Components'\n",
        "    elif material in glass_composites:\n",
        "        return 'Glass/Composites'\n",
        "    elif material in packaging_related:\n",
        "        return 'Packaging Related'\n",
        "    elif material in other_rare:\n",
        "        return 'Other'\n",
        "    else:\n",
        "        return material  # Keep common types like 'Raw Materials', 'Corrugate', etc.\n",
        "\n",
        "# Apply this function to your actual DataFrame (assumed as df)\n",
        "batchesCluster_F['Grouped Material Type'] = batchesCluster_F['Material Type'].apply(group_material_feature)"
      ]
    },
    {
      "cell_type": "code",
      "execution_count": 63,
      "metadata": {
        "colab": {
          "base_uri": "https://localhost:8080/",
          "height": 429
        },
        "id": "OlaF53aMTXn6",
        "outputId": "6962d0d6-fed2-4e54-c3c3-e73205df4cc7"
      },
      "outputs": [
        {
          "data": {
            "text/plain": [
              "Grouped Material Type\n",
              "Raw Materials            2925\n",
              "Corrugate                2437\n",
              "Electrical Components    1126\n",
              "Glass/Composites         1086\n",
              "Film                      830\n",
              "Labels                    706\n",
              "Carton                    661\n",
              "Hardware                  121\n",
              "Packaging Related          80\n",
              "Other                      28\n",
              "Name: count, dtype: int64"
            ]
          },
          "execution_count": 63,
          "metadata": {},
          "output_type": "execute_result"
        }
      ],
      "source": [
        "batchesCluster_F['Grouped Material Type'].value_counts()"
      ]
    },
    {
      "cell_type": "code",
      "execution_count": 64,
      "metadata": {
        "id": "7FJOYImpmt-D"
      },
      "outputs": [],
      "source": [
        "#renaming column name\n",
        "batchesCluster_F.rename(columns={'Defect Type': 'Defect_Type'}, inplace=True)\n",
        "batchesCluster_F.rename(columns={'Material Type': 'Material_Type'}, inplace=True)\n",
        "batchesCluster_F.rename(columns={'Total Defect Qty': 'Total_Defect_Qty'}, inplace=True)\n",
        "batchesCluster_F.rename(columns={'Total Downtime Minutes': 'Total_Downtime_Minutes'}, inplace=True)\n",
        "batchesCluster_F.rename(columns={'Plant Location': 'Plant_Location'}, inplace=True)\n",
        "batchesCluster_F.rename(columns={'Grouped Material Type': 'Grouped_Material_Type'}, inplace=True)"
      ]
    },
    {
      "cell_type": "code",
      "execution_count": 65,
      "metadata": {
        "colab": {
          "base_uri": "https://localhost:8080/"
        },
        "id": "RFprL_o7muAr",
        "outputId": "e29e53c4-7aa3-43ba-e696-a000b264d294"
      },
      "outputs": [
        {
          "data": {
            "text/plain": [
              "Index(['Date', 'Vendor', 'Plant_Location', 'State', 'Category',\n",
              "       'Material_Type', 'Defect_Type', 'Defect', 'Total_Defect_Qty',\n",
              "       'Total_Downtime_Minutes', 'Defect_Category', 'Region',\n",
              "       'Grouped_Material_Type'],\n",
              "      dtype='object')"
            ]
          },
          "execution_count": 65,
          "metadata": {},
          "output_type": "execute_result"
        }
      ],
      "source": [
        "batchesCluster_F.columns"
      ]
    },
    {
      "cell_type": "code",
      "execution_count": 66,
      "metadata": {
        "id": "61AolRuM4rTa"
      },
      "outputs": [],
      "source": [
        "categorical_cols = [\n",
        "    'Vendor', 'Plant_Location', 'State', 'Category', 'Material_Type', 'Defect_Type', 'Defect', 'Defect_Category', 'Region', 'Grouped_Material_Type']\n",
        "\n",
        "for col in categorical_cols:\n",
        "    batchesCluster_F[col] = batchesCluster_F[col].astype('category')"
      ]
    },
    {
      "cell_type": "code",
      "execution_count": 67,
      "metadata": {
        "id": "gjjOcn73TBoJ"
      },
      "outputs": [],
      "source": [
        "batchesCluster_F['Total_Defect_Qty'] = batchesCluster_F['Total_Defect_Qty'].astype('int64')\n",
        "batchesCluster_F['Total_Downtime_Minutes'] = batchesCluster_F['Total_Downtime_Minutes'].astype('int64')"
      ]
    },
    {
      "cell_type": "code",
      "execution_count": 68,
      "metadata": {
        "colab": {
          "base_uri": "https://localhost:8080/"
        },
        "id": "9BSRuNHBmt7U",
        "outputId": "8844030f-c9b3-4660-d91e-7d14eb90124d"
      },
      "outputs": [
        {
          "name": "stdout",
          "output_type": "stream",
          "text": [
            "<class 'pandas.core.frame.DataFrame'>\n",
            "RangeIndex: 10000 entries, 0 to 9999\n",
            "Data columns (total 13 columns):\n",
            " #   Column                  Non-Null Count  Dtype         \n",
            "---  ------                  --------------  -----         \n",
            " 0   Date                    10000 non-null  datetime64[ns]\n",
            " 1   Vendor                  10000 non-null  category      \n",
            " 2   Plant_Location          10000 non-null  category      \n",
            " 3   State                   10000 non-null  category      \n",
            " 4   Category                10000 non-null  category      \n",
            " 5   Material_Type           10000 non-null  category      \n",
            " 6   Defect_Type             10000 non-null  category      \n",
            " 7   Defect                  10000 non-null  category      \n",
            " 8   Total_Defect_Qty        10000 non-null  int64         \n",
            " 9   Total_Downtime_Minutes  10000 non-null  int64         \n",
            " 10  Defect_Category         10000 non-null  category      \n",
            " 11  Region                  10000 non-null  category      \n",
            " 12  Grouped_Material_Type   10000 non-null  category      \n",
            "dtypes: category(10), datetime64[ns](1), int64(2)\n",
            "memory usage: 376.4 KB\n"
          ]
        }
      ],
      "source": [
        "batchesCluster_F.info()"
      ]
    },
    {
      "cell_type": "markdown",
      "metadata": {
        "id": "R4895iMth7KK"
      },
      "source": [
        "\n",
        "\n",
        "---\n",
        "\n",
        "Removing unwanted columns: Date, Vendor, Plant_Location, State, Material_Type, Defect"
      ]
    },
    {
      "cell_type": "code",
      "execution_count": 69,
      "metadata": {
        "id": "Gt3-WV7smt2O"
      },
      "outputs": [],
      "source": [
        "batchesNew = batchesCluster_F.drop(columns=['Date', 'Vendor', 'Plant_Location', 'State', 'Material_Type', 'Defect'])"
      ]
    },
    {
      "cell_type": "code",
      "execution_count": 70,
      "metadata": {
        "colab": {
          "base_uri": "https://localhost:8080/",
          "height": 175
        },
        "id": "1AFYn-OV4rAS",
        "outputId": "e0f7ebe1-4293-48dd-bb05-0a8d0aaf3d34"
      },
      "outputs": [
        {
          "data": {
            "text/html": [
              "<div>\n",
              "<style scoped>\n",
              "    .dataframe tbody tr th:only-of-type {\n",
              "        vertical-align: middle;\n",
              "    }\n",
              "\n",
              "    .dataframe tbody tr th {\n",
              "        vertical-align: top;\n",
              "    }\n",
              "\n",
              "    .dataframe thead th {\n",
              "        text-align: right;\n",
              "    }\n",
              "</style>\n",
              "<table border=\"1\" class=\"dataframe\">\n",
              "  <thead>\n",
              "    <tr style=\"text-align: right;\">\n",
              "      <th></th>\n",
              "      <th>Category</th>\n",
              "      <th>Defect_Type</th>\n",
              "      <th>Defect_Category</th>\n",
              "      <th>Region</th>\n",
              "      <th>Grouped_Material_Type</th>\n",
              "    </tr>\n",
              "  </thead>\n",
              "  <tbody>\n",
              "    <tr>\n",
              "      <th>count</th>\n",
              "      <td>10000</td>\n",
              "      <td>10000</td>\n",
              "      <td>10000</td>\n",
              "      <td>10000</td>\n",
              "      <td>10000</td>\n",
              "    </tr>\n",
              "    <tr>\n",
              "      <th>unique</th>\n",
              "      <td>6</td>\n",
              "      <td>3</td>\n",
              "      <td>8</td>\n",
              "      <td>4</td>\n",
              "      <td>10</td>\n",
              "    </tr>\n",
              "    <tr>\n",
              "      <th>top</th>\n",
              "      <td>Mechanicals</td>\n",
              "      <td>No Impact</td>\n",
              "      <td>foreign_material</td>\n",
              "      <td>Northeast</td>\n",
              "      <td>Raw Materials</td>\n",
              "    </tr>\n",
              "    <tr>\n",
              "      <th>freq</th>\n",
              "      <td>3061</td>\n",
              "      <td>3978</td>\n",
              "      <td>2174</td>\n",
              "      <td>3577</td>\n",
              "      <td>2925</td>\n",
              "    </tr>\n",
              "  </tbody>\n",
              "</table>\n",
              "</div>"
            ],
            "text/plain": [
              "           Category Defect_Type   Defect_Category     Region  \\\n",
              "count         10000       10000             10000      10000   \n",
              "unique            6           3                 8          4   \n",
              "top     Mechanicals   No Impact  foreign_material  Northeast   \n",
              "freq           3061        3978              2174       3577   \n",
              "\n",
              "       Grouped_Material_Type  \n",
              "count                  10000  \n",
              "unique                    10  \n",
              "top            Raw Materials  \n",
              "freq                    2925  "
            ]
          },
          "execution_count": 70,
          "metadata": {},
          "output_type": "execute_result"
        }
      ],
      "source": [
        "batchesNew.describe(include='category')"
      ]
    },
    {
      "cell_type": "markdown",
      "metadata": {
        "id": "-628VaAspaqe"
      },
      "source": [
        "\n",
        "\n",
        "---\n",
        "\n"
      ]
    },
    {
      "cell_type": "code",
      "execution_count": 71,
      "metadata": {
        "colab": {
          "base_uri": "https://localhost:8080/"
        },
        "id": "82XfWCCnRUbE",
        "outputId": "da88a95e-3c3e-4b6d-c4ad-b08d8b7598d1"
      },
      "outputs": [
        {
          "name": "stdout",
          "output_type": "stream",
          "text": [
            "Value counts for Category:\n",
            "Category\n",
            "Mechanicals               3061\n",
            "Logistics                 2712\n",
            "Packaging                 1689\n",
            "Materials & Components    1391\n",
            "Goods & Services           797\n",
            "Electrical                 350\n",
            "Name: count, dtype: int64\n",
            "\n",
            "\n",
            "Value counts for Defect_Type:\n",
            "Defect_Type\n",
            "No Impact    3978\n",
            "Impact       3271\n",
            "Rejected     2751\n",
            "Name: count, dtype: int64\n",
            "\n",
            "\n",
            "Value counts for Defect_Category:\n",
            "Defect_Category\n",
            "foreign_material       2174\n",
            "misc_support           1958\n",
            "defects_bad            1728\n",
            "crease_warped          1405\n",
            "incorrect_color        1163\n",
            "defective_packaging     739\n",
            "print_defects           552\n",
            "labels_incorrect        281\n",
            "Name: count, dtype: int64\n",
            "\n",
            "\n",
            "Value counts for Region:\n",
            "Region\n",
            "Northeast    3577\n",
            "Midwest      3129\n",
            "South        1972\n",
            "West         1322\n",
            "Name: count, dtype: int64\n",
            "\n",
            "\n",
            "Value counts for Grouped_Material_Type:\n",
            "Grouped_Material_Type\n",
            "Raw Materials            2925\n",
            "Corrugate                2437\n",
            "Electrical Components    1126\n",
            "Glass/Composites         1086\n",
            "Film                      830\n",
            "Labels                    706\n",
            "Carton                    661\n",
            "Hardware                  121\n",
            "Packaging Related          80\n",
            "Other                      28\n",
            "Name: count, dtype: int64\n",
            "\n",
            "\n"
          ]
        }
      ],
      "source": [
        "# value_counts of all categorical features datatype\n",
        "for col in batchesNew.select_dtypes(include='category').columns:\n",
        "    print(f\"Value counts for {col}:\")\n",
        "    print(batchesNew[col].value_counts())\n",
        "    print(\"\\n\")"
      ]
    },
    {
      "cell_type": "code",
      "execution_count": 72,
      "metadata": {
        "colab": {
          "base_uri": "https://localhost:8080/"
        },
        "id": "7KIfxXdbmxbU",
        "outputId": "ad866c3e-2f39-43b0-d443-7a9030aee9f7"
      },
      "outputs": [
        {
          "data": {
            "text/plain": [
              "Index(['Category', 'Defect_Type', 'Total_Defect_Qty', 'Total_Downtime_Minutes',\n",
              "       'Defect_Category', 'Region', 'Grouped_Material_Type'],\n",
              "      dtype='object')"
            ]
          },
          "execution_count": 72,
          "metadata": {},
          "output_type": "execute_result"
        }
      ],
      "source": [
        "batchesNew.columns"
      ]
    },
    {
      "cell_type": "code",
      "execution_count": 73,
      "metadata": {
        "colab": {
          "base_uri": "https://localhost:8080/",
          "height": 112
        },
        "id": "lC5-ioJ9j5w3",
        "outputId": "c0094876-63d4-481a-ec0b-f36f8a5a5876"
      },
      "outputs": [
        {
          "data": {
            "text/html": [
              "<div>\n",
              "<style scoped>\n",
              "    .dataframe tbody tr th:only-of-type {\n",
              "        vertical-align: middle;\n",
              "    }\n",
              "\n",
              "    .dataframe tbody tr th {\n",
              "        vertical-align: top;\n",
              "    }\n",
              "\n",
              "    .dataframe thead th {\n",
              "        text-align: right;\n",
              "    }\n",
              "</style>\n",
              "<table border=\"1\" class=\"dataframe\">\n",
              "  <thead>\n",
              "    <tr style=\"text-align: right;\">\n",
              "      <th></th>\n",
              "      <th>Total_Defect_Qty</th>\n",
              "      <th>Total_Downtime_Minutes</th>\n",
              "    </tr>\n",
              "  </thead>\n",
              "  <tbody>\n",
              "    <tr>\n",
              "      <th>Total_Defect_Qty</th>\n",
              "      <td>1.000000</td>\n",
              "      <td>0.849327</td>\n",
              "    </tr>\n",
              "    <tr>\n",
              "      <th>Total_Downtime_Minutes</th>\n",
              "      <td>0.849327</td>\n",
              "      <td>1.000000</td>\n",
              "    </tr>\n",
              "  </tbody>\n",
              "</table>\n",
              "</div>"
            ],
            "text/plain": [
              "                        Total_Defect_Qty  Total_Downtime_Minutes\n",
              "Total_Defect_Qty                1.000000                0.849327\n",
              "Total_Downtime_Minutes          0.849327                1.000000"
            ]
          },
          "execution_count": 73,
          "metadata": {},
          "output_type": "execute_result"
        }
      ],
      "source": [
        "#correlation for  numerical columns\n",
        "batchesNew[['Total_Defect_Qty','Total_Downtime_Minutes']].corr(method='pearson')"
      ]
    },
    {
      "cell_type": "code",
      "execution_count": 74,
      "metadata": {
        "colab": {
          "base_uri": "https://localhost:8080/",
          "height": 112
        },
        "id": "TkvsaVvnj5tV",
        "outputId": "167e0a7f-7f21-46fa-986d-8f65b816c8f8"
      },
      "outputs": [
        {
          "data": {
            "text/html": [
              "<div>\n",
              "<style scoped>\n",
              "    .dataframe tbody tr th:only-of-type {\n",
              "        vertical-align: middle;\n",
              "    }\n",
              "\n",
              "    .dataframe tbody tr th {\n",
              "        vertical-align: top;\n",
              "    }\n",
              "\n",
              "    .dataframe thead th {\n",
              "        text-align: right;\n",
              "    }\n",
              "</style>\n",
              "<table border=\"1\" class=\"dataframe\">\n",
              "  <thead>\n",
              "    <tr style=\"text-align: right;\">\n",
              "      <th></th>\n",
              "      <th>Total_Defect_Qty</th>\n",
              "      <th>Total_Downtime_Minutes</th>\n",
              "    </tr>\n",
              "  </thead>\n",
              "  <tbody>\n",
              "    <tr>\n",
              "      <th>Total_Defect_Qty</th>\n",
              "      <td>1.000000</td>\n",
              "      <td>0.937183</td>\n",
              "    </tr>\n",
              "    <tr>\n",
              "      <th>Total_Downtime_Minutes</th>\n",
              "      <td>0.937183</td>\n",
              "      <td>1.000000</td>\n",
              "    </tr>\n",
              "  </tbody>\n",
              "</table>\n",
              "</div>"
            ],
            "text/plain": [
              "                        Total_Defect_Qty  Total_Downtime_Minutes\n",
              "Total_Defect_Qty                1.000000                0.937183\n",
              "Total_Downtime_Minutes          0.937183                1.000000"
            ]
          },
          "execution_count": 74,
          "metadata": {},
          "output_type": "execute_result"
        }
      ],
      "source": [
        "#correlation for  numerical columns\n",
        "batchesNew[['Total_Defect_Qty','Total_Downtime_Minutes']].corr(method='spearman')"
      ]
    },
    {
      "cell_type": "code",
      "execution_count": 75,
      "metadata": {
        "colab": {
          "base_uri": "https://localhost:8080/"
        },
        "id": "ZHqkuMN-m7Yn",
        "outputId": "b5a11e5c-1d85-4a8b-c3d6-fe757c3149a9"
      },
      "outputs": [
        {
          "name": "stdout",
          "output_type": "stream",
          "text": [
            "                 Feature   F-Score   P-Value\n",
            "4  Grouped_Material_Type  1.917117  0.045012\n",
            "3                 Region  1.089043  0.352296\n",
            "0               Category  0.612158  0.690615\n",
            "1            Defect_Type  0.179958  0.835308\n",
            "2        Defect_Category  0.384432  0.912014\n"
          ]
        }
      ],
      "source": [
        "# Now checking for categorical features\n",
        "\n",
        "# categorical_cols\n",
        "target = 'Total_Downtime_Minutes'\n",
        "\n",
        "results_ = []\n",
        "\n",
        "for col in batchesNew.select_dtypes(include='category').columns:\n",
        "  temp_df = batchesNew[[col, target]]\n",
        "  groups = [group[target].values for name, group in temp_df.groupby(col)]\n",
        "\n",
        "  f_stat, p_val = stats.f_oneway(*groups)\n",
        "  results_.append({'Feature': col, 'F-Score': f_stat, 'P-Value': p_val})\n",
        "\n",
        "# Create and sort results table\n",
        "anova_df = pd.DataFrame(results_).sort_values(by='P-Value')\n",
        "print(anova_df)"
      ]
    },
    {
      "cell_type": "markdown",
      "metadata": {
        "id": "X2rCOzXgmAN7"
      },
      "source": [
        "\n",
        "\n",
        "---\n",
        "\n",
        "\n"
      ]
    },
    {
      "cell_type": "code",
      "execution_count": 76,
      "metadata": {
        "id": "greXbC7btHdt"
      },
      "outputs": [],
      "source": [
        "batchesModel = batchesNew.copy()"
      ]
    },
    {
      "cell_type": "code",
      "execution_count": 77,
      "metadata": {
        "id": "DOlJjcBrfwZ6"
      },
      "outputs": [],
      "source": [
        "X = batchesModel.drop('Total_Downtime_Minutes', axis=1)\n",
        "y = batchesModel['Total_Downtime_Minutes']\n",
        "\n",
        "# Perform the stratified split\n",
        "X_train, X_test, y_train, y_test = train_test_split(\n",
        "    X,\n",
        "    y,\n",
        "    test_size=0.2,  # 20% test size\n",
        "    random_state=42\n",
        ")"
      ]
    },
    {
      "cell_type": "markdown",
      "metadata": {
        "id": "EZ_vQgq8UHUY"
      },
      "source": [
        "**Defect_Category**\n",
        "- This column has several sizeable but also some rare categories.\n",
        "- It is a primary driver of your business question (defects and their impact on downtime).\n",
        "- Ensures all defect groups are represented during both training and evaluation."
      ]
    },
    {
      "cell_type": "code",
      "execution_count": 78,
      "metadata": {
        "colab": {
          "base_uri": "https://localhost:8080/"
        },
        "id": "lgTWvk7FtHXx",
        "outputId": "2fcbf008-a69d-4fa6-a228-8fff454a6d24"
      },
      "outputs": [
        {
          "name": "stdout",
          "output_type": "stream",
          "text": [
            "Defect_Category distribution in training set:\n",
            "Defect_Category\n",
            "foreign_material       0.213625\n",
            "misc_support           0.197375\n",
            "defects_bad            0.176125\n",
            "crease_warped          0.140750\n",
            "incorrect_color        0.117625\n",
            "defective_packaging    0.073000\n",
            "print_defects          0.052000\n",
            "labels_incorrect       0.029500\n",
            "Name: proportion, dtype: float64\n",
            "\n",
            "Defect_Category distribution in test set:\n",
            "Defect_Category\n",
            "foreign_material       0.2325\n",
            "misc_support           0.1895\n",
            "defects_bad            0.1595\n",
            "crease_warped          0.1395\n",
            "incorrect_color        0.1110\n",
            "defective_packaging    0.0775\n",
            "print_defects          0.0680\n",
            "labels_incorrect       0.0225\n",
            "Name: proportion, dtype: float64\n"
          ]
        }
      ],
      "source": [
        "# Check that the stratification was successful\n",
        "print(\"Defect_Category distribution in training set:\")\n",
        "print(X_train['Defect_Category'].value_counts(normalize=True))\n",
        "print(\"\\nDefect_Category distribution in test set:\")\n",
        "print(X_test['Defect_Category'].value_counts(normalize=True))"
      ]
    },
    {
      "cell_type": "code",
      "execution_count": 79,
      "metadata": {
        "colab": {
          "base_uri": "https://localhost:8080/",
          "height": 206
        },
        "id": "0nh1BpPJtHP5",
        "outputId": "4f8f16d6-e02d-4190-98a6-497ab877d015"
      },
      "outputs": [
        {
          "data": {
            "text/html": [
              "<div>\n",
              "<style scoped>\n",
              "    .dataframe tbody tr th:only-of-type {\n",
              "        vertical-align: middle;\n",
              "    }\n",
              "\n",
              "    .dataframe tbody tr th {\n",
              "        vertical-align: top;\n",
              "    }\n",
              "\n",
              "    .dataframe thead th {\n",
              "        text-align: right;\n",
              "    }\n",
              "</style>\n",
              "<table border=\"1\" class=\"dataframe\">\n",
              "  <thead>\n",
              "    <tr style=\"text-align: right;\">\n",
              "      <th></th>\n",
              "      <th>Category</th>\n",
              "      <th>Defect_Type</th>\n",
              "      <th>Total_Defect_Qty</th>\n",
              "      <th>Defect_Category</th>\n",
              "      <th>Region</th>\n",
              "      <th>Grouped_Material_Type</th>\n",
              "    </tr>\n",
              "  </thead>\n",
              "  <tbody>\n",
              "    <tr>\n",
              "      <th>9254</th>\n",
              "      <td>Materials &amp; Components</td>\n",
              "      <td>No Impact</td>\n",
              "      <td>54577</td>\n",
              "      <td>print_defects</td>\n",
              "      <td>Northeast</td>\n",
              "      <td>Corrugate</td>\n",
              "    </tr>\n",
              "    <tr>\n",
              "      <th>1561</th>\n",
              "      <td>Materials &amp; Components</td>\n",
              "      <td>Impact</td>\n",
              "      <td>404458</td>\n",
              "      <td>defects_bad</td>\n",
              "      <td>Midwest</td>\n",
              "      <td>Carton</td>\n",
              "    </tr>\n",
              "    <tr>\n",
              "      <th>1670</th>\n",
              "      <td>Logistics</td>\n",
              "      <td>Impact</td>\n",
              "      <td>520004</td>\n",
              "      <td>print_defects</td>\n",
              "      <td>Northeast</td>\n",
              "      <td>Raw Materials</td>\n",
              "    </tr>\n",
              "    <tr>\n",
              "      <th>6087</th>\n",
              "      <td>Logistics</td>\n",
              "      <td>Rejected</td>\n",
              "      <td>212679</td>\n",
              "      <td>crease_warped</td>\n",
              "      <td>West</td>\n",
              "      <td>Glass/Composites</td>\n",
              "    </tr>\n",
              "    <tr>\n",
              "      <th>6669</th>\n",
              "      <td>Packaging</td>\n",
              "      <td>No Impact</td>\n",
              "      <td>999759</td>\n",
              "      <td>crease_warped</td>\n",
              "      <td>Northeast</td>\n",
              "      <td>Corrugate</td>\n",
              "    </tr>\n",
              "  </tbody>\n",
              "</table>\n",
              "</div>"
            ],
            "text/plain": [
              "                    Category Defect_Type  Total_Defect_Qty Defect_Category  \\\n",
              "9254  Materials & Components   No Impact             54577   print_defects   \n",
              "1561  Materials & Components      Impact            404458     defects_bad   \n",
              "1670               Logistics      Impact            520004   print_defects   \n",
              "6087               Logistics    Rejected            212679   crease_warped   \n",
              "6669               Packaging   No Impact            999759   crease_warped   \n",
              "\n",
              "         Region Grouped_Material_Type  \n",
              "9254  Northeast             Corrugate  \n",
              "1561    Midwest                Carton  \n",
              "1670  Northeast         Raw Materials  \n",
              "6087       West      Glass/Composites  \n",
              "6669  Northeast             Corrugate  "
            ]
          },
          "execution_count": 79,
          "metadata": {},
          "output_type": "execute_result"
        }
      ],
      "source": [
        "X_train.head()"
      ]
    },
    {
      "cell_type": "markdown",
      "metadata": {
        "id": "_FEirMkEWd2U"
      },
      "source": [
        "\n",
        "\n",
        "---\n",
        "\n"
      ]
    },
    {
      "cell_type": "code",
      "execution_count": 80,
      "metadata": {
        "id": "jfaR6vjwjI5T"
      },
      "outputs": [],
      "source": [
        "categorical_features = X_train.select_dtypes(include='category').columns\n",
        "numerical_features = X_train.select_dtypes(exclude='category').columns"
      ]
    },
    {
      "cell_type": "code",
      "execution_count": 81,
      "metadata": {
        "id": "YOs8WDkMgcGQ"
      },
      "outputs": [],
      "source": [
        "# # Initialize encoder\n",
        "# encoder = OneHotEncoder(handle_unknown='ignore', sparse_output=False, drop='first')\n",
        "\n",
        "# # Fit ONLY on training data\n",
        "# encoder.fit(X_train[categorical_features])\n",
        "\n",
        "# # Transform both datasets\n",
        "# X_train_encoded = encoder.transform(X_train[categorical_features])\n",
        "# X_test_encoded = encoder.transform(X_test[categorical_features])  # uses same mapping as training"
      ]
    },
    {
      "cell_type": "code",
      "execution_count": 82,
      "metadata": {
        "id": "6dx6YNFhVMx3"
      },
      "outputs": [],
      "source": [
        "X_train_encoded = X_train.drop('Total_Defect_Qty', axis=1)\n",
        "X_test_encoded = X_test.drop('Total_Defect_Qty', axis=1)"
      ]
    },
    {
      "cell_type": "code",
      "execution_count": 83,
      "metadata": {
        "id": "zgB05302L2ho"
      },
      "outputs": [],
      "source": [
        "encoders_dict = {}\n",
        "\n",
        "for names in categorical_features:\n",
        "    list_label_index = list(X_train[names].value_counts().index)\n",
        "    len_labels = len(list_label_index)\n",
        "    dict_encode = {k:v for k,v in zip(list_label_index, range(len_labels))}\n",
        "\n",
        "    encoders_dict[names] = dict_encode  # Save mapping for this feature\n",
        "\n",
        "    X_train_encoded[names] = X_train[names].map(dict_encode)\n",
        "    X_test_encoded[names] = X_test[names].map(dict_encode)"
      ]
    },
    {
      "cell_type": "code",
      "execution_count": 84,
      "metadata": {
        "id": "VlZ2t8gVtHNa"
      },
      "outputs": [],
      "source": [
        "scaler = StandardScaler()\n",
        "scaler.fit(X_train[numerical_features])     # Fit ONLY on X_train\n",
        "\n",
        "X_train_num = scaler.transform(X_train[numerical_features])\n",
        "X_test_num = scaler.transform(X_test[numerical_features])\n",
        "\n",
        "# Step 4: Combine both parts\n",
        "X_train_processed = np.hstack([X_train_num, X_train_encoded])\n",
        "X_test_processed = np.hstack([X_test_num, X_test_encoded])"
      ]
    },
    {
      "cell_type": "code",
      "execution_count": 85,
      "metadata": {
        "colab": {
          "base_uri": "https://localhost:8080/"
        },
        "id": "LjIr8Jl4WkXA",
        "outputId": "3c8d2cd0-4978-414a-dab4-30615cbf8f82"
      },
      "outputs": [
        {
          "data": {
            "text/plain": [
              "array([[-1.25577843,  3.        ,  0.        ,  6.        ,  0.        ,\n",
              "         1.        ],\n",
              "       [-0.16082336,  3.        ,  1.        ,  2.        ,  1.        ,\n",
              "         6.        ],\n",
              "       [ 0.20077866,  1.        ,  1.        ,  6.        ,  0.        ,\n",
              "         0.        ],\n",
              "       ...,\n",
              "       [-1.08672559,  2.        ,  0.        ,  2.        ,  0.        ,\n",
              "         0.        ],\n",
              "       [ 1.70217534,  3.        ,  0.        ,  2.        ,  0.        ,\n",
              "         4.        ],\n",
              "       [-0.90315496,  2.        ,  2.        ,  2.        ,  0.        ,\n",
              "         2.        ]], shape=(8000, 6))"
            ]
          },
          "execution_count": 85,
          "metadata": {},
          "output_type": "execute_result"
        }
      ],
      "source": [
        "X_train_processed"
      ]
    },
    {
      "cell_type": "code",
      "execution_count": 86,
      "metadata": {
        "colab": {
          "base_uri": "https://localhost:8080/"
        },
        "id": "DUUKAaIAWbkq",
        "outputId": "c5c3c1f1-4b94-4c40-d3f7-de0de0382145"
      },
      "outputs": [
        {
          "data": {
            "text/plain": [
              "Index(['Total_Defect_Qty'], dtype='object')"
            ]
          },
          "execution_count": 86,
          "metadata": {},
          "output_type": "execute_result"
        }
      ],
      "source": [
        "numerical_features"
      ]
    },
    {
      "cell_type": "code",
      "execution_count": 87,
      "metadata": {
        "colab": {
          "base_uri": "https://localhost:8080/"
        },
        "id": "MS3Yee6bWfvE",
        "outputId": "27151b7d-2d9e-4acc-e95f-b51819023511"
      },
      "outputs": [
        {
          "data": {
            "text/plain": [
              "Index(['Category', 'Defect_Type', 'Defect_Category', 'Region',\n",
              "       'Grouped_Material_Type'],\n",
              "      dtype='object')"
            ]
          },
          "execution_count": 87,
          "metadata": {},
          "output_type": "execute_result"
        }
      ],
      "source": [
        "X_train_encoded.columns"
      ]
    },
    {
      "cell_type": "code",
      "execution_count": 88,
      "metadata": {
        "id": "uhH5UlmxtHLD"
      },
      "outputs": [],
      "source": [
        "# Step 1: Get feature names from the encoder\n",
        "# encoded_cat_feature_names = encoder.get_feature_names_out(categorical_features)\n",
        "\n",
        "# Step 2: Combine all feature names (scaled numeric + one-hot encoded categorical)\n",
        "final_feature_names = list(numerical_features) + list(X_train_encoded.columns)\n",
        "\n",
        "# Step 3: Convert NumPy arrays to DataFrames with proper column names and indices\n",
        "X_train_final = pd.DataFrame(X_train_processed, columns=final_feature_names, index=X_train_encoded.index)\n",
        "X_test_final = pd.DataFrame(X_test_processed, columns=final_feature_names, index=X_test_encoded.index)"
      ]
    },
    {
      "cell_type": "code",
      "execution_count": 89,
      "metadata": {
        "colab": {
          "base_uri": "https://localhost:8080/"
        },
        "id": "tvG4Zh1hmQ9P",
        "outputId": "c7c4536d-86d1-4697-fc1d-74777f872c23"
      },
      "outputs": [
        {
          "name": "stdout",
          "output_type": "stream",
          "text": [
            "(8000, 6)\n",
            "(2000, 6)\n"
          ]
        }
      ],
      "source": [
        "print(X_train_final.shape)\n",
        "print(X_test_final.shape)"
      ]
    },
    {
      "cell_type": "markdown",
      "metadata": {
        "id": "BRJAjF0VmvJz"
      },
      "source": [
        "\n",
        "\n",
        "---\n",
        "\n"
      ]
    },
    {
      "cell_type": "code",
      "execution_count": 90,
      "metadata": {
        "colab": {
          "base_uri": "https://localhost:8080/"
        },
        "id": "ivjuL-05UTT2",
        "outputId": "2d20ab8c-2433-4c3c-bccd-7c42439f8293"
      },
      "outputs": [
        {
          "data": {
            "text/plain": [
              "Index(['Total_Defect_Qty', 'Category', 'Defect_Type', 'Defect_Category',\n",
              "       'Region', 'Grouped_Material_Type'],\n",
              "      dtype='object')"
            ]
          },
          "execution_count": 90,
          "metadata": {},
          "output_type": "execute_result"
        }
      ],
      "source": [
        "X_train_final.columns"
      ]
    },
    {
      "cell_type": "code",
      "execution_count": 91,
      "metadata": {
        "colab": {
          "base_uri": "https://localhost:8080/",
          "height": 206
        },
        "id": "CH-xqtJvUVtn",
        "outputId": "71673b68-778c-492b-9755-9decc5c560ea"
      },
      "outputs": [
        {
          "data": {
            "text/html": [
              "<div>\n",
              "<style scoped>\n",
              "    .dataframe tbody tr th:only-of-type {\n",
              "        vertical-align: middle;\n",
              "    }\n",
              "\n",
              "    .dataframe tbody tr th {\n",
              "        vertical-align: top;\n",
              "    }\n",
              "\n",
              "    .dataframe thead th {\n",
              "        text-align: right;\n",
              "    }\n",
              "</style>\n",
              "<table border=\"1\" class=\"dataframe\">\n",
              "  <thead>\n",
              "    <tr style=\"text-align: right;\">\n",
              "      <th></th>\n",
              "      <th>Total_Defect_Qty</th>\n",
              "      <th>Category</th>\n",
              "      <th>Defect_Type</th>\n",
              "      <th>Defect_Category</th>\n",
              "      <th>Region</th>\n",
              "      <th>Grouped_Material_Type</th>\n",
              "    </tr>\n",
              "  </thead>\n",
              "  <tbody>\n",
              "    <tr>\n",
              "      <th>9254</th>\n",
              "      <td>-1.255778</td>\n",
              "      <td>3.0</td>\n",
              "      <td>0.0</td>\n",
              "      <td>6.0</td>\n",
              "      <td>0.0</td>\n",
              "      <td>1.0</td>\n",
              "    </tr>\n",
              "    <tr>\n",
              "      <th>1561</th>\n",
              "      <td>-0.160823</td>\n",
              "      <td>3.0</td>\n",
              "      <td>1.0</td>\n",
              "      <td>2.0</td>\n",
              "      <td>1.0</td>\n",
              "      <td>6.0</td>\n",
              "    </tr>\n",
              "    <tr>\n",
              "      <th>1670</th>\n",
              "      <td>0.200779</td>\n",
              "      <td>1.0</td>\n",
              "      <td>1.0</td>\n",
              "      <td>6.0</td>\n",
              "      <td>0.0</td>\n",
              "      <td>0.0</td>\n",
              "    </tr>\n",
              "    <tr>\n",
              "      <th>6087</th>\n",
              "      <td>-0.760997</td>\n",
              "      <td>1.0</td>\n",
              "      <td>2.0</td>\n",
              "      <td>3.0</td>\n",
              "      <td>3.0</td>\n",
              "      <td>3.0</td>\n",
              "    </tr>\n",
              "    <tr>\n",
              "      <th>6669</th>\n",
              "      <td>1.702175</td>\n",
              "      <td>2.0</td>\n",
              "      <td>0.0</td>\n",
              "      <td>3.0</td>\n",
              "      <td>0.0</td>\n",
              "      <td>1.0</td>\n",
              "    </tr>\n",
              "  </tbody>\n",
              "</table>\n",
              "</div>"
            ],
            "text/plain": [
              "      Total_Defect_Qty  Category  Defect_Type  Defect_Category  Region  \\\n",
              "9254         -1.255778       3.0          0.0              6.0     0.0   \n",
              "1561         -0.160823       3.0          1.0              2.0     1.0   \n",
              "1670          0.200779       1.0          1.0              6.0     0.0   \n",
              "6087         -0.760997       1.0          2.0              3.0     3.0   \n",
              "6669          1.702175       2.0          0.0              3.0     0.0   \n",
              "\n",
              "      Grouped_Material_Type  \n",
              "9254                    1.0  \n",
              "1561                    6.0  \n",
              "1670                    0.0  \n",
              "6087                    3.0  \n",
              "6669                    1.0  "
            ]
          },
          "execution_count": 91,
          "metadata": {},
          "output_type": "execute_result"
        }
      ],
      "source": [
        "X_train_final.head()"
      ]
    },
    {
      "cell_type": "code",
      "execution_count": 92,
      "metadata": {
        "colab": {
          "base_uri": "https://localhost:8080/"
        },
        "id": "tmMYf-6pVDAg",
        "outputId": "2830904e-5942-42d1-ec0f-735ba24d616d"
      },
      "outputs": [
        {
          "name": "stdout",
          "output_type": "stream",
          "text": [
            "                              OLS Regression Results                              \n",
            "==================================================================================\n",
            "Dep. Variable:     Total_Downtime_Minutes   R-squared:                       0.721\n",
            "Model:                                OLS   Adj. R-squared:                  0.721\n",
            "Method:                     Least Squares   F-statistic:                     3442.\n",
            "Date:                    Fri, 15 Aug 2025   Prob (F-statistic):               0.00\n",
            "Time:                            11:56:49   Log-Likelihood:                -65159.\n",
            "No. Observations:                    8000   AIC:                         1.303e+05\n",
            "Df Residuals:                        7993   BIC:                         1.304e+05\n",
            "Df Model:                               6                                         \n",
            "Covariance Type:                nonrobust                                         \n",
            "=========================================================================================\n",
            "                            coef    std err          t      P>|t|      [0.025      0.975]\n",
            "-----------------------------------------------------------------------------------------\n",
            "const                  3382.7463     24.326    139.061      0.000    3335.062    3430.431\n",
            "Total_Defect_Qty       1340.2885      9.330    143.660      0.000    1322.000    1358.577\n",
            "Category                  3.8997      6.529      0.597      0.550      -8.900      16.699\n",
            "Defect_Type             -10.7912     11.502     -0.938      0.348     -33.339      11.757\n",
            "Defect_Category          -4.3055      4.795     -0.898      0.369     -13.705       5.094\n",
            "Region                    7.4469      9.013      0.826      0.409     -10.220      25.114\n",
            "Grouped_Material_Type     0.9450      4.505      0.210      0.834      -7.886       9.776\n",
            "==============================================================================\n",
            "Omnibus:                      280.942   Durbin-Watson:                   2.015\n",
            "Prob(Omnibus):                  0.000   Jarque-Bera (JB):              191.749\n",
            "Skew:                           0.266   Prob(JB):                     2.30e-42\n",
            "Kurtosis:                       2.460   Cond. No.                         11.6\n",
            "==============================================================================\n",
            "\n",
            "Notes:\n",
            "[1] Standard Errors assume that the covariance matrix of the errors is correctly specified.\n",
            "Train MSE: 695218.9658, RMSE: 833.7979\n",
            "Test MSE: 698435.9960, RMSE: 835.7248\n"
          ]
        }
      ],
      "source": [
        "# Add constant (intercept) to train and test sets\n",
        "X_train_ols = sm.add_constant(X_train_final)\n",
        "X_test_ols = sm.add_constant(X_test_final)\n",
        "\n",
        "# Fit OLS model on training data\n",
        "ols_model = sm.OLS(y_train, X_train_ols)\n",
        "results = ols_model.fit()\n",
        "\n",
        "# Print model summary\n",
        "print(results.summary())\n",
        "\n",
        "# Make predictions\n",
        "y_train_pred_lr = results.predict(X_train_ols)\n",
        "y_test_pred_lr = results.predict(X_test_ols)\n",
        "\n",
        "# Calculate MSE and RMSE for training data\n",
        "mse_train_lr = mean_squared_error(y_train, y_train_pred_lr)\n",
        "rmse_train_lr = np.sqrt(mse_train_lr)\n",
        "\n",
        "# Calculate MSE and RMSE for test data\n",
        "mse_test_lr = mean_squared_error(y_test, y_test_pred_lr)\n",
        "rmse_test_lr = np.sqrt(mse_test_lr)\n",
        "\n",
        "# Output results\n",
        "print(f\"Train MSE: {mse_train_lr:.4f}, RMSE: {rmse_train_lr:.4f}\")\n",
        "print(f\"Test MSE: {mse_test_lr:.4f}, RMSE: {rmse_test_lr:.4f}\")"
      ]
    },
    {
      "cell_type": "code",
      "execution_count": 93,
      "metadata": {
        "colab": {
          "base_uri": "https://localhost:8080/",
          "height": 410
        },
        "id": "kJIjQ8c1bw8N",
        "outputId": "83880402-b99f-4412-bb07-708b5b3a2e82"
      },
      "outputs": [
        {
          "data": {
            "image/png": "[encoded data removed]",
            "text/plain": [
              "<Figure size 800x400 with 1 Axes>"
            ]
          },
          "metadata": {},
          "output_type": "display_data"
        }
      ],
      "source": [
        "# after fitting your model\n",
        "residuals = y_test - y_test_pred_lr\n",
        "\n",
        "# Residual plot\n",
        "plt.scatter(y_test_pred_lr, residuals)\n",
        "plt.axhline(0, color='red', linestyle='--')\n",
        "plt.xlabel(\"Predicted values\")\n",
        "plt.ylabel(\"Residuals\")\n",
        "plt.title(\"Residual Plot\")\n",
        "plt.show()"
      ]
    },
    {
      "cell_type": "markdown",
      "metadata": {
        "id": "Z-TtUWnmgXqG"
      },
      "source": [
        "Linear Regression Doesn't Fit Well\n",
        "\n",
        "- Non-linear patterns in residuals, model is missing complexity.\n",
        "- Changing spread of residuals → possible heteroscedasticity.\n",
        "- Clustered residuals → likely issues with categorical encoding or hidden interactions.\n",
        "\n",
        "JB Test Result:\n",
        "- Prob(JB) ≈ 0, Residuals are not normal, another sign linear regression isn't valid here.\n",
        "\n"
      ]
    },
    {
      "cell_type": "markdown",
      "metadata": {
        "id": "I-dGjBha2Q7j"
      },
      "source": [
        "\n",
        "\n",
        "---\n",
        "\n"
      ]
    },
    {
      "cell_type": "code",
      "execution_count": 94,
      "metadata": {
        "id": "h-IqyDsMUErQ"
      },
      "outputs": [],
      "source": [
        "def evaluate_and_print(model, X_train, y_train, X_test, y_test, name):\n",
        "    model.fit(X_train, y_train)\n",
        "    y_train_pred = model.predict(X_train)\n",
        "    y_test_pred = model.predict(X_test)\n",
        "    mae_train = mean_absolute_error(y_train, y_train_pred)\n",
        "    rmse_train = np.sqrt(mean_squared_error(y_train, y_train_pred))\n",
        "    r2_train = r2_score(y_train, y_train_pred)\n",
        "    mae_test = mean_absolute_error(y_test, y_test_pred)\n",
        "    rmse_test = np.sqrt(mean_squared_error(y_test, y_test_pred))\n",
        "    r2_test = r2_score(y_test, y_test_pred)\n",
        "    print(f\"{name} Performance:\")\n",
        "    print(f\"Train MAE: {mae_train:.2f}, Train RMSE: {rmse_train:.2f}\")\n",
        "    print(f\"Test  MAE: {mae_test:.2f}, Test  RMSE: {rmse_test:.2f}\")\n",
        "    print(f\"Train R^2: {r2_train:.2f}\")\n",
        "    print(f\"Test  R^2: {r2_test:.2f}\\n\")"
      ]
    },
    {
      "cell_type": "code",
      "execution_count": 95,
      "metadata": {
        "id": "T6LRSTksUEoZ"
      },
      "outputs": [],
      "source": [
        "models = [\n",
        "    (\"Decision Tree\", DecisionTreeRegressor(random_state=42)),\n",
        "    (\"Random Forest\", RandomForestRegressor(n_estimators=100, random_state=42, n_jobs=-1)),\n",
        "    (\"AdaBoost\", AdaBoostRegressor(n_estimators=100, random_state=42)),\n",
        "    (\"Gradient Boosting (GBM)\", GradientBoostingRegressor(n_estimators=100, random_state=42)),\n",
        "    (\"XGBoost\", XGBRegressor(n_estimators=100, random_state=42, n_jobs=-1))\n",
        "]"
      ]
    },
    {
      "cell_type": "code",
      "execution_count": 96,
      "metadata": {
        "colab": {
          "base_uri": "https://localhost:8080/"
        },
        "id": "_WL1J5ReUOmB",
        "outputId": "1f92fa9a-cdc6-4024-b153-c797136c8cf6"
      },
      "outputs": [
        {
          "name": "stdout",
          "output_type": "stream",
          "text": [
            "Decision Tree Performance:\n",
            "Train MAE: 11.08, Train RMSE: 107.12\n",
            "Test  MAE: 248.30, Test  RMSE: 690.14\n",
            "Train R^2: 1.00\n",
            "Test  R^2: 0.81\n",
            "\n",
            "Random Forest Performance:\n",
            "Train MAE: 79.60, Train RMSE: 204.47\n",
            "Test  MAE: 218.16, Test  RMSE: 528.09\n",
            "Train R^2: 0.98\n",
            "Test  R^2: 0.89\n",
            "\n",
            "AdaBoost Performance:\n",
            "Train MAE: 323.52, Train RMSE: 511.78\n",
            "Test  MAE: 336.24, Test  RMSE: 530.12\n",
            "Train R^2: 0.89\n",
            "Test  R^2: 0.89\n",
            "\n",
            "Gradient Boosting (GBM) Performance:\n",
            "Train MAE: 169.65, Train RMSE: 434.71\n",
            "Test  MAE: 189.38, Test  RMSE: 484.34\n",
            "Train R^2: 0.92\n",
            "Test  R^2: 0.91\n",
            "\n",
            "XGBoost Performance:\n",
            "Train MAE: 134.60, Train RMSE: 315.76\n",
            "Test  MAE: 227.75, Test  RMSE: 525.77\n",
            "Train R^2: 0.96\n",
            "Test  R^2: 0.89\n",
            "\n"
          ]
        }
      ],
      "source": [
        "#  Pipeline execution (run this block to get all results)\n",
        "for name, model in models:\n",
        "    evaluate_and_print(model, X_train_final, y_train, X_test_final, y_test, name)"
      ]
    },
    {
      "cell_type": "markdown",
      "metadata": {
        "id": "R5Eby4HdzCUa"
      },
      "source": [
        "\n",
        "\n",
        "---\n",
        "\n"
      ]
    },
    {
      "cell_type": "code",
      "execution_count": 97,
      "metadata": {
        "colab": {
          "base_uri": "https://localhost:8080/"
        },
        "id": "mzWvhergbbPn",
        "outputId": "a34e5143-b201-449a-904e-49e02426c6c8"
      },
      "outputs": [
        {
          "name": "stderr",
          "output_type": "stream",
          "text": [
            "\n",
            "[notice] A new release of pip is available: 24.0 -> 25.2\n",
            "[notice] To update, run: python.exe -m pip install --upgrade pip\n"
          ]
        }
      ],
      "source": [
        "!pip install -q optuna"
      ]
    },
    {
      "cell_type": "code",
      "execution_count": 98,
      "metadata": {
        "id": "kPytR_pWbK4a"
      },
      "outputs": [],
      "source": [
        "import optuna"
      ]
    },
    {
      "cell_type": "markdown",
      "metadata": {
        "id": "vnFUuxjcqG0H"
      },
      "source": [
        "**GBM**"
      ]
    },
    {
      "cell_type": "code",
      "execution_count": 99,
      "metadata": {
        "colab": {
          "base_uri": "https://localhost:8080/"
        },
        "id": "69Ph64UPcZ1q",
        "outputId": "38748956-62e1-43d1-997b-fe07a55a5a82"
      },
      "outputs": [
        {
          "name": "stderr",
          "output_type": "stream",
          "text": [
            "[I 2025-08-15 11:57:16,846] A new study created in memory with name: no-name-346b8755-1f21-4242-8b05-2a098e846afd\n",
            "[I 2025-08-15 11:57:39,820] Trial 0 finished with value: 570.4898045703355 and parameters: {'n_estimators': 1000, 'learning_rate': 0.1337656485736536, 'max_depth': 9, 'subsample': 0.8717666579950667, 'min_samples_split': 4, 'min_samples_leaf': 9, 'max_features': 'sqrt'}. Best is trial 0 with value: 570.4898045703355.\n",
            "[I 2025-08-15 11:58:28,674] Trial 1 finished with value: 540.066886601104 and parameters: {'n_estimators': 1000, 'learning_rate': 0.03228258833036799, 'max_depth': 10, 'subsample': 0.7942872356983286, 'min_samples_split': 9, 'min_samples_leaf': 7, 'max_features': None}. Best is trial 1 with value: 540.066886601104.\n",
            "[I 2025-08-15 11:58:57,573] Trial 2 finished with value: 564.6406488109448 and parameters: {'n_estimators': 700, 'learning_rate': 0.0893447893299902, 'max_depth': 7, 'subsample': 0.8148422919920296, 'min_samples_split': 9, 'min_samples_leaf': 2, 'max_features': None}. Best is trial 1 with value: 540.066886601104.\n",
            "[I 2025-08-15 11:59:24,320] Trial 3 finished with value: 566.9629459464413 and parameters: {'n_estimators': 600, 'learning_rate': 0.17815161232875082, 'max_depth': 7, 'subsample': 0.9279425108005379, 'min_samples_split': 10, 'min_samples_leaf': 7, 'max_features': None}. Best is trial 1 with value: 540.066886601104.\n",
            "[I 2025-08-15 11:59:56,204] Trial 4 finished with value: 552.7521556226513 and parameters: {'n_estimators': 600, 'learning_rate': 0.07902770248132812, 'max_depth': 10, 'subsample': 0.8485866270999312, 'min_samples_split': 4, 'min_samples_leaf': 8, 'max_features': None}. Best is trial 1 with value: 540.066886601104.\n",
            "[I 2025-08-15 12:00:26,267] Trial 5 finished with value: 562.4237966117983 and parameters: {'n_estimators': 800, 'learning_rate': 0.12819974137358245, 'max_depth': 10, 'subsample': 0.9368883658256569, 'min_samples_split': 3, 'min_samples_leaf': 7, 'max_features': 'log2'}. Best is trial 1 with value: 540.066886601104.\n",
            "[I 2025-08-15 12:00:40,461] Trial 6 finished with value: 522.755975955297 and parameters: {'n_estimators': 700, 'learning_rate': 0.1145412366377663, 'max_depth': 6, 'subsample': 0.7199779852121513, 'min_samples_split': 4, 'min_samples_leaf': 2, 'max_features': 'log2'}. Best is trial 6 with value: 522.755975955297.\n",
            "[I 2025-08-15 12:00:52,266] Trial 7 finished with value: 460.518793742262 and parameters: {'n_estimators': 900, 'learning_rate': 0.048979993849483615, 'max_depth': 3, 'subsample': 0.9044822155949828, 'min_samples_split': 2, 'min_samples_leaf': 8, 'max_features': 'sqrt'}. Best is trial 7 with value: 460.518793742262.\n",
            "[I 2025-08-15 12:01:25,696] Trial 8 finished with value: 490.8987468271237 and parameters: {'n_estimators': 1000, 'learning_rate': 0.018316343052974984, 'max_depth': 8, 'subsample': 0.8086602496380829, 'min_samples_split': 9, 'min_samples_leaf': 5, 'max_features': 'log2'}. Best is trial 7 with value: 460.518793742262.\n",
            "[I 2025-08-15 12:02:00,542] Trial 9 finished with value: 578.3816563926302 and parameters: {'n_estimators': 1000, 'learning_rate': 0.19930525375447533, 'max_depth': 10, 'subsample': 0.8435072745036334, 'min_samples_split': 6, 'min_samples_leaf': 7, 'max_features': 'sqrt'}. Best is trial 7 with value: 460.518793742262.\n",
            "[I 2025-08-15 12:02:05,646] Trial 10 finished with value: 457.42367614210997 and parameters: {'n_estimators': 300, 'learning_rate': 0.047324942046780574, 'max_depth': 3, 'subsample': 0.9887153660917543, 'min_samples_split': 2, 'min_samples_leaf': 10, 'max_features': 'sqrt'}. Best is trial 10 with value: 457.42367614210997.\n",
            "[I 2025-08-15 12:02:08,267] Trial 11 finished with value: 457.37293317001377 and parameters: {'n_estimators': 200, 'learning_rate': 0.054144417737745316, 'max_depth': 3, 'subsample': 0.9902783432973848, 'min_samples_split': 2, 'min_samples_leaf': 10, 'max_features': 'sqrt'}. Best is trial 11 with value: 457.37293317001377.\n",
            "[I 2025-08-15 12:02:10,247] Trial 12 finished with value: 457.96516302741264 and parameters: {'n_estimators': 200, 'learning_rate': 0.0623029012666347, 'max_depth': 3, 'subsample': 0.9984362359484966, 'min_samples_split': 2, 'min_samples_leaf': 10, 'max_features': 'sqrt'}. Best is trial 11 with value: 457.37293317001377.\n",
            "[I 2025-08-15 12:02:13,232] Trial 13 finished with value: 459.97053665922914 and parameters: {'n_estimators': 200, 'learning_rate': 0.04770881170431296, 'max_depth': 5, 'subsample': 0.9942799780222439, 'min_samples_split': 6, 'min_samples_leaf': 10, 'max_features': 'sqrt'}. Best is trial 11 with value: 457.37293317001377.\n",
            "[I 2025-08-15 12:02:18,200] Trial 14 finished with value: 456.54626422175477 and parameters: {'n_estimators': 400, 'learning_rate': 0.019466161816087235, 'max_depth': 4, 'subsample': 0.960530137436887, 'min_samples_split': 2, 'min_samples_leaf': 4, 'max_features': 'sqrt'}. Best is trial 14 with value: 456.54626422175477.\n",
            "[I 2025-08-15 12:02:24,842] Trial 15 finished with value: 459.00033833997077 and parameters: {'n_estimators': 400, 'learning_rate': 0.012774706789691101, 'max_depth': 5, 'subsample': 0.9426695164115829, 'min_samples_split': 6, 'min_samples_leaf': 4, 'max_features': 'sqrt'}. Best is trial 14 with value: 456.54626422175477.\n",
            "[I 2025-08-15 12:02:26,353] Trial 16 finished with value: 459.0484701113745 and parameters: {'n_estimators': 100, 'learning_rate': 0.08146530752252809, 'max_depth': 4, 'subsample': 0.963295502948764, 'min_samples_split': 5, 'min_samples_leaf': 3, 'max_features': 'sqrt'}. Best is trial 14 with value: 456.54626422175477.\n",
            "[I 2025-08-15 12:02:32,442] Trial 17 finished with value: 468.36652269717524 and parameters: {'n_estimators': 400, 'learning_rate': 0.010011807254817155, 'max_depth': 4, 'subsample': 0.895897558815153, 'min_samples_split': 3, 'min_samples_leaf': 5, 'max_features': 'sqrt'}. Best is trial 14 with value: 456.54626422175477.\n",
            "[I 2025-08-15 12:02:37,336] Trial 18 finished with value: 468.31462412794843 and parameters: {'n_estimators': 400, 'learning_rate': 0.06643584504406383, 'max_depth': 4, 'subsample': 0.7519932337994673, 'min_samples_split': 3, 'min_samples_leaf': 1, 'max_features': 'sqrt'}. Best is trial 14 with value: 456.54626422175477.\n",
            "[I 2025-08-15 12:02:39,308] Trial 19 finished with value: 477.24163705394324 and parameters: {'n_estimators': 100, 'learning_rate': 0.031670789102169826, 'max_depth': 5, 'subsample': 0.9634345627825507, 'min_samples_split': 7, 'min_samples_leaf': 4, 'max_features': 'log2'}. Best is trial 14 with value: 456.54626422175477.\n",
            "[I 2025-08-15 12:02:48,059] Trial 20 finished with value: 470.45040419816206 and parameters: {'n_estimators': 500, 'learning_rate': 0.032640100812101475, 'max_depth': 6, 'subsample': 0.8967470757528933, 'min_samples_split': 2, 'min_samples_leaf': 6, 'max_features': 'sqrt'}. Best is trial 14 with value: 456.54626422175477.\n",
            "[I 2025-08-15 12:02:51,330] Trial 21 finished with value: 457.31097994297306 and parameters: {'n_estimators': 300, 'learning_rate': 0.049889008739903776, 'max_depth': 3, 'subsample': 0.9723589370315152, 'min_samples_split': 2, 'min_samples_leaf': 9, 'max_features': 'sqrt'}. Best is trial 14 with value: 456.54626422175477.\n",
            "[I 2025-08-15 12:02:54,756] Trial 22 finished with value: 461.0164008881052 and parameters: {'n_estimators': 300, 'learning_rate': 0.10096797683703562, 'max_depth': 3, 'subsample': 0.9686985973562089, 'min_samples_split': 3, 'min_samples_leaf': 9, 'max_features': 'sqrt'}. Best is trial 14 with value: 456.54626422175477.\n",
            "[I 2025-08-15 12:03:04,288] Trial 23 finished with value: 460.05164786409557 and parameters: {'n_estimators': 300, 'learning_rate': 0.05750034985462966, 'max_depth': 4, 'subsample': 0.9258360111469425, 'min_samples_split': 2, 'min_samples_leaf': 9, 'max_features': 'sqrt'}. Best is trial 14 with value: 456.54626422175477.\n",
            "[I 2025-08-15 12:03:08,481] Trial 24 finished with value: 458.38124826987894 and parameters: {'n_estimators': 200, 'learning_rate': 0.03552958257877305, 'max_depth': 3, 'subsample': 0.9665776029087809, 'min_samples_split': 5, 'min_samples_leaf': 4, 'max_features': 'sqrt'}. Best is trial 14 with value: 456.54626422175477.\n",
            "[I 2025-08-15 12:03:19,651] Trial 25 finished with value: 468.14829252715543 and parameters: {'n_estimators': 500, 'learning_rate': 0.07585944292582175, 'max_depth': 4, 'subsample': 0.9517519318933322, 'min_samples_split': 3, 'min_samples_leaf': 6, 'max_features': 'sqrt'}. Best is trial 14 with value: 456.54626422175477.\n",
            "[I 2025-08-15 12:03:27,673] Trial 26 finished with value: 458.8839037124656 and parameters: {'n_estimators': 300, 'learning_rate': 0.023701885524138537, 'max_depth': 5, 'subsample': 0.9826047869506955, 'min_samples_split': 4, 'min_samples_leaf': 8, 'max_features': 'sqrt'}. Best is trial 14 with value: 456.54626422175477.\n",
            "[I 2025-08-15 12:03:29,927] Trial 27 finished with value: 473.6677407725766 and parameters: {'n_estimators': 100, 'learning_rate': 0.04670575548088917, 'max_depth': 3, 'subsample': 0.8986123755962894, 'min_samples_split': 5, 'min_samples_leaf': 9, 'max_features': 'sqrt'}. Best is trial 14 with value: 456.54626422175477.\n",
            "[I 2025-08-15 12:03:39,221] Trial 28 finished with value: 472.9956425173574 and parameters: {'n_estimators': 400, 'learning_rate': 0.09694674189928361, 'max_depth': 4, 'subsample': 0.9995885274362439, 'min_samples_split': 2, 'min_samples_leaf': 3, 'max_features': 'log2'}. Best is trial 14 with value: 456.54626422175477.\n",
            "[I 2025-08-15 12:03:51,766] Trial 29 finished with value: 489.688550106036 and parameters: {'n_estimators': 200, 'learning_rate': 0.15803982684924323, 'max_depth': 6, 'subsample': 0.8801399412973074, 'min_samples_split': 4, 'min_samples_leaf': 10, 'max_features': None}. Best is trial 14 with value: 456.54626422175477.\n",
            "[I 2025-08-15 12:04:00,805] Trial 30 finished with value: 464.3698437619616 and parameters: {'n_estimators': 500, 'learning_rate': 0.11701643797875846, 'max_depth': 3, 'subsample': 0.9199392774660065, 'min_samples_split': 7, 'min_samples_leaf': 8, 'max_features': 'sqrt'}. Best is trial 14 with value: 456.54626422175477.\n",
            "[I 2025-08-15 12:04:05,236] Trial 31 finished with value: 457.51117655852283 and parameters: {'n_estimators': 300, 'learning_rate': 0.0488756641499421, 'max_depth': 3, 'subsample': 0.9780939811904266, 'min_samples_split': 2, 'min_samples_leaf': 10, 'max_features': 'sqrt'}. Best is trial 14 with value: 456.54626422175477.\n",
            "[I 2025-08-15 12:04:10,849] Trial 32 finished with value: 460.4664026469965 and parameters: {'n_estimators': 300, 'learning_rate': 0.06585283417376415, 'max_depth': 4, 'subsample': 0.9504730921692596, 'min_samples_split': 3, 'min_samples_leaf': 9, 'max_features': 'sqrt'}. Best is trial 14 with value: 456.54626422175477.\n",
            "[I 2025-08-15 12:04:13,713] Trial 33 finished with value: 457.31814693529884 and parameters: {'n_estimators': 200, 'learning_rate': 0.038464851419150944, 'max_depth': 3, 'subsample': 0.9857312065255123, 'min_samples_split': 2, 'min_samples_leaf': 10, 'max_features': 'sqrt'}. Best is trial 14 with value: 456.54626422175477.\n",
            "[I 2025-08-15 12:04:19,048] Trial 34 finished with value: 452.22256715318264 and parameters: {'n_estimators': 200, 'learning_rate': 0.024813609309159372, 'max_depth': 3, 'subsample': 0.8695063611865217, 'min_samples_split': 3, 'min_samples_leaf': 9, 'max_features': None}. Best is trial 34 with value: 452.22256715318264.\n",
            "[I 2025-08-15 12:04:24,154] Trial 35 finished with value: 488.46267701729596 and parameters: {'n_estimators': 100, 'learning_rate': 0.023012478742552467, 'max_depth': 8, 'subsample': 0.8274644684531361, 'min_samples_split': 3, 'min_samples_leaf': 8, 'max_features': None}. Best is trial 34 with value: 452.22256715318264.\n",
            "[I 2025-08-15 12:04:37,656] Trial 36 finished with value: 460.21742304719027 and parameters: {'n_estimators': 400, 'learning_rate': 0.03739597954475594, 'max_depth': 4, 'subsample': 0.7846768911061254, 'min_samples_split': 4, 'min_samples_leaf': 9, 'max_features': None}. Best is trial 34 with value: 452.22256715318264.\n",
            "[I 2025-08-15 12:04:42,459] Trial 37 finished with value: 453.1099666424645 and parameters: {'n_estimators': 200, 'learning_rate': 0.019619581007334744, 'max_depth': 3, 'subsample': 0.8624960798880085, 'min_samples_split': 3, 'min_samples_leaf': 6, 'max_features': None}. Best is trial 34 with value: 452.22256715318264.\n",
            "[I 2025-08-15 12:05:05,355] Trial 38 finished with value: 467.75205925336996 and parameters: {'n_estimators': 600, 'learning_rate': 0.024814211231265784, 'max_depth': 5, 'subsample': 0.8673323866415457, 'min_samples_split': 8, 'min_samples_leaf': 6, 'max_features': None}. Best is trial 34 with value: 452.22256715318264.\n",
            "[I 2025-08-15 12:05:36,781] Trial 39 finished with value: 487.29490487239127 and parameters: {'n_estimators': 500, 'learning_rate': 0.01152747192021059, 'max_depth': 9, 'subsample': 0.8713487268645603, 'min_samples_split': 3, 'min_samples_leaf': 5, 'max_features': None}. Best is trial 34 with value: 452.22256715318264.\n",
            "[I 2025-08-15 12:06:11,977] Trial 40 finished with value: 490.2548416232191 and parameters: {'n_estimators': 700, 'learning_rate': 0.01868963926562896, 'max_depth': 7, 'subsample': 0.7859186911412128, 'min_samples_split': 10, 'min_samples_leaf': 3, 'max_features': None}. Best is trial 34 with value: 452.22256715318264.\n",
            "[I 2025-08-15 12:06:18,901] Trial 41 finished with value: 452.876371751379 and parameters: {'n_estimators': 200, 'learning_rate': 0.03919480634554007, 'max_depth': 3, 'subsample': 0.9133070886234508, 'min_samples_split': 2, 'min_samples_leaf': 7, 'max_features': None}. Best is trial 34 with value: 452.22256715318264.\n",
            "[I 2025-08-15 12:06:25,908] Trial 42 finished with value: 452.70018242237586 and parameters: {'n_estimators': 200, 'learning_rate': 0.030085764501825898, 'max_depth': 3, 'subsample': 0.9123625235757336, 'min_samples_split': 3, 'min_samples_leaf': 7, 'max_features': None}. Best is trial 34 with value: 452.22256715318264.\n",
            "[I 2025-08-15 12:06:30,356] Trial 43 finished with value: 460.5820858806131 and parameters: {'n_estimators': 100, 'learning_rate': 0.028698995486003524, 'max_depth': 4, 'subsample': 0.9135427576264465, 'min_samples_split': 3, 'min_samples_leaf': 7, 'max_features': None}. Best is trial 34 with value: 452.22256715318264.\n",
            "[I 2025-08-15 12:06:37,588] Trial 44 finished with value: 453.10550479118336 and parameters: {'n_estimators': 200, 'learning_rate': 0.038468771112534425, 'max_depth': 3, 'subsample': 0.8516158385709676, 'min_samples_split': 3, 'min_samples_leaf': 6, 'max_features': None}. Best is trial 34 with value: 452.22256715318264.\n",
            "[I 2025-08-15 12:06:45,891] Trial 45 finished with value: 453.29490347269 and parameters: {'n_estimators': 200, 'learning_rate': 0.03965576233966249, 'max_depth': 3, 'subsample': 0.8392120114586972, 'min_samples_split': 4, 'min_samples_leaf': 6, 'max_features': None}. Best is trial 34 with value: 452.22256715318264.\n",
            "[I 2025-08-15 12:06:52,992] Trial 46 finished with value: 460.40741677874956 and parameters: {'n_estimators': 200, 'learning_rate': 0.15130874321727403, 'max_depth': 3, 'subsample': 0.860665824649504, 'min_samples_split': 5, 'min_samples_leaf': 7, 'max_features': None}. Best is trial 34 with value: 452.22256715318264.\n",
            "[I 2025-08-15 12:06:56,700] Trial 47 finished with value: 452.96564702555935 and parameters: {'n_estimators': 100, 'learning_rate': 0.07531006014048594, 'max_depth': 3, 'subsample': 0.8877118904889529, 'min_samples_split': 4, 'min_samples_leaf': 7, 'max_features': None}. Best is trial 34 with value: 452.22256715318264.\n",
            "[I 2025-08-15 12:07:00,311] Trial 48 finished with value: 452.7358737089845 and parameters: {'n_estimators': 100, 'learning_rate': 0.07227152240256202, 'max_depth': 3, 'subsample': 0.8768592456745519, 'min_samples_split': 4, 'min_samples_leaf': 7, 'max_features': None}. Best is trial 34 with value: 452.22256715318264.\n",
            "[I 2025-08-15 12:07:04,985] Trial 49 finished with value: 456.700429194756 and parameters: {'n_estimators': 100, 'learning_rate': 0.08366507578592948, 'max_depth': 4, 'subsample': 0.8814930236633955, 'min_samples_split': 5, 'min_samples_leaf': 7, 'max_features': None}. Best is trial 34 with value: 452.22256715318264.\n"
          ]
        }
      ],
      "source": [
        "def objective(trial):\n",
        "    params = {\n",
        "        'n_estimators': trial.suggest_int('n_estimators', 100, 1000, step=100),\n",
        "        'learning_rate': trial.suggest_float('learning_rate', 0.01, 0.2),\n",
        "        'max_depth': trial.suggest_int('max_depth', 3, 10),\n",
        "        'subsample': trial.suggest_float('subsample', 0.7, 1.0),\n",
        "        'min_samples_split': trial.suggest_int('min_samples_split', 2, 10),\n",
        "        'min_samples_leaf': trial.suggest_int('min_samples_leaf', 1, 10),\n",
        "        'max_features': trial.suggest_categorical('max_features', ['sqrt', 'log2', None])\n",
        "    }\n",
        "    model_gbm = GradientBoostingRegressor(**params, random_state=42)\n",
        "    # model.fit(X_train_final, y_train)\n",
        "    # preds = model.predict(X_test_final)\n",
        "    # rmse = np.sqrt(mean_squared_error(y_test, preds))\n",
        "    # return rmse\n",
        "\n",
        "    # Evaluate with 5-fold cross-validation and return the mean RMSE\n",
        "    cv_scores = cross_val_score(\n",
        "        model_gbm,\n",
        "        X_train_final, y_train,\n",
        "        cv=5,\n",
        "        scoring='neg_root_mean_squared_error'\n",
        "    )\n",
        "    return -cv_scores.mean()  # Negative because Optuna minimizes; scoring returns negative RMSE\n",
        "\n",
        "# Optuna study for parameter search\n",
        "study = optuna.create_study(direction='minimize')\n",
        "study.optimize(objective, n_trials=50)"
      ]
    },
    {
      "cell_type": "code",
      "execution_count": 100,
      "metadata": {
        "colab": {
          "base_uri": "https://localhost:8080/"
        },
        "id": "vnp9xMPmeAJb",
        "outputId": "f4d85aa0-a79b-4519-f00e-6c708ce39ef4"
      },
      "outputs": [
        {
          "name": "stdout",
          "output_type": "stream",
          "text": [
            "Best Parameters: {'n_estimators': 200, 'learning_rate': 0.024813609309159372, 'max_depth': 3, 'subsample': 0.8695063611865217, 'min_samples_split': 3, 'min_samples_leaf': 9, 'max_features': None}\n",
            "Train MSE: 198994.9343, RMSE: 446.0885, R²: 0.9201\n",
            "Test  MSE: 232676.9561, RMSE: 482.3660, R²: 0.9078\n"
          ]
        }
      ],
      "source": [
        "# Print the best found parameters\n",
        "print(\"Best Parameters:\", study.best_params)\n",
        "\n",
        "# Fit final model with the best parameters\n",
        "best_params = study.best_params\n",
        "final_model_gbm = GradientBoostingRegressor(**best_params, random_state=42)\n",
        "final_model_gbm.fit(X_train_final, y_train)\n",
        "\n",
        "# Predict for both sets\n",
        "y_train_pred_gbm = final_model_gbm.predict(X_train_final)\n",
        "y_test_pred_gbm = final_model_gbm.predict(X_test_final)\n",
        "\n",
        "# Calculate metrics\n",
        "mse_train_gbm = mean_squared_error(y_train, y_train_pred_gbm)\n",
        "rmse_train_gbm = np.sqrt(mean_squared_error(y_train, y_train_pred_gbm))\n",
        "r2_train_gbm = r2_score(y_train, y_train_pred_gbm)\n",
        "\n",
        "mse_test_gbm = mean_squared_error(y_test, y_test_pred_gbm)\n",
        "rmse_test_gbm = np.sqrt(mean_squared_error(y_test, y_test_pred_gbm))\n",
        "r2_test_gbm = r2_score(y_test, y_test_pred_gbm)\n",
        "\n",
        "print(f\"Train MSE: {mse_train_gbm:.4f}, RMSE: {rmse_train_gbm:.4f}, R²: {r2_train_gbm:.4f}\")\n",
        "print(f\"Test  MSE: {mse_test_gbm:.4f}, RMSE: {rmse_test_gbm:.4f}, R²: {r2_test_gbm:.4f}\")"
      ]
    },
    {
      "cell_type": "markdown",
      "metadata": {
        "id": "-VvtbwfMqPI2"
      },
      "source": [
        "\n",
        "\n",
        "---\n",
        "\n"
      ]
    },
    {
      "cell_type": "markdown",
      "metadata": {
        "id": "oYsmxRTXqMzU"
      },
      "source": [
        "**XGB**"
      ]
    },
    {
      "cell_type": "code",
      "execution_count": 101,
      "metadata": {
        "colab": {
          "base_uri": "https://localhost:8080/"
        },
        "id": "aNW1LBe6RUV4",
        "outputId": "c32091d2-14cc-4a3c-ec90-a7ff0101c9ae"
      },
      "outputs": [
        {
          "name": "stderr",
          "output_type": "stream",
          "text": [
            "[I 2025-08-15 12:07:06,904] A new study created in memory with name: no-name-4ad13b1c-22f3-4187-96c3-65f996caf389\n",
            "[I 2025-08-15 12:07:11,003] Trial 0 finished with value: 478.9578491210938 and parameters: {'n_estimators': 700, 'learning_rate': 0.0052183395641121665, 'max_depth': 6, 'subsample': 0.9540884679618993, 'colsample_bytree': 0.6935196955121206, 'min_child_weight': 1, 'gamma': 0.7254031923299747, 'reg_alpha': 5.441761575753762, 'reg_lambda': 7.168815075735587}. Best is trial 0 with value: 478.9578491210938.\n",
            "[I 2025-08-15 12:07:29,075] Trial 1 finished with value: 527.2236999511719 and parameters: {'n_estimators': 900, 'learning_rate': 0.03899588714040239, 'max_depth': 12, 'subsample': 0.566534493661851, 'colsample_bytree': 0.9004541185203961, 'min_child_weight': 6, 'gamma': 0.4570495227477328, 'reg_alpha': 1.9569886273593917, 'reg_lambda': 7.586244913025152}. Best is trial 0 with value: 478.9578491210938.\n",
            "[I 2025-08-15 12:07:39,601] Trial 2 finished with value: 618.5219604492188 and parameters: {'n_estimators': 850, 'learning_rate': 0.2502794964827665, 'max_depth': 8, 'subsample': 0.7117012656620145, 'colsample_bytree': 0.7294515879560237, 'min_child_weight': 7, 'gamma': 0.4141168392626532, 'reg_alpha': 9.165743728463958, 'reg_lambda': 2.6361260522141294}. Best is trial 0 with value: 478.9578491210938.\n",
            "[I 2025-08-15 12:07:43,622] Trial 3 finished with value: 490.0055419921875 and parameters: {'n_estimators': 350, 'learning_rate': 0.03794907407402026, 'max_depth': 10, 'subsample': 0.5475808144731695, 'colsample_bytree': 0.7720822125446942, 'min_child_weight': 7, 'gamma': 3.4622788931288095, 'reg_alpha': 4.803163281987329, 'reg_lambda': 1.538184839730582}. Best is trial 0 with value: 478.9578491210938.\n",
            "[I 2025-08-15 12:07:46,255] Trial 4 finished with value: 468.2911071777344 and parameters: {'n_estimators': 500, 'learning_rate': 0.20304913708537894, 'max_depth': 3, 'subsample': 0.7324584590122629, 'colsample_bytree': 0.6253584563530481, 'min_child_weight': 1, 'gamma': 0.8843801321920813, 'reg_alpha': 5.400447648379623, 'reg_lambda': 6.993258453065913}. Best is trial 4 with value: 468.2911071777344.\n",
            "[I 2025-08-15 12:07:49,323] Trial 5 finished with value: 757.3248413085937 and parameters: {'n_estimators': 550, 'learning_rate': 0.002483178141020451, 'max_depth': 3, 'subsample': 0.8943829237629699, 'colsample_bytree': 0.6717252921156653, 'min_child_weight': 3, 'gamma': 0.9649883961610167, 'reg_alpha': 4.207987984859064, 'reg_lambda': 3.0061081945569623}. Best is trial 4 with value: 468.2911071777344.\n",
            "[I 2025-08-15 12:07:57,014] Trial 6 finished with value: 486.5945068359375 and parameters: {'n_estimators': 950, 'learning_rate': 0.0035744726961934718, 'max_depth': 6, 'subsample': 0.5098470614907957, 'colsample_bytree': 0.7296013780342976, 'min_child_weight': 9, 'gamma': 0.4423857892261457, 'reg_alpha': 7.665746968477139, 'reg_lambda': 9.892849207216331}. Best is trial 4 with value: 468.2911071777344.\n",
            "[I 2025-08-15 12:07:58,519] Trial 7 finished with value: 584.3210083007813 and parameters: {'n_estimators': 150, 'learning_rate': 0.011396167574810946, 'max_depth': 5, 'subsample': 0.6046068047255719, 'colsample_bytree': 0.865228114280405, 'min_child_weight': 3, 'gamma': 4.477795218957155, 'reg_alpha': 2.522848945174906, 'reg_lambda': 2.7033892413133143}. Best is trial 4 with value: 468.2911071777344.\n",
            "[I 2025-08-15 12:08:09,609] Trial 8 finished with value: 733.4492919921875 and parameters: {'n_estimators': 500, 'learning_rate': 0.0029505271209424163, 'max_depth': 12, 'subsample': 0.7160494566973958, 'colsample_bytree': 0.7923441055207011, 'min_child_weight': 7, 'gamma': 0.007432332437681821, 'reg_alpha': 6.070057869218292, 'reg_lambda': 3.4988608430825474}. Best is trial 4 with value: 468.2911071777344.\n",
            "[I 2025-08-15 12:08:12,610] Trial 9 finished with value: 1189.5041259765626 and parameters: {'n_estimators': 200, 'learning_rate': 0.0023041154205218047, 'max_depth': 10, 'subsample': 0.6606979605491783, 'colsample_bytree': 0.8000645980772326, 'min_child_weight': 2, 'gamma': 2.8980247095728684, 'reg_alpha': 4.18600377618369, 'reg_lambda': 7.855870296939411}. Best is trial 4 with value: 468.2911071777344.\n",
            "[I 2025-08-15 12:08:15,026] Trial 10 finished with value: 466.115380859375 and parameters: {'n_estimators': 450, 'learning_rate': 0.2045647182325336, 'max_depth': 3, 'subsample': 0.8264363757993743, 'colsample_bytree': 0.5106854951125597, 'min_child_weight': 4, 'gamma': 1.7713921070898373, 'reg_alpha': 0.4557737179499579, 'reg_lambda': 5.415966185981899}. Best is trial 10 with value: 466.115380859375.\n",
            "[I 2025-08-15 12:08:17,938] Trial 11 finished with value: 469.7745788574219 and parameters: {'n_estimators': 450, 'learning_rate': 0.24701120473469654, 'max_depth': 3, 'subsample': 0.8212707786782307, 'colsample_bytree': 0.512253459846491, 'min_child_weight': 4, 'gamma': 1.749251409028304, 'reg_alpha': 0.4311397958637312, 'reg_lambda': 5.324657978584881}. Best is trial 10 with value: 466.115380859375.\n",
            "[I 2025-08-15 12:08:22,014] Trial 12 finished with value: 470.54461059570315 and parameters: {'n_estimators': 650, 'learning_rate': 0.0866703547256878, 'max_depth': 4, 'subsample': 0.7993270605803647, 'colsample_bytree': 0.5262093974398989, 'min_child_weight': 1, 'gamma': 1.8150703381546902, 'reg_alpha': 7.141715683458396, 'reg_lambda': 5.642080730684677}. Best is trial 10 with value: 466.115380859375.\n",
            "[I 2025-08-15 12:08:27,130] Trial 13 finished with value: 470.7103637695312 and parameters: {'n_estimators': 300, 'learning_rate': 0.11717747027925883, 'max_depth': 5, 'subsample': 0.8397503881136357, 'colsample_bytree': 0.6044590695299962, 'min_child_weight': 4, 'gamma': 1.5748362105747178, 'reg_alpha': 0.3722679080899823, 'reg_lambda': 6.059246417445652}. Best is trial 10 with value: 466.115380859375.\n",
            "[I 2025-08-15 12:08:31,152] Trial 14 finished with value: 460.9751892089844 and parameters: {'n_estimators': 700, 'learning_rate': 0.09158808408178609, 'max_depth': 3, 'subsample': 0.762974123780308, 'colsample_bytree': 0.6047111498036398, 'min_child_weight': 5, 'gamma': 2.4440434623048013, 'reg_alpha': 2.769225627086448, 'reg_lambda': 9.375695315584895}. Best is trial 14 with value: 460.9751892089844.\n",
            "[I 2025-08-15 12:08:40,794] Trial 15 finished with value: 495.39194946289064 and parameters: {'n_estimators': 800, 'learning_rate': 0.05163747436925554, 'max_depth': 8, 'subsample': 0.8949300095867477, 'colsample_bytree': 0.5765069046480592, 'min_child_weight': 5, 'gamma': 2.531450456389644, 'reg_alpha': 2.316800155001598, 'reg_lambda': 9.811210628577324}. Best is trial 14 with value: 460.9751892089844.\n",
            "[I 2025-08-15 12:08:46,169] Trial 16 finished with value: 460.66502075195314 and parameters: {'n_estimators': 700, 'learning_rate': 0.01735177569668841, 'max_depth': 5, 'subsample': 0.9998217659150028, 'colsample_bytree': 0.5583908647814708, 'min_child_weight': 10, 'gamma': 3.617952708590619, 'reg_alpha': 1.4658702200360187, 'reg_lambda': 0.09894300468442019}. Best is trial 16 with value: 460.66502075195314.\n",
            "[I 2025-08-15 12:08:51,463] Trial 17 finished with value: 462.7826843261719 and parameters: {'n_estimators': 700, 'learning_rate': 0.015409834021711274, 'max_depth': 5, 'subsample': 0.9831809147843233, 'colsample_bytree': 0.990470131891263, 'min_child_weight': 9, 'gamma': 3.900793690917004, 'reg_alpha': 3.169284555758778, 'reg_lambda': 0.1304240873293283}. Best is trial 16 with value: 460.66502075195314.\n",
            "[I 2025-08-15 12:08:59,716] Trial 18 finished with value: 987.3983276367187 and parameters: {'n_estimators': 1000, 'learning_rate': 0.0010381837969738637, 'max_depth': 7, 'subsample': 0.9192241546048933, 'colsample_bytree': 0.5803812131536238, 'min_child_weight': 10, 'gamma': 3.379713763189054, 'reg_alpha': 1.4884777203514052, 'reg_lambda': 8.932728977036188}. Best is trial 16 with value: 460.66502075195314.\n",
            "[I 2025-08-15 12:09:03,255] Trial 19 finished with value: 471.2536987304687 and parameters: {'n_estimators': 650, 'learning_rate': 0.0071045295005662664, 'max_depth': 4, 'subsample': 0.6546273371170794, 'colsample_bytree': 0.6457990615327809, 'min_child_weight': 8, 'gamma': 4.831873623823332, 'reg_alpha': 3.385707022032681, 'reg_lambda': 4.167992957177164}. Best is trial 16 with value: 460.66502075195314.\n",
            "[I 2025-08-15 12:09:07,434] Trial 20 finished with value: 458.2837158203125 and parameters: {'n_estimators': 800, 'learning_rate': 0.02189488595922312, 'max_depth': 4, 'subsample': 0.9991903522580322, 'colsample_bytree': 0.5583543212748079, 'min_child_weight': 6, 'gamma': 2.5309395908197025, 'reg_alpha': 1.2961939820519355, 'reg_lambda': 0.7917770266057318}. Best is trial 20 with value: 458.2837158203125.\n",
            "[I 2025-08-15 12:09:11,943] Trial 21 finished with value: 459.4220886230469 and parameters: {'n_estimators': 800, 'learning_rate': 0.025449399441870055, 'max_depth': 4, 'subsample': 0.9672402981593545, 'colsample_bytree': 0.5557974375669519, 'min_child_weight': 6, 'gamma': 2.4889061651943942, 'reg_alpha': 1.1760772187271182, 'reg_lambda': 0.4381252053017962}. Best is trial 20 with value: 458.2837158203125.\n",
            "[I 2025-08-15 12:09:15,998] Trial 22 finished with value: 459.40073852539064 and parameters: {'n_estimators': 800, 'learning_rate': 0.025173620155192828, 'max_depth': 4, 'subsample': 0.987236479149351, 'colsample_bytree': 0.5467025632678136, 'min_child_weight': 6, 'gamma': 2.9954554197707965, 'reg_alpha': 1.352540853311916, 'reg_lambda': 0.40067470538917815}. Best is trial 20 with value: 458.2837158203125.\n",
            "[I 2025-08-15 12:09:20,375] Trial 23 finished with value: 459.2396545410156 and parameters: {'n_estimators': 800, 'learning_rate': 0.0265008503759823, 'max_depth': 4, 'subsample': 0.9445209359509374, 'colsample_bytree': 0.5444387157628271, 'min_child_weight': 6, 'gamma': 2.9232495662646345, 'reg_alpha': 0.9563833935734289, 'reg_lambda': 1.434440371518373}. Best is trial 20 with value: 458.2837158203125.\n",
            "[I 2025-08-15 12:09:26,699] Trial 24 finished with value: 462.4376220703125 and parameters: {'n_estimators': 800, 'learning_rate': 0.009973642800621924, 'max_depth': 6, 'subsample': 0.9282926572098366, 'colsample_bytree': 0.5004841397386908, 'min_child_weight': 6, 'gamma': 3.0169155860101102, 'reg_alpha': 1.123443247600494, 'reg_lambda': 1.4863468868211887}. Best is trial 20 with value: 458.2837158203125.\n",
            "[I 2025-08-15 12:09:34,394] Trial 25 finished with value: 477.7161804199219 and parameters: {'n_estimators': 900, 'learning_rate': 0.023879855297977724, 'max_depth': 7, 'subsample': 0.8651384356506354, 'colsample_bytree': 0.6544754100796469, 'min_child_weight': 8, 'gamma': 4.137978578805441, 'reg_alpha': 0.08110220940851542, 'reg_lambda': 1.6304228974714294}. Best is trial 20 with value: 458.2837158203125.\n",
            "[I 2025-08-15 12:09:39,073] Trial 26 finished with value: 467.9246032714844 and parameters: {'n_estimators': 1000, 'learning_rate': 0.05145864690624741, 'max_depth': 4, 'subsample': 0.9990945190856165, 'colsample_bytree': 0.5472523068168288, 'min_child_weight': 5, 'gamma': 2.9972224064562787, 'reg_alpha': 3.6593257229284792, 'reg_lambda': 0.9803208159484573}. Best is trial 20 with value: 458.2837158203125.\n",
            "[I 2025-08-15 12:09:42,100] Trial 27 finished with value: 456.81972045898436 and parameters: {'n_estimators': 600, 'learning_rate': 0.024206834418385798, 'max_depth': 4, 'subsample': 0.947501097793451, 'colsample_bytree': 0.6119418691019484, 'min_child_weight': 7, 'gamma': 2.060520412133455, 'reg_alpha': 1.9110051842539437, 'reg_lambda': 0.7735720757486421}. Best is trial 27 with value: 456.81972045898436.\n",
            "[I 2025-08-15 12:09:50,378] Trial 28 finished with value: 476.2929992675781 and parameters: {'n_estimators': 600, 'learning_rate': 0.014205153362130685, 'max_depth': 9, 'subsample': 0.9360330384510387, 'colsample_bytree': 0.7007284457865256, 'min_child_weight': 8, 'gamma': 2.0689607288659086, 'reg_alpha': 2.500375520798144, 'reg_lambda': 4.39405364995269}. Best is trial 27 with value: 456.81972045898436.\n",
            "[I 2025-08-15 12:09:56,003] Trial 29 finished with value: 478.8886962890625 and parameters: {'n_estimators': 750, 'learning_rate': 0.006090452218895048, 'max_depth': 6, 'subsample': 0.9471934710203255, 'colsample_bytree': 0.6075931367000316, 'min_child_weight': 7, 'gamma': 1.3054979901241839, 'reg_alpha': 1.8981146919219087, 'reg_lambda': 2.2591178391431144}. Best is trial 27 with value: 456.81972045898436.\n",
            "[I 2025-08-15 12:10:00,344] Trial 30 finished with value: 459.5741027832031 and parameters: {'n_estimators': 600, 'learning_rate': 0.008532857304794549, 'max_depth': 5, 'subsample': 0.8915429466113446, 'colsample_bytree': 0.6927343318331574, 'min_child_weight': 9, 'gamma': 2.2300400022422253, 'reg_alpha': 1.0479707926497173, 'reg_lambda': 1.0579108491108222}. Best is trial 27 with value: 456.81972045898436.\n",
            "[I 2025-08-15 12:10:04,640] Trial 31 finished with value: 461.5018615722656 and parameters: {'n_estimators': 850, 'learning_rate': 0.029747753079380983, 'max_depth': 4, 'subsample': 0.9597305385235192, 'colsample_bytree': 0.5372896149878191, 'min_child_weight': 6, 'gamma': 2.8528223684099228, 'reg_alpha': 0.7601063815761486, 'reg_lambda': 0.6198493649329042}. Best is trial 27 with value: 456.81972045898436.\n",
            "[I 2025-08-15 12:10:09,078] Trial 32 finished with value: 457.817138671875 and parameters: {'n_estimators': 900, 'learning_rate': 0.01851784614683679, 'max_depth': 4, 'subsample': 0.9588185839588614, 'colsample_bytree': 0.564183355174061, 'min_child_weight': 6, 'gamma': 2.1338561064116335, 'reg_alpha': 1.9498518290386657, 'reg_lambda': 1.9699443402148709}. Best is trial 27 with value: 456.81972045898436.\n",
            "[I 2025-08-15 12:10:14,410] Trial 33 finished with value: 476.63182373046874 and parameters: {'n_estimators': 900, 'learning_rate': 0.05220502083832261, 'max_depth': 5, 'subsample': 0.8661390274485073, 'colsample_bytree': 0.5912970165841359, 'min_child_weight': 7, 'gamma': 1.3442370896896583, 'reg_alpha': 1.9096822623097653, 'reg_lambda': 2.0798578069647884}. Best is trial 27 with value: 456.81972045898436.\n",
            "[I 2025-08-15 12:10:21,617] Trial 34 finished with value: 469.8945678710937 and parameters: {'n_estimators': 950, 'learning_rate': 0.018679104675934623, 'max_depth': 6, 'subsample': 0.9153584593515083, 'colsample_bytree': 0.6331855587778388, 'min_child_weight': 5, 'gamma': 2.2664527119125304, 'reg_alpha': 1.9730674386865166, 'reg_lambda': 1.9551685241376404}. Best is trial 27 with value: 456.81972045898436.\n",
            "[I 2025-08-15 12:10:27,554] Trial 35 finished with value: 460.2677795410156 and parameters: {'n_estimators': 750, 'learning_rate': 0.0329986136394435, 'max_depth': 4, 'subsample': 0.939389244757332, 'colsample_bytree': 0.5696444745226217, 'min_child_weight': 6, 'gamma': 2.666817865557056, 'reg_alpha': 2.9287039844477025, 'reg_lambda': 3.3918030551188423}. Best is trial 27 with value: 456.81972045898436.\n",
            "[I 2025-08-15 12:10:33,064] Trial 36 finished with value: 457.9073059082031 and parameters: {'n_estimators': 900, 'learning_rate': 0.04212410329909841, 'max_depth': 3, 'subsample': 0.956339814292399, 'colsample_bytree': 0.6297195543876827, 'min_child_weight': 7, 'gamma': 2.1280904082870955, 'reg_alpha': 4.618326115257404, 'reg_lambda': 1.085311601112161}. Best is trial 27 with value: 456.81972045898436.\n",
            "[I 2025-08-15 12:10:37,434] Trial 37 finished with value: 465.0919494628906 and parameters: {'n_estimators': 950, 'learning_rate': 0.06772646741988853, 'max_depth': 3, 'subsample': 0.9668698926731687, 'colsample_bytree': 0.6695349928352432, 'min_child_weight': 7, 'gamma': 2.069969538829051, 'reg_alpha': 9.409597739799072, 'reg_lambda': 0.9253221105069713}. Best is trial 27 with value: 456.81972045898436.\n",
            "[I 2025-08-15 12:10:40,751] Trial 38 finished with value: 457.3762451171875 and parameters: {'n_estimators': 850, 'learning_rate': 0.04503171938930555, 'max_depth': 3, 'subsample': 0.8694354104105612, 'colsample_bytree': 0.6217588605085145, 'min_child_weight': 8, 'gamma': 1.1116115360519536, 'reg_alpha': 6.423083148168892, 'reg_lambda': 2.678326276369484}. Best is trial 27 with value: 456.81972045898436.\n",
            "[I 2025-08-15 12:10:44,071] Trial 39 finished with value: 459.156591796875 and parameters: {'n_estimators': 900, 'learning_rate': 0.03992191513625802, 'max_depth': 3, 'subsample': 0.7688078142820167, 'colsample_bytree': 0.7337430339675076, 'min_child_weight': 8, 'gamma': 1.0355285716030806, 'reg_alpha': 6.605046371751397, 'reg_lambda': 2.933892683118478}. Best is trial 27 with value: 456.81972045898436.\n",
            "[I 2025-08-15 12:10:45,517] Trial 40 finished with value: 461.67982177734376 and parameters: {'n_estimators': 350, 'learning_rate': 0.1396492747676007, 'max_depth': 3, 'subsample': 0.8689297401413628, 'colsample_bytree': 0.6954604766838383, 'min_child_weight': 7, 'gamma': 0.8003135616445634, 'reg_alpha': 8.179465243760975, 'reg_lambda': 4.0101640094940105}. Best is trial 27 with value: 456.81972045898436.\n",
            "[I 2025-08-15 12:10:49,403] Trial 41 finished with value: 452.9862854003906 and parameters: {'n_estimators': 850, 'learning_rate': 0.011988680320109682, 'max_depth': 3, 'subsample': 0.9703480250180043, 'colsample_bytree': 0.6217203205997456, 'min_child_weight': 8, 'gamma': 1.5289690306149553, 'reg_alpha': 4.66218063495619, 'reg_lambda': 2.490132845844766}. Best is trial 41 with value: 452.9862854003906.\n",
            "[I 2025-08-15 12:11:04,118] Trial 42 finished with value: 476.10016479492185 and parameters: {'n_estimators': 850, 'learning_rate': 0.012055410460624251, 'max_depth': 11, 'subsample': 0.8896913668464373, 'colsample_bytree': 0.6313327295049721, 'min_child_weight': 8, 'gamma': 1.2913999663000415, 'reg_alpha': 5.196464270684915, 'reg_lambda': 2.367610926300143}. Best is trial 41 with value: 452.9862854003906.\n",
            "[I 2025-08-15 12:11:08,576] Trial 43 finished with value: 458.6961975097656 and parameters: {'n_estimators': 900, 'learning_rate': 0.0405537777220943, 'max_depth': 3, 'subsample': 0.9151769454417231, 'colsample_bytree': 0.7617854904651087, 'min_child_weight': 9, 'gamma': 1.5702805107139537, 'reg_alpha': 5.878301980205964, 'reg_lambda': 3.3326252928936735}. Best is trial 41 with value: 452.9862854003906.\n",
            "[I 2025-08-15 12:11:13,400] Trial 44 finished with value: 465.6882751464844 and parameters: {'n_estimators': 950, 'learning_rate': 0.0053002453082788194, 'max_depth': 3, 'subsample': 0.9644358045067029, 'colsample_bytree': 0.6156559130227486, 'min_child_weight': 7, 'gamma': 0.5025678256792414, 'reg_alpha': 4.530319007903907, 'reg_lambda': 2.5152221366110488}. Best is trial 41 with value: 452.9862854003906.\n",
            "[I 2025-08-15 12:11:19,054] Trial 45 finished with value: 470.12083129882814 and parameters: {'n_estimators': 1000, 'learning_rate': 0.003738498225914255, 'max_depth': 3, 'subsample': 0.8471905569695609, 'colsample_bytree': 0.6668510693932188, 'min_child_weight': 8, 'gamma': 1.8972164286331823, 'reg_alpha': 3.9486429871790323, 'reg_lambda': 1.7967280351799864}. Best is trial 41 with value: 452.9862854003906.\n",
            "[I 2025-08-15 12:11:22,358] Trial 46 finished with value: 463.81174926757814 and parameters: {'n_estimators': 850, 'learning_rate': 0.06940188165799945, 'max_depth': 3, 'subsample': 0.7969824330338487, 'colsample_bytree': 0.7132704385504858, 'min_child_weight': 7, 'gamma': 1.5790936637661845, 'reg_alpha': 4.793632045094965, 'reg_lambda': 1.2555420608448502}. Best is trial 41 with value: 452.9862854003906.\n",
            "[I 2025-08-15 12:11:25,480] Trial 47 finished with value: 458.4173217773438 and parameters: {'n_estimators': 500, 'learning_rate': 0.012204230388089007, 'max_depth': 5, 'subsample': 0.9024060737046424, 'colsample_bytree': 0.866003782206554, 'min_child_weight': 9, 'gamma': 1.103461245565293, 'reg_alpha': 5.939603837315106, 'reg_lambda': 4.663266742416871}. Best is trial 41 with value: 452.9862854003906.\n",
            "[I 2025-08-15 12:11:28,598] Trial 48 finished with value: 456.336767578125 and parameters: {'n_estimators': 750, 'learning_rate': 0.019659127108447513, 'max_depth': 4, 'subsample': 0.9728445689281311, 'colsample_bytree': 0.593568894671956, 'min_child_weight': 8, 'gamma': 1.9444791715062024, 'reg_alpha': 8.042522281881656, 'reg_lambda': 3.6644369056407546}. Best is trial 41 with value: 452.9862854003906.\n",
            "[I 2025-08-15 12:11:32,338] Trial 49 finished with value: 461.0111938476563 and parameters: {'n_estimators': 750, 'learning_rate': 0.0191839231046155, 'max_depth': 5, 'subsample': 0.9749069062350993, 'colsample_bytree': 0.5954907175705708, 'min_child_weight': 8, 'gamma': 0.16353568060080848, 'reg_alpha': 8.595567940819063, 'reg_lambda': 3.628748827573652}. Best is trial 41 with value: 452.9862854003906.\n"
          ]
        },
        {
          "name": "stdout",
          "output_type": "stream",
          "text": [
            "{'n_estimators': 850, 'learning_rate': 0.011988680320109682, 'max_depth': 3, 'subsample': 0.9703480250180043, 'colsample_bytree': 0.6217203205997456, 'min_child_weight': 8, 'gamma': 1.5289690306149553, 'reg_alpha': 4.66218063495619, 'reg_lambda': 2.490132845844766}\n"
          ]
        }
      ],
      "source": [
        "def objective(trial):\n",
        "    params = {\n",
        "        'objective': 'reg:squarederror',\n",
        "        'n_estimators': trial.suggest_int('n_estimators', 100, 1000, step=50),\n",
        "        'learning_rate': trial.suggest_float('learning_rate', 1e-3, 0.3, log=True),\n",
        "        'max_depth': trial.suggest_int('max_depth', 3, 12),\n",
        "        'subsample': trial.suggest_float('subsample', 0.5, 1.0),\n",
        "        'colsample_bytree': trial.suggest_float('colsample_bytree', 0.5, 1.0),\n",
        "        'min_child_weight': trial.suggest_int('min_child_weight', 1, 10),\n",
        "        'gamma': trial.suggest_float('gamma', 0, 5),\n",
        "        'reg_alpha': trial.suggest_float('reg_alpha', 0.0, 10.0),\n",
        "        'reg_lambda': trial.suggest_float('reg_lambda', 0.0, 10.0),\n",
        "        'random_state': 42,\n",
        "        'verbosity': 0\n",
        "    }\n",
        "\n",
        "    model_xgb = XGBRegressor(**params)\n",
        "    # model.fit(X_train_final, y_train)\n",
        "    # preds = model.predict(X_test_final)\n",
        "    # rmse = np.sqrt(mean_squared_error(y_test, preds))\n",
        "    # return rmse\n",
        "\n",
        "    # Evaluate with 5-fold cross-validation and return the mean RMSE\n",
        "    cv_scores = cross_val_score(\n",
        "        model_xgb,\n",
        "        X_train_final, y_train,\n",
        "        cv=5,\n",
        "        scoring='neg_root_mean_squared_error'\n",
        "    )\n",
        "    return -cv_scores.mean()  # Negative because Optuna minimizes; scoring returns negative RMSE\n",
        "\n",
        "study = optuna.create_study(direction='minimize')\n",
        "study.optimize(objective, n_trials=50)\n",
        "\n",
        "print(study.best_params)"
      ]
    },
    {
      "cell_type": "code",
      "execution_count": 102,
      "metadata": {
        "colab": {
          "base_uri": "https://localhost:8080/"
        },
        "id": "HHdwcYgLRUTQ",
        "outputId": "6b2a3705-ec65-4ea0-be79-16a83d1a14d9"
      },
      "outputs": [
        {
          "name": "stdout",
          "output_type": "stream",
          "text": [
            "Best Parameters: {'n_estimators': 850, 'learning_rate': 0.011988680320109682, 'max_depth': 3, 'subsample': 0.9703480250180043, 'colsample_bytree': 0.6217203205997456, 'min_child_weight': 8, 'gamma': 1.5289690306149553, 'reg_alpha': 4.66218063495619, 'reg_lambda': 2.490132845844766}\n",
            "Train MSE: 198214.5156, RMSE: 445.2129, R²: 0.9204\n",
            "Test  MSE: 232759.8750, RMSE: 482.4519, R²: 0.9078\n"
          ]
        }
      ],
      "source": [
        "# Print the best found parameters\n",
        "print(\"Best Parameters:\", study.best_params)\n",
        "\n",
        "# Fit final model with the best parameters\n",
        "best_params = study.best_params\n",
        "final_model_xgb = XGBRegressor(**best_params, random_state=42)\n",
        "final_model_xgb.fit(X_train_final, y_train)\n",
        "\n",
        "# Predict for both sets\n",
        "y_train_pred_xgb = final_model_xgb.predict(X_train_final)\n",
        "y_test_pred_xgb = final_model_xgb.predict(X_test_final)\n",
        "\n",
        "# Calculate metrics\n",
        "mse_train_xgb = mean_squared_error(y_train, y_train_pred_xgb)\n",
        "rmse_train_xgb = np.sqrt(mean_squared_error(y_train, y_train_pred_xgb))\n",
        "r2_train_xgb = r2_score(y_train, y_train_pred_xgb)\n",
        "\n",
        "mse_test_xgb = mean_squared_error(y_test, y_test_pred_xgb)\n",
        "rmse_test_xgb = np.sqrt(mean_squared_error(y_test, y_test_pred_xgb))\n",
        "r2_test_xgb = r2_score(y_test, y_test_pred_xgb)\n",
        "\n",
        "print(f\"Train MSE: {mse_train_xgb:.4f}, RMSE: {rmse_train_xgb:.4f}, R²: {r2_train_xgb:.4f}\")\n",
        "print(f\"Test  MSE: {mse_test_xgb:.4f}, RMSE: {rmse_test_xgb:.4f}, R²: {r2_test_xgb:.4f}\")"
      ]
    },
    {
      "cell_type": "code",
      "execution_count": 103,
      "metadata": {
        "id": "EyizfNYi2Hex"
      },
      "outputs": [],
      "source": [
        "def mape(y_true, y_pred):\n",
        "    y_true, y_pred = np.array(y_true), np.array(y_pred)\n",
        "    return np.mean(np.abs((y_true - y_pred) / y_true)) * 100"
      ]
    },
    {
      "cell_type": "code",
      "execution_count": 104,
      "metadata": {
        "colab": {
          "base_uri": "https://localhost:8080/"
        },
        "id": "q8VuiA1x1Dkn",
        "outputId": "b9c27f9a-0a3b-4651-f5ac-c6ab593fbd80"
      },
      "outputs": [
        {
          "name": "stdout",
          "output_type": "stream",
          "text": [
            "MAPE for XGBoost: 11.58%\n",
            "Regression Accuracy XGBoost: 88.42%\n"
          ]
        }
      ],
      "source": [
        "result_xgb = mape(y_test, y_test_pred_xgb)\n",
        "accuracy_xgb = 100 - result_xgb\n",
        "print(f\"MAPE for XGBoost: {result_xgb:.2f}%\")\n",
        "print(f\"Regression Accuracy XGBoost: {accuracy_xgb:.2f}%\")"
      ]
    },
    {
      "cell_type": "code",
      "execution_count": 105,
      "metadata": {
        "colab": {
          "base_uri": "https://localhost:8080/",
          "height": 237
        },
        "id": "0G7pbS3cpu1f",
        "outputId": "d32136f6-bab8-4c53-a6b9-ac53f3ad5a71"
      },
      "outputs": [
        {
          "data": {
            "text/html": [
              "<div>\n",
              "<style scoped>\n",
              "    .dataframe tbody tr th:only-of-type {\n",
              "        vertical-align: middle;\n",
              "    }\n",
              "\n",
              "    .dataframe tbody tr th {\n",
              "        vertical-align: top;\n",
              "    }\n",
              "\n",
              "    .dataframe thead th {\n",
              "        text-align: right;\n",
              "    }\n",
              "</style>\n",
              "<table border=\"1\" class=\"dataframe\">\n",
              "  <thead>\n",
              "    <tr style=\"text-align: right;\">\n",
              "      <th></th>\n",
              "      <th>feature</th>\n",
              "      <th>importance</th>\n",
              "    </tr>\n",
              "  </thead>\n",
              "  <tbody>\n",
              "    <tr>\n",
              "      <th>0</th>\n",
              "      <td>Total_Defect_Qty</td>\n",
              "      <td>0.989294</td>\n",
              "    </tr>\n",
              "    <tr>\n",
              "      <th>5</th>\n",
              "      <td>Grouped_Material_Type</td>\n",
              "      <td>0.002499</td>\n",
              "    </tr>\n",
              "    <tr>\n",
              "      <th>3</th>\n",
              "      <td>Defect_Category</td>\n",
              "      <td>0.002325</td>\n",
              "    </tr>\n",
              "    <tr>\n",
              "      <th>4</th>\n",
              "      <td>Region</td>\n",
              "      <td>0.002047</td>\n",
              "    </tr>\n",
              "    <tr>\n",
              "      <th>2</th>\n",
              "      <td>Defect_Type</td>\n",
              "      <td>0.001986</td>\n",
              "    </tr>\n",
              "    <tr>\n",
              "      <th>1</th>\n",
              "      <td>Category</td>\n",
              "      <td>0.001848</td>\n",
              "    </tr>\n",
              "  </tbody>\n",
              "</table>\n",
              "</div>"
            ],
            "text/plain": [
              "                 feature  importance\n",
              "0       Total_Defect_Qty    0.989294\n",
              "5  Grouped_Material_Type    0.002499\n",
              "3        Defect_Category    0.002325\n",
              "4                 Region    0.002047\n",
              "2            Defect_Type    0.001986\n",
              "1               Category    0.001848"
            ]
          },
          "execution_count": 105,
          "metadata": {},
          "output_type": "execute_result"
        }
      ],
      "source": [
        "importances = final_model_xgb.feature_importances_\n",
        "features_names = final_model_xgb.feature_names_in_\n",
        "\n",
        "feat_imp_df = pd.DataFrame({'feature': features_names, 'importance': importances})\n",
        "feat_imp_df.sort_values(by='importance', ascending=False, inplace=True)\n",
        "\n",
        "feat_imp_df"
      ]
    },
    {
      "cell_type": "markdown",
      "metadata": {
        "id": "Gt0uoO3X981h"
      },
      "source": [
        "\n",
        "\n",
        "---\n",
        "\n"
      ]
    },
    {
      "cell_type": "code",
      "execution_count": 106,
      "metadata": {
        "colab": {
          "base_uri": "https://localhost:8080/"
        },
        "id": "jHXBmew28E2_",
        "outputId": "b7c586ea-22b2-474d-e005-a17848edde4e"
      },
      "outputs": [
        {
          "data": {
            "text/plain": [
              "array([0.22353644, 4.        , 1.        , 5.        , 1.        ,\n",
              "       2.        ])"
            ]
          },
          "execution_count": 106,
          "metadata": {},
          "output_type": "execute_result"
        }
      ],
      "source": [
        "np.array(X_test_final.iloc[1451,:])"
      ]
    },
    {
      "cell_type": "code",
      "execution_count": 107,
      "metadata": {
        "colab": {
          "base_uri": "https://localhost:8080/"
        },
        "id": "JNoKzcJmRUQn",
        "outputId": "5678417c-4f46-4132-826f-e5d8c1675a44"
      },
      "outputs": [
        {
          "data": {
            "text/plain": [
              "array([4943.55], dtype=float32)"
            ]
          },
          "execution_count": 107,
          "metadata": {},
          "output_type": "execute_result"
        }
      ],
      "source": [
        "final_model_xgb.predict([X_test_final.iloc[1451,:]])"
      ]
    },
    {
      "cell_type": "code",
      "execution_count": 108,
      "metadata": {
        "colab": {
          "base_uri": "https://localhost:8080/"
        },
        "id": "O1u4dC5MRUOA",
        "outputId": "9dd88c4f-69f7-4a1f-898f-b89a54772524"
      },
      "outputs": [
        {
          "data": {
            "text/plain": [
              "np.int64(5000)"
            ]
          },
          "execution_count": 108,
          "metadata": {},
          "output_type": "execute_result"
        }
      ],
      "source": [
        "y_test.iloc[1451]"
      ]
    },
    {
      "cell_type": "code",
      "execution_count": 109,
      "metadata": {
        "colab": {
          "base_uri": "https://localhost:8080/",
          "height": 272
        },
        "id": "a2GORC91LSBs",
        "outputId": "70f13eed-fd75-4b72-b202-09af0d7d5e5f"
      },
      "outputs": [
        {
          "data": {
            "text/plain": [
              "Total_Defect_Qty         0.223536\n",
              "Category                 4.000000\n",
              "Defect_Type              1.000000\n",
              "Defect_Category          5.000000\n",
              "Region                   1.000000\n",
              "Grouped_Material_Type    2.000000\n",
              "Name: 3889, dtype: float64"
            ]
          },
          "execution_count": 109,
          "metadata": {},
          "output_type": "execute_result"
        }
      ],
      "source": [
        "X_test_final.iloc[1451,:]"
      ]
    },
    {
      "cell_type": "markdown",
      "metadata": {
        "id": "92qQtCcuB9S2"
      },
      "source": [
        "\n",
        "\n",
        "---\n",
        "\n"
      ]
    },
    {
      "cell_type": "code",
      "execution_count": 110,
      "metadata": {
        "id": "Lm_6asRmPtEm"
      },
      "outputs": [],
      "source": [
        "# import pickle\n",
        "\n",
        "# # Save both model and scaler together\n",
        "# with open(\"final_model_xgb.pkl\", \"wb\") as f:\n",
        "#     pickle.dump((encoders_dict, scaler, final_model_xgb), f)\n",
        "\n",
        "# from google.colab import files\n",
        "# files.download('final_model_xgb.pkl')"
      ]
    },
    {
      "cell_type": "markdown",
      "metadata": {},
      "source": [
        "## Business Insights & Recommendations\n",
        "\n",
        "### Key Findings\n",
        "- **Main Defect Sources**: Mechanicals (27.4%), Logistics (24.3%), Packaging (15.1%), and Materials & Components (12.5%).\n",
        "- **Top Defect Types**: Foreign Material (19.4%), Misc Support Issues (17.5%), Defects/Bad Quality (15.4%).\n",
        "- **Material Types at Risk**: Raw Materials (26.8%), Corrugate (22.4%), Electrical Components (10.4%), Glass/Composites (10%).\n",
        "- **Regional Trends**: Highest defects in Northeast (32.9%) and Midwest (28.8%).\n",
        "\n",
        "### Defect Impact\n",
        "- Most defects labeled **No Impact** (35.6%), but Impact (29.3%) and Rejection (24.7%) still significant.\n",
        "- Even \"No Impact\" defects cause hidden costs (inspection, rework).\n",
        "\n",
        "### Model Highlights\n",
        "- **Algorithm**: XGBoost Regressor  \n",
        "- **Performance**: Train R² = 0.9199, Test R² = 0.9078, RMSE ≈ 482 → Strong generalization.\n",
        "- **Feature Importance**: Total_Defect_Qty is the dominant predictor (98.6% importance).\n",
        "\n",
        "### Business Conclusions\n",
        "- **Downtime Prediction**: Reliable for operational planning and supplier monitoring.\n",
        "- **Focus Areas**: Mechanicals, Logistics, Packaging; Raw Materials & Corrugate.\n",
        "- **Regional Action**: Prioritize quality audits in Northeast & Midwest.\n",
        "\n",
        "### Recommendations\n",
        "1. **Supplier Quality**: Engage high-defect suppliers, use scorecards, and track defect severity.\n",
        "2. **Material Checks**: Tighten inspections for Raw Materials and Corrugate.\n",
        "3. **Regional Optimization**: Run process capability studies in high-defect regions.\n",
        "4. **Preventive Analytics**: Integrate model predictions into MES for proactive planning.\n",
        "\n",
        "**Note**:  \n",
        "Our predictive model shows that by focusing on reducing total defect quantities especially in mechanical and packaging-related categories, with an emphasis on raw materials and corrugate we can significantly cut downtime and improve supplier quality. Northeast and Midwest regions present the greatest opportunity for quality improvement initiatives. With R² ~0.91, this tool can reliably guide operational planning and supplier negotiations.\n"
      ]
    },
    {
      "cell_type": "markdown",
      "metadata": {
        "id": "C4l6hJXBymmX"
      },
      "source": [
        "# **END**"
      ]
    }
  ],
  "metadata": {
    "colab": {
      "provenance": []
    },
    "kernelspec": {
      "display_name": "venv (3.11.9)",
      "language": "python",
      "name": "python3"
    },
    "language_info": {
      "codemirror_mode": {
        "name": "ipython",
        "version": 3
      },
      "file_extension": ".py",
      "mimetype": "text/x-python",
      "name": "python",
      "nbconvert_exporter": "python",
      "pygments_lexer": "ipython3",
      "version": "3.11.9"
    }
  },
  "nbformat": 4,
  "nbformat_minor": 0
}
